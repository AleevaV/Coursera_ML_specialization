{
 "cells": [
  {
   "cell_type": "code",
   "execution_count": 1,
   "metadata": {},
   "outputs": [],
   "source": [
    "import pandas as pd\n",
    "import numpy as np\n",
    "from collections import Counter, OrderedDict"
   ]
  },
  {
   "cell_type": "markdown",
   "metadata": {},
   "source": [
    "# Описание задачи\n",
    "\n",
    "Небольшой интернет-магазин попросил вас добавить ранжирование товаров в блок \"Смотрели ранее\" - в нем теперь надо показывать не последние просмотренные пользователем товары, а те товары из просмотренных, которые он наиболее вероятно купит. Качество вашего решения будет оцениваться по количеству покупок в сравнении с прошлым решением в ходе А/В теста, т.к. по доходу от продаж статзначимость будет достигаться дольше из-за разброса цен. Таким образом, ничего заранее не зная про корреляцию оффлайновых и онлайновых метрик качества, в начале проекта вы можете лишь постараться оптимизировать recall@k и precision@k.\n",
    "\n",
    "\n",
    "Это задание посвящено построению простых бейзлайнов для этой задачи: ранжирование просмотренных товаров по частоте просмотров и по частоте покупок. Эти бейзлайны, с одной стороны, могут помочь вам грубо оценить возможный эффект от ранжирования товаров в блоке - например, чтобы вписать какие-то числа в коммерческое предложение заказчику, а с другой стороны, могут оказаться самым хорошим вариантом, если данных очень мало (недостаточно для обучения даже простых моделей).\n"
   ]
  },
  {
   "cell_type": "markdown",
   "metadata": {},
   "source": [
    "# Входные данные\n",
    "\n",
    "Вам дается две выборки с пользовательскими сессиями - id-шниками просмотренных и id-шниками купленных товаров. Одна выборка будет использоваться для обучения (оценки популярностей товаров), а другая - для теста.\n",
    "\n",
    "В файлах записаны сессии по одной в каждой строке. Формат сессии: id просмотренных товаров через , затем идёт ; после чего следуют id купленных товаров (если такие имеются), разделённые запятой. Например, 1,2,3,4; или 1,2,3,4;5,6.\n",
    "\n",
    "Гарантируется, что среди id купленных товаров все различные.\n",
    "\n",
    "Важно:\n",
    "\n",
    "Сессии, в которых пользователь ничего не купил, исключаем из оценки качества.\n",
    "Если товар не встречался в обучающей выборке, его популярность равна 0.\n",
    "Рекомендуем разные товары. И их число должно быть не больше, чем количество различных просмотренных пользователем товаров.\n",
    "Рекомендаций всегда не больше, чем минимум из двух чисел: количество просмотренных пользователем товаров и k в recall@k / precision@k."
   ]
  },
  {
   "cell_type": "markdown",
   "metadata": {},
   "source": [
    "Задание\n",
    "\n",
    "1. На обучении постройте частоты появления id в просмотренных и в купленных (id может несколько раз появляться в просмотренных, все появления надо учитывать)\n",
    "\n",
    "2. Реализуйте два алгоритма рекомендаций:\n",
    "    * сортировка просмотренных id по популярности (частота появления в просмотренных),\n",
    "    * сортировка просмотренных id по покупаемости (частота появления в покупках).\n",
    "\n",
    "3. Для данных алгоритмов выпишите через пробел AverageRecall@1, AveragePrecision@1, AverageRecall@5, AveragePrecision@5 на обучающей и тестовых выборках, округляя до 2 знака после запятой. Это будут ваши ответы в этом задании. Посмотрите, как они соотносятся друг с другом. Где качество получилось выше? Значимо ли это различие? Обратите внимание на различие качества на обучающей и тестовой выборке в случае рекомендаций по частотам покупки.\n",
    "\n",
    "\n",
    "Если частота одинаковая, то сортировать нужно по возрастанию момента просмотра (чем раньше появился в просмотренных, тем больше приоритет)\n",
    "\n"
   ]
  },
  {
   "cell_type": "code",
   "execution_count": 2,
   "metadata": {},
   "outputs": [
    {
     "name": "stdout",
     "output_type": "stream",
     "text": [
      "Train data\n",
      "(50000, 2)\n"
     ]
    },
    {
     "data": {
      "text/html": [
       "<div>\n",
       "<style scoped>\n",
       "    .dataframe tbody tr th:only-of-type {\n",
       "        vertical-align: middle;\n",
       "    }\n",
       "\n",
       "    .dataframe tbody tr th {\n",
       "        vertical-align: top;\n",
       "    }\n",
       "\n",
       "    .dataframe thead th {\n",
       "        text-align: right;\n",
       "    }\n",
       "</style>\n",
       "<table border=\"1\" class=\"dataframe\">\n",
       "  <thead>\n",
       "    <tr style=\"text-align: right;\">\n",
       "      <th></th>\n",
       "      <th>viewed</th>\n",
       "      <th>bought</th>\n",
       "    </tr>\n",
       "  </thead>\n",
       "  <tbody>\n",
       "    <tr>\n",
       "      <th>0</th>\n",
       "      <td>[0, 1, 2, 3, 4, 5]</td>\n",
       "      <td>NaN</td>\n",
       "    </tr>\n",
       "    <tr>\n",
       "      <th>1</th>\n",
       "      <td>[9, 10, 11, 9, 11, 12, 9, 11]</td>\n",
       "      <td>NaN</td>\n",
       "    </tr>\n",
       "    <tr>\n",
       "      <th>2</th>\n",
       "      <td>[16, 17, 18, 19, 20, 21]</td>\n",
       "      <td>NaN</td>\n",
       "    </tr>\n",
       "    <tr>\n",
       "      <th>3</th>\n",
       "      <td>[24, 25, 26, 27, 24]</td>\n",
       "      <td>NaN</td>\n",
       "    </tr>\n",
       "    <tr>\n",
       "      <th>4</th>\n",
       "      <td>[34, 35, 36, 34, 37, 35, 36, 37, 38, 39, 38, 39]</td>\n",
       "      <td>NaN</td>\n",
       "    </tr>\n",
       "  </tbody>\n",
       "</table>\n",
       "</div>"
      ],
      "text/plain": [
       "                                             viewed bought\n",
       "0                                [0, 1, 2, 3, 4, 5]    NaN\n",
       "1                     [9, 10, 11, 9, 11, 12, 9, 11]    NaN\n",
       "2                          [16, 17, 18, 19, 20, 21]    NaN\n",
       "3                              [24, 25, 26, 27, 24]    NaN\n",
       "4  [34, 35, 36, 34, 37, 35, 36, 37, 38, 39, 38, 39]    NaN"
      ]
     },
     "execution_count": 2,
     "metadata": {},
     "output_type": "execute_result"
    }
   ],
   "source": [
    "train = pd.read_csv('coursera_sessions_train.txt', sep=';', header=None, names=['viewed','bought'])\n",
    "train['viewed'] = train.viewed.str.split(',')\n",
    "train['bought'] = train.bought.str.split(',')\n",
    "print('Train data')\n",
    "print(train.shape)\n",
    "train.head()"
   ]
  },
  {
   "cell_type": "code",
   "execution_count": 3,
   "metadata": {},
   "outputs": [
    {
     "name": "stdout",
     "output_type": "stream",
     "text": [
      "Test data\n",
      "(3665, 2)\n"
     ]
    },
    {
     "data": {
      "text/html": [
       "<div>\n",
       "<style scoped>\n",
       "    .dataframe tbody tr th:only-of-type {\n",
       "        vertical-align: middle;\n",
       "    }\n",
       "\n",
       "    .dataframe tbody tr th {\n",
       "        vertical-align: top;\n",
       "    }\n",
       "\n",
       "    .dataframe thead th {\n",
       "        text-align: right;\n",
       "    }\n",
       "</style>\n",
       "<table border=\"1\" class=\"dataframe\">\n",
       "  <thead>\n",
       "    <tr style=\"text-align: right;\">\n",
       "      <th></th>\n",
       "      <th>viewed</th>\n",
       "      <th>bought</th>\n",
       "    </tr>\n",
       "  </thead>\n",
       "  <tbody>\n",
       "    <tr>\n",
       "      <th>7</th>\n",
       "      <td>[63, 68, 69, 70, 66, 61, 59, 61, 66, 68]</td>\n",
       "      <td>[66, 63]</td>\n",
       "    </tr>\n",
       "    <tr>\n",
       "      <th>14</th>\n",
       "      <td>[158, 159, 160, 159, 161, 162]</td>\n",
       "      <td>[162]</td>\n",
       "    </tr>\n",
       "    <tr>\n",
       "      <th>19</th>\n",
       "      <td>[200, 201, 202, 203, 204]</td>\n",
       "      <td>[201, 205]</td>\n",
       "    </tr>\n",
       "    <tr>\n",
       "      <th>34</th>\n",
       "      <td>[371, 372, 371]</td>\n",
       "      <td>[371, 373]</td>\n",
       "    </tr>\n",
       "    <tr>\n",
       "      <th>40</th>\n",
       "      <td>[422]</td>\n",
       "      <td>[422]</td>\n",
       "    </tr>\n",
       "  </tbody>\n",
       "</table>\n",
       "</div>"
      ],
      "text/plain": [
       "                                      viewed      bought\n",
       "7   [63, 68, 69, 70, 66, 61, 59, 61, 66, 68]    [66, 63]\n",
       "14            [158, 159, 160, 159, 161, 162]       [162]\n",
       "19                 [200, 201, 202, 203, 204]  [201, 205]\n",
       "34                           [371, 372, 371]  [371, 373]\n",
       "40                                     [422]       [422]"
      ]
     },
     "execution_count": 3,
     "metadata": {},
     "output_type": "execute_result"
    }
   ],
   "source": [
    "test = pd.read_csv('coursera_sessions_test.txt', sep=';', header=None, names=['viewed','bought']).dropna()\n",
    "test['viewed'] = test.viewed.str.split(',')\n",
    "test['bought'] = test.bought.str.split(',')\n",
    "print('Test data')\n",
    "print(test.shape)\n",
    "test.head()"
   ]
  },
  {
   "cell_type": "markdown",
   "metadata": {},
   "source": [
    "## Сортировка по просмотренным"
   ]
  },
  {
   "cell_type": "code",
   "execution_count": 4,
   "metadata": {},
   "outputs": [],
   "source": [
    "all_viewed = train.viewed.to_list()\n",
    "\n",
    "products_viewed = []\n",
    "for ses in all_viewed:\n",
    "    for item in ses:\n",
    "        products_viewed.append(item)\n",
    "        \n",
    "freq_dict_v = dict(Counter(products_viewed))"
   ]
  },
  {
   "cell_type": "code",
   "execution_count": 5,
   "metadata": {},
   "outputs": [],
   "source": [
    "train = train.dropna()"
   ]
  },
  {
   "cell_type": "markdown",
   "metadata": {},
   "source": [
    "## Сортировка по купленным"
   ]
  },
  {
   "cell_type": "code",
   "execution_count": 6,
   "metadata": {},
   "outputs": [],
   "source": [
    "all_bought = train.bought.to_list()\n",
    "\n",
    "products_bought = []\n",
    "for ses in all_bought:\n",
    "    for item in ses:\n",
    "        products_bought.append(item)\n",
    "        \n",
    "freq_dict_b = dict(Counter(products_bought))\n"
   ]
  },
  {
   "cell_type": "markdown",
   "metadata": {},
   "source": [
    "# Составление рекомендаций"
   ]
  },
  {
   "cell_type": "code",
   "execution_count": 55,
   "metadata": {},
   "outputs": [],
   "source": [
    "def sort_by_dict(session, sort_dict):\n",
    "    item_freq = pd.DataFrame(columns=['item','pos','freq'])\n",
    "    unique = pd.unique(session)\n",
    "    for i, item in enumerate(unique):\n",
    "        if item in sort_dict:\n",
    "            item_freq.loc[i] = [item, i, sort_dict[item]]\n",
    "            item_freq.sort_values(by=['freq','pos'], ascending=[False,True],inplace=True)\n",
    "        else:\n",
    "            item_freq.loc[i] = [item, i , 0]\n",
    "            item_freq.sort_values(by=['freq','pos'], ascending=[False,True],inplace=True)\n",
    "#     a = pd.DataFrame(item_freq, columns=['item','pos','freq'])\n",
    "#     sorted_items = a.sort_values(by=['freq','pos'], ascending=[False,True])['item'].values[:5]\n",
    "    \n",
    "    return item_freq.iloc[:,0].values[:5]"
   ]
  },
  {
   "cell_type": "code",
   "execution_count": 56,
   "metadata": {},
   "outputs": [
    {
     "name": "stdout",
     "output_type": "stream",
     "text": [
      "Wall time: 3min 51s\n"
     ]
    },
    {
     "data": {
      "text/html": [
       "<div>\n",
       "<style scoped>\n",
       "    .dataframe tbody tr th:only-of-type {\n",
       "        vertical-align: middle;\n",
       "    }\n",
       "\n",
       "    .dataframe tbody tr th {\n",
       "        vertical-align: top;\n",
       "    }\n",
       "\n",
       "    .dataframe thead th {\n",
       "        text-align: right;\n",
       "    }\n",
       "</style>\n",
       "<table border=\"1\" class=\"dataframe\">\n",
       "  <thead>\n",
       "    <tr style=\"text-align: right;\">\n",
       "      <th></th>\n",
       "      <th>viewed</th>\n",
       "      <th>bought</th>\n",
       "      <th>recomendation_by_viewed</th>\n",
       "      <th>recomendation_by_bought</th>\n",
       "      <th>ARec_1b</th>\n",
       "      <th>ARec_1v</th>\n",
       "      <th>APr_1b</th>\n",
       "      <th>APr_1v</th>\n",
       "      <th>ARec_5b</th>\n",
       "      <th>ARec_5v</th>\n",
       "      <th>APr_5b</th>\n",
       "      <th>APr_5v</th>\n",
       "    </tr>\n",
       "  </thead>\n",
       "  <tbody>\n",
       "    <tr>\n",
       "      <th>7</th>\n",
       "      <td>[59, 60, 61, 62, 60, 63, 64, 65, 66, 61, 67, 6...</td>\n",
       "      <td>[67, 60, 63]</td>\n",
       "      <td>[63, 64, 60, 61, 65]</td>\n",
       "      <td>[60, 63, 67, 59, 61]</td>\n",
       "      <td>0.333333</td>\n",
       "      <td>0.333333</td>\n",
       "      <td>1</td>\n",
       "      <td>1</td>\n",
       "      <td>0.666667</td>\n",
       "      <td>0.666667</td>\n",
       "      <td>0.4</td>\n",
       "      <td>0.4</td>\n",
       "    </tr>\n",
       "    <tr>\n",
       "      <th>10</th>\n",
       "      <td>[84, 85, 86, 87, 88, 89, 84, 90, 91, 92, 93, 86]</td>\n",
       "      <td>[86]</td>\n",
       "      <td>[85, 93, 89, 90, 84]</td>\n",
       "      <td>[86, 85, 93, 84, 87]</td>\n",
       "      <td>1</td>\n",
       "      <td>0</td>\n",
       "      <td>1</td>\n",
       "      <td>0</td>\n",
       "      <td>1</td>\n",
       "      <td>1</td>\n",
       "      <td>0.2</td>\n",
       "      <td>0.2</td>\n",
       "    </tr>\n",
       "    <tr>\n",
       "      <th>19</th>\n",
       "      <td>[138, 198, 199, 127]</td>\n",
       "      <td>[199]</td>\n",
       "      <td>[127, 138, 198, 199]</td>\n",
       "      <td>[138, 199, 127, 198]</td>\n",
       "      <td>0</td>\n",
       "      <td>0</td>\n",
       "      <td>0</td>\n",
       "      <td>0</td>\n",
       "      <td>1</td>\n",
       "      <td>1</td>\n",
       "      <td>0.2</td>\n",
       "      <td>0.2</td>\n",
       "    </tr>\n",
       "    <tr>\n",
       "      <th>30</th>\n",
       "      <td>[303, 304, 305, 306, 307, 308, 309, 310, 311, ...</td>\n",
       "      <td>[303]</td>\n",
       "      <td>[303, 306, 304, 307, 309]</td>\n",
       "      <td>[303, 304, 305, 306, 307]</td>\n",
       "      <td>1</td>\n",
       "      <td>1</td>\n",
       "      <td>1</td>\n",
       "      <td>1</td>\n",
       "      <td>1</td>\n",
       "      <td>1</td>\n",
       "      <td>0.2</td>\n",
       "      <td>0.2</td>\n",
       "    </tr>\n",
       "    <tr>\n",
       "      <th>33</th>\n",
       "      <td>[352, 353, 352]</td>\n",
       "      <td>[352]</td>\n",
       "      <td>[352, 353]</td>\n",
       "      <td>[352, 353]</td>\n",
       "      <td>1</td>\n",
       "      <td>1</td>\n",
       "      <td>1</td>\n",
       "      <td>1</td>\n",
       "      <td>1</td>\n",
       "      <td>1</td>\n",
       "      <td>0.2</td>\n",
       "      <td>0.2</td>\n",
       "    </tr>\n",
       "  </tbody>\n",
       "</table>\n",
       "</div>"
      ],
      "text/plain": [
       "                                               viewed        bought  \\\n",
       "7   [59, 60, 61, 62, 60, 63, 64, 65, 66, 61, 67, 6...  [67, 60, 63]   \n",
       "10   [84, 85, 86, 87, 88, 89, 84, 90, 91, 92, 93, 86]          [86]   \n",
       "19                               [138, 198, 199, 127]         [199]   \n",
       "30  [303, 304, 305, 306, 307, 308, 309, 310, 311, ...         [303]   \n",
       "33                                    [352, 353, 352]         [352]   \n",
       "\n",
       "      recomendation_by_viewed    recomendation_by_bought   ARec_1b   ARec_1v  \\\n",
       "7        [63, 64, 60, 61, 65]       [60, 63, 67, 59, 61]  0.333333  0.333333   \n",
       "10       [85, 93, 89, 90, 84]       [86, 85, 93, 84, 87]         1         0   \n",
       "19       [127, 138, 198, 199]       [138, 199, 127, 198]         0         0   \n",
       "30  [303, 306, 304, 307, 309]  [303, 304, 305, 306, 307]         1         1   \n",
       "33                 [352, 353]                 [352, 353]         1         1   \n",
       "\n",
       "   APr_1b APr_1v   ARec_5b   ARec_5v APr_5b APr_5v  \n",
       "7       1      1  0.666667  0.666667    0.4    0.4  \n",
       "10      1      0         1         1    0.2    0.2  \n",
       "19      0      0         1         1    0.2    0.2  \n",
       "30      1      1         1         1    0.2    0.2  \n",
       "33      1      1         1         1    0.2    0.2  "
      ]
     },
     "execution_count": 56,
     "metadata": {},
     "output_type": "execute_result"
    }
   ],
   "source": [
    "%%time\n",
    "train['recomendation_by_viewed'] = train.viewed.apply(lambda x: sort_by_dict(x, freq_dict_v))\n",
    "train['recomendation_by_bought'] = train.viewed.apply(lambda x: sort_by_dict(x, freq_dict_b))\n",
    "train.head()"
   ]
  },
  {
   "cell_type": "code",
   "execution_count": 57,
   "metadata": {},
   "outputs": [
    {
     "name": "stdout",
     "output_type": "stream",
     "text": [
      "Wall time: 3min 56s\n"
     ]
    },
    {
     "data": {
      "text/html": [
       "<div>\n",
       "<style scoped>\n",
       "    .dataframe tbody tr th:only-of-type {\n",
       "        vertical-align: middle;\n",
       "    }\n",
       "\n",
       "    .dataframe tbody tr th {\n",
       "        vertical-align: top;\n",
       "    }\n",
       "\n",
       "    .dataframe thead th {\n",
       "        text-align: right;\n",
       "    }\n",
       "</style>\n",
       "<table border=\"1\" class=\"dataframe\">\n",
       "  <thead>\n",
       "    <tr style=\"text-align: right;\">\n",
       "      <th></th>\n",
       "      <th>viewed</th>\n",
       "      <th>bought</th>\n",
       "      <th>recomendation_by_viewed</th>\n",
       "      <th>recomendation_by_bought</th>\n",
       "      <th>ARec_1b</th>\n",
       "      <th>ARec_1v</th>\n",
       "      <th>APr_1b</th>\n",
       "      <th>APr_1v</th>\n",
       "      <th>ARec_5b</th>\n",
       "      <th>ARec_5v</th>\n",
       "      <th>APr_5b</th>\n",
       "      <th>APr_5v</th>\n",
       "    </tr>\n",
       "  </thead>\n",
       "  <tbody>\n",
       "    <tr>\n",
       "      <th>7</th>\n",
       "      <td>[63, 68, 69, 70, 66, 61, 59, 61, 66, 68]</td>\n",
       "      <td>[66, 63]</td>\n",
       "      <td>[63, 68, 66, 61, 59]</td>\n",
       "      <td>[63, 68, 69, 70, 66]</td>\n",
       "      <td>0.5</td>\n",
       "      <td>0.5</td>\n",
       "      <td>1</td>\n",
       "      <td>1</td>\n",
       "      <td>1</td>\n",
       "      <td>1</td>\n",
       "      <td>0.4</td>\n",
       "      <td>0.4</td>\n",
       "    </tr>\n",
       "    <tr>\n",
       "      <th>14</th>\n",
       "      <td>[158, 159, 160, 159, 161, 162]</td>\n",
       "      <td>[162]</td>\n",
       "      <td>[158, 162, 160, 159, 161]</td>\n",
       "      <td>[158, 162, 160, 159, 161]</td>\n",
       "      <td>0</td>\n",
       "      <td>0</td>\n",
       "      <td>0</td>\n",
       "      <td>0</td>\n",
       "      <td>1</td>\n",
       "      <td>1</td>\n",
       "      <td>0.2</td>\n",
       "      <td>0.2</td>\n",
       "    </tr>\n",
       "    <tr>\n",
       "      <th>19</th>\n",
       "      <td>[200, 201, 202, 203, 204]</td>\n",
       "      <td>[201, 205]</td>\n",
       "      <td>[204, 202, 203, 200, 201]</td>\n",
       "      <td>[204, 202, 200, 201, 203]</td>\n",
       "      <td>0</td>\n",
       "      <td>0</td>\n",
       "      <td>0</td>\n",
       "      <td>0</td>\n",
       "      <td>0.5</td>\n",
       "      <td>0.5</td>\n",
       "      <td>0.2</td>\n",
       "      <td>0.2</td>\n",
       "    </tr>\n",
       "    <tr>\n",
       "      <th>34</th>\n",
       "      <td>[371, 372, 371]</td>\n",
       "      <td>[371, 373]</td>\n",
       "      <td>[371, 372]</td>\n",
       "      <td>[371, 372]</td>\n",
       "      <td>0.5</td>\n",
       "      <td>0.5</td>\n",
       "      <td>1</td>\n",
       "      <td>1</td>\n",
       "      <td>0.5</td>\n",
       "      <td>0.5</td>\n",
       "      <td>0.2</td>\n",
       "      <td>0.2</td>\n",
       "    </tr>\n",
       "    <tr>\n",
       "      <th>40</th>\n",
       "      <td>[422]</td>\n",
       "      <td>[422]</td>\n",
       "      <td>[422]</td>\n",
       "      <td>[422]</td>\n",
       "      <td>1</td>\n",
       "      <td>1</td>\n",
       "      <td>1</td>\n",
       "      <td>1</td>\n",
       "      <td>1</td>\n",
       "      <td>1</td>\n",
       "      <td>0.2</td>\n",
       "      <td>0.2</td>\n",
       "    </tr>\n",
       "  </tbody>\n",
       "</table>\n",
       "</div>"
      ],
      "text/plain": [
       "                                      viewed      bought  \\\n",
       "7   [63, 68, 69, 70, 66, 61, 59, 61, 66, 68]    [66, 63]   \n",
       "14            [158, 159, 160, 159, 161, 162]       [162]   \n",
       "19                 [200, 201, 202, 203, 204]  [201, 205]   \n",
       "34                           [371, 372, 371]  [371, 373]   \n",
       "40                                     [422]       [422]   \n",
       "\n",
       "      recomendation_by_viewed    recomendation_by_bought ARec_1b ARec_1v  \\\n",
       "7        [63, 68, 66, 61, 59]       [63, 68, 69, 70, 66]     0.5     0.5   \n",
       "14  [158, 162, 160, 159, 161]  [158, 162, 160, 159, 161]       0       0   \n",
       "19  [204, 202, 203, 200, 201]  [204, 202, 200, 201, 203]       0       0   \n",
       "34                 [371, 372]                 [371, 372]     0.5     0.5   \n",
       "40                      [422]                      [422]       1       1   \n",
       "\n",
       "   APr_1b APr_1v ARec_5b ARec_5v APr_5b APr_5v  \n",
       "7       1      1       1       1    0.4    0.4  \n",
       "14      0      0       1       1    0.2    0.2  \n",
       "19      0      0     0.5     0.5    0.2    0.2  \n",
       "34      1      1     0.5     0.5    0.2    0.2  \n",
       "40      1      1       1       1    0.2    0.2  "
      ]
     },
     "execution_count": 57,
     "metadata": {},
     "output_type": "execute_result"
    }
   ],
   "source": [
    "%%time\n",
    "test['recomendation_by_viewed'] = test.viewed.apply(lambda x: sort_by_dict(x, freq_dict_v))\n",
    "test['recomendation_by_bought'] = test.viewed.apply(lambda x: sort_by_dict(x, freq_dict_b))\n",
    "test.head()"
   ]
  },
  {
   "cell_type": "markdown",
   "metadata": {},
   "source": [
    "# Расчет метрик"
   ]
  },
  {
   "cell_type": "code",
   "execution_count": 58,
   "metadata": {},
   "outputs": [],
   "source": [
    "def metrics(rec, true):\n",
    "    \n",
    "    APr_1 = len(set(rec[:1]).intersection(true)) \n",
    "    ARec_1 = len(set(rec[:1]).intersection(true))/len(true)\n",
    "    APr_5 = len(set(rec).intersection(true))/5\n",
    "    ARec_5 = len(set(rec).intersection(true))/len(true) \n",
    "    \n",
    "    return [ARec_1, APr_1, ARec_5, APr_5]"
   ]
  },
  {
   "cell_type": "markdown",
   "metadata": {},
   "source": [
    "## Подсчет метрик на обучающих данных"
   ]
  },
  {
   "cell_type": "code",
   "execution_count": 59,
   "metadata": {},
   "outputs": [
    {
     "name": "stdout",
     "output_type": "stream",
     "text": [
      "Wall time: 5.42 s\n"
     ]
    }
   ],
   "source": [
    "%%time\n",
    "for i, metr in enumerate(['ARec_1', 'APr_1', 'ARec_5', 'APr_5'],0):\n",
    "    train[metr+'b'] = None\n",
    "    train[metr+'v'] = None\n",
    "    for j in range(train.shape[0]):\n",
    "        train[metr+'b'].iloc[j] = metrics(train['recomendation_by_bought'].iloc[j],\n",
    "                                          train['bought'].iloc[j])[i]\n",
    "        train[metr+'v'].iloc[j] = metrics(train['recomendation_by_viewed'].iloc[j],\n",
    "                                          train['bought'].iloc[j])[i]\n"
   ]
  },
  {
   "cell_type": "markdown",
   "metadata": {},
   "source": [
    "## Подсчет метрик на тестовых данных"
   ]
  },
  {
   "cell_type": "code",
   "execution_count": 60,
   "metadata": {},
   "outputs": [
    {
     "name": "stdout",
     "output_type": "stream",
     "text": [
      "Wall time: 5.12 s\n"
     ]
    }
   ],
   "source": [
    "%%time\n",
    "for i, metr in enumerate(['ARec_1', 'APr_1', 'ARec_5', 'APr_5'],0):\n",
    "    test[metr+'b'] = None\n",
    "    test[metr+'v'] = None\n",
    "    for j in range(test.shape[0]):\n",
    "        test[metr+'b'].iloc[j] = metrics(test['recomendation_by_bought'].iloc[j],\n",
    "                                         test['bought'].iloc[j])[i]\n",
    "        test[metr+'v'].iloc[j] = metrics(test['recomendation_by_viewed'].iloc[j],\n",
    "                                         test['bought'].iloc[j])[i]\n",
    "    "
   ]
  },
  {
   "cell_type": "markdown",
   "metadata": {},
   "source": [
    "Для данных алгоритмов выпишите через пробел AverageRecall@1, AveragePrecision@1, AverageRecall@5, AveragePrecision@5 на обучающей и тестовых выборках, округляя до 2 знака после запятой"
   ]
  },
  {
   "cell_type": "code",
   "execution_count": 53,
   "metadata": {},
   "outputs": [],
   "source": [
    "viewed_alg_train_mean = train[['ARec_1v', 'APr_1v', 'ARec_5v', 'APr_5v']].mean().round(2).values\n",
    "viewed_alg_test_mean = test[['ARec_1v', 'APr_1v', 'ARec_5v', 'APr_5v']].mean().round(2).values\n",
    "bought_alg_train_mean = train[['ARec_1b', 'APr_1b', 'ARec_5b', 'APr_5b']].mean().round(2).values\n",
    "bought_alg_test_mean = test[['ARec_1b', 'APr_1b', 'ARec_5b', 'APr_5b']].mean().round(2).values"
   ]
  },
  {
   "cell_type": "code",
   "execution_count": 54,
   "metadata": {},
   "outputs": [
    {
     "name": "stdout",
     "output_type": "stream",
     "text": [
      "AverageRecall@1, AveragePrecision@1, AverageRecall@5, AveragePrecision@5\n",
      "сотрировка по просомтренным обуч. данные    [0.45 0.52 0.82 0.21]\n",
      "сотрировка по просомтренным тестовые данные [0.42 0.49 0.82 0.21]\n",
      "сотрировка по купленным обуч. данные        [0.67 0.78 0.82 0.21]\n",
      "сотрировка по купленным тестовые данные     [0.47 0.54 0.82 0.21]\n"
     ]
    }
   ],
   "source": [
    "print('AverageRecall@1, AveragePrecision@1, AverageRecall@5, AveragePrecision@5')\n",
    "print('сотрировка по просомтренным обуч. данные   ',viewed_alg_train_mean)\n",
    "print('сотрировка по просомтренным тестовые данные',viewed_alg_test_mean)\n",
    "print('сотрировка по купленным обуч. данные       ',bought_alg_train_mean)\n",
    "print('сотрировка по купленным тестовые данные    ',bought_alg_test_mean)"
   ]
  },
  {
   "cell_type": "code",
   "execution_count": 32,
   "metadata": {},
   "outputs": [],
   "source": [
    "def write_answer(x, n):\n",
    "    with open(\"answer_{}.txt\".format(n), \"w\") as fout:\n",
    "        s = ' '.join([str(i) for i in x])\n",
    "        fout.write(s)"
   ]
  },
  {
   "cell_type": "code",
   "execution_count": 33,
   "metadata": {},
   "outputs": [],
   "source": [
    "answers = [viewed_alg_train_mean,\n",
    "           viewed_alg_test_mean,\n",
    "           bought_alg_train_mean,\n",
    "           bought_alg_test_mean]\n",
    "for i in range(len(answers)):\n",
    "    write_answer(answers[i], i+1)"
   ]
  },
  {
   "cell_type": "markdown",
   "metadata": {},
   "source": [
    "# Дополнительные вопросы\n",
    "\n",
    "Обратите внимание, что при сортировке по покупаемости возникает много товаров с одинаковым рангом - это означает, что значение метрик будет зависеть от того, как мы будем сортировать товары с одинаковым рангом. Попробуйте убедиться, что при изменении сортировки таких товаров recall@k меняется. Подумайте, как оценить минимальное и максимальное значение recall@k в зависимости от правила сортировки.\n",
    "\n",
    "Мы обучаемся и тестируемся на полных сессиях (в которых есть все просмотренные за сессию товары). Подумайте, почему полученная нами оценка качества рекомендаций в этом случае несколько завышена."
   ]
  },
  {
   "cell_type": "code",
   "execution_count": null,
   "metadata": {},
   "outputs": [],
   "source": []
  }
 ],
 "metadata": {
  "kernelspec": {
   "display_name": "Python 3",
   "language": "python",
   "name": "python3"
  },
  "language_info": {
   "codemirror_mode": {
    "name": "ipython",
    "version": 3
   },
   "file_extension": ".py",
   "mimetype": "text/x-python",
   "name": "python",
   "nbconvert_exporter": "python",
   "pygments_lexer": "ipython3",
   "version": "3.7.4"
  },
  "toc": {
   "base_numbering": 1,
   "nav_menu": {},
   "number_sections": true,
   "sideBar": true,
   "skip_h1_title": false,
   "title_cell": "Table of Contents",
   "title_sidebar": "Contents",
   "toc_cell": false,
   "toc_position": {},
   "toc_section_display": true,
   "toc_window_display": false
  }
 },
 "nbformat": 4,
 "nbformat_minor": 2
}
