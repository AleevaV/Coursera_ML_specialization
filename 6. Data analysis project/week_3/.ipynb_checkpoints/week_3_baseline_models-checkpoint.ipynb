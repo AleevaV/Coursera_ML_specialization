{
 "cells": [
  {
   "cell_type": "code",
   "execution_count": 1,
   "metadata": {},
   "outputs": [],
   "source": [
    "import pandas as pd\n",
    "import numpy as np\n",
    "import matplotlib.pyplot as plt\n",
    "import warnings\n",
    "from sklearn.preprocessing import OrdinalEncoder\n",
    "from collections import Counter\n",
    "from sklearn.ensemble import RandomForestClassifier\n",
    "from sklearn.ensemble import GradientBoostingClassifier\n",
    "from sklearn.linear_model import LogisticRegression\n",
    "from sklearn.model_selection import cross_validate\n",
    "from sklearn.model_selection import StratifiedKFold\n",
    "\n",
    "warnings.filterwarnings(\"ignore\")"
   ]
  },
  {
   "cell_type": "markdown",
   "metadata": {},
   "source": [
    "# Peer-graded Assignment: Построение baseline-решений\n",
    "\n",
    "Обучите 3 разные baseline-модели на полученных наборах данных и оцените их качество. На прошлой неделе вы выбрали методику оценки качества моделей на основе кросс-валидации, а также основную и вспомогательные метрики. Оцените с их помощью получившуюся модель. Обратите внимание, что под разными моделями понимаются именно разные алгоритмы классификации. Например, 2 модели, реализующие метод k ближайших соседей с разными k, будут считаться одним baseline-решением (хотя и с разными параметрами). Напоминаем, что отложенная выборка (hold-out dataset) не должна использоваться для построения и оценки baseline-моделей!\n",
    "\n",
    "Можно (но не обязательно) рассмотреть следующий набор алгоритмов:\n",
    "\n",
    "* Линейная модель (например, реализация sklearn.linear_model.RidgeClassifier)\n",
    "* Случайный лес (например, реализация sklearn.ensemble.RandomForestClassifier)\n",
    "* Градиентный бустинг (например, реализация sklearn.ensemble.GradientBoostingClassifier)"
   ]
  },
  {
   "cell_type": "code",
   "execution_count": 2,
   "metadata": {},
   "outputs": [
    {
     "data": {
      "text/html": [
       "<div>\n",
       "<style scoped>\n",
       "    .dataframe tbody tr th:only-of-type {\n",
       "        vertical-align: middle;\n",
       "    }\n",
       "\n",
       "    .dataframe tbody tr th {\n",
       "        vertical-align: top;\n",
       "    }\n",
       "\n",
       "    .dataframe thead th {\n",
       "        text-align: right;\n",
       "    }\n",
       "</style>\n",
       "<table border=\"1\" class=\"dataframe\">\n",
       "  <thead>\n",
       "    <tr style=\"text-align: right;\">\n",
       "      <th></th>\n",
       "      <th>Var1</th>\n",
       "      <th>Var2</th>\n",
       "      <th>Var3</th>\n",
       "      <th>Var4</th>\n",
       "      <th>Var5</th>\n",
       "      <th>Var6</th>\n",
       "      <th>Var7</th>\n",
       "      <th>Var8</th>\n",
       "      <th>Var9</th>\n",
       "      <th>Var10</th>\n",
       "      <th>...</th>\n",
       "      <th>Var222</th>\n",
       "      <th>Var223</th>\n",
       "      <th>Var224</th>\n",
       "      <th>Var225</th>\n",
       "      <th>Var226</th>\n",
       "      <th>Var227</th>\n",
       "      <th>Var228</th>\n",
       "      <th>Var229</th>\n",
       "      <th>Var230</th>\n",
       "      <th>label</th>\n",
       "    </tr>\n",
       "  </thead>\n",
       "  <tbody>\n",
       "    <tr>\n",
       "      <th>0</th>\n",
       "      <td>NaN</td>\n",
       "      <td>NaN</td>\n",
       "      <td>NaN</td>\n",
       "      <td>NaN</td>\n",
       "      <td>NaN</td>\n",
       "      <td>819.0</td>\n",
       "      <td>7.0</td>\n",
       "      <td>NaN</td>\n",
       "      <td>NaN</td>\n",
       "      <td>NaN</td>\n",
       "      <td>...</td>\n",
       "      <td>z9ub4Lm</td>\n",
       "      <td>LM8l689qOp</td>\n",
       "      <td>NaN</td>\n",
       "      <td>NaN</td>\n",
       "      <td>5Acm</td>\n",
       "      <td>vJ_w8kB</td>\n",
       "      <td>WfJ2BB2SFSqauljlfOB</td>\n",
       "      <td>NaN</td>\n",
       "      <td>NaN</td>\n",
       "      <td>-1</td>\n",
       "    </tr>\n",
       "    <tr>\n",
       "      <th>1</th>\n",
       "      <td>NaN</td>\n",
       "      <td>NaN</td>\n",
       "      <td>NaN</td>\n",
       "      <td>NaN</td>\n",
       "      <td>NaN</td>\n",
       "      <td>2401.0</td>\n",
       "      <td>21.0</td>\n",
       "      <td>NaN</td>\n",
       "      <td>NaN</td>\n",
       "      <td>NaN</td>\n",
       "      <td>...</td>\n",
       "      <td>v5hz20V</td>\n",
       "      <td>LM8l689qOp</td>\n",
       "      <td>NaN</td>\n",
       "      <td>kG3k</td>\n",
       "      <td>FSa2</td>\n",
       "      <td>RAYp</td>\n",
       "      <td>55YFVY9</td>\n",
       "      <td>mj86</td>\n",
       "      <td>NaN</td>\n",
       "      <td>-1</td>\n",
       "    </tr>\n",
       "    <tr>\n",
       "      <th>2</th>\n",
       "      <td>NaN</td>\n",
       "      <td>NaN</td>\n",
       "      <td>NaN</td>\n",
       "      <td>NaN</td>\n",
       "      <td>NaN</td>\n",
       "      <td>343.0</td>\n",
       "      <td>0.0</td>\n",
       "      <td>NaN</td>\n",
       "      <td>NaN</td>\n",
       "      <td>NaN</td>\n",
       "      <td>...</td>\n",
       "      <td>20HE4Qn</td>\n",
       "      <td>LM8l689qOp</td>\n",
       "      <td>NaN</td>\n",
       "      <td>NaN</td>\n",
       "      <td>Xa3G</td>\n",
       "      <td>RAYp</td>\n",
       "      <td>F2FyR07IdsN7I</td>\n",
       "      <td>NaN</td>\n",
       "      <td>NaN</td>\n",
       "      <td>-1</td>\n",
       "    </tr>\n",
       "    <tr>\n",
       "      <th>3</th>\n",
       "      <td>NaN</td>\n",
       "      <td>NaN</td>\n",
       "      <td>NaN</td>\n",
       "      <td>NaN</td>\n",
       "      <td>NaN</td>\n",
       "      <td>826.0</td>\n",
       "      <td>7.0</td>\n",
       "      <td>NaN</td>\n",
       "      <td>NaN</td>\n",
       "      <td>NaN</td>\n",
       "      <td>...</td>\n",
       "      <td>4XQyovK</td>\n",
       "      <td>LM8l689qOp</td>\n",
       "      <td>NaN</td>\n",
       "      <td>ELof</td>\n",
       "      <td>453m</td>\n",
       "      <td>RAYp</td>\n",
       "      <td>F2FyR07IdsN7I</td>\n",
       "      <td>NaN</td>\n",
       "      <td>NaN</td>\n",
       "      <td>-1</td>\n",
       "    </tr>\n",
       "    <tr>\n",
       "      <th>4</th>\n",
       "      <td>NaN</td>\n",
       "      <td>NaN</td>\n",
       "      <td>NaN</td>\n",
       "      <td>NaN</td>\n",
       "      <td>3960.0</td>\n",
       "      <td>NaN</td>\n",
       "      <td>NaN</td>\n",
       "      <td>NaN</td>\n",
       "      <td>NaN</td>\n",
       "      <td>1641096.0</td>\n",
       "      <td>...</td>\n",
       "      <td>LTMqFbB</td>\n",
       "      <td>LM8l689qOp</td>\n",
       "      <td>NaN</td>\n",
       "      <td>NaN</td>\n",
       "      <td>FSa2</td>\n",
       "      <td>RAYp</td>\n",
       "      <td>F2FyR07IdsN7I</td>\n",
       "      <td>NaN</td>\n",
       "      <td>NaN</td>\n",
       "      <td>-1</td>\n",
       "    </tr>\n",
       "  </tbody>\n",
       "</table>\n",
       "<p>5 rows × 231 columns</p>\n",
       "</div>"
      ],
      "text/plain": [
       "   Var1  Var2  Var3  Var4    Var5    Var6  Var7  Var8  Var9      Var10  ...  \\\n",
       "0   NaN   NaN   NaN   NaN     NaN   819.0   7.0   NaN   NaN        NaN  ...   \n",
       "1   NaN   NaN   NaN   NaN     NaN  2401.0  21.0   NaN   NaN        NaN  ...   \n",
       "2   NaN   NaN   NaN   NaN     NaN   343.0   0.0   NaN   NaN        NaN  ...   \n",
       "3   NaN   NaN   NaN   NaN     NaN   826.0   7.0   NaN   NaN        NaN  ...   \n",
       "4   NaN   NaN   NaN   NaN  3960.0     NaN   NaN   NaN   NaN  1641096.0  ...   \n",
       "\n",
       "    Var222      Var223  Var224  Var225  Var226   Var227               Var228  \\\n",
       "0  z9ub4Lm  LM8l689qOp     NaN     NaN    5Acm  vJ_w8kB  WfJ2BB2SFSqauljlfOB   \n",
       "1  v5hz20V  LM8l689qOp     NaN    kG3k    FSa2     RAYp              55YFVY9   \n",
       "2  20HE4Qn  LM8l689qOp     NaN     NaN    Xa3G     RAYp        F2FyR07IdsN7I   \n",
       "3  4XQyovK  LM8l689qOp     NaN    ELof    453m     RAYp        F2FyR07IdsN7I   \n",
       "4  LTMqFbB  LM8l689qOp     NaN     NaN    FSa2     RAYp        F2FyR07IdsN7I   \n",
       "\n",
       "   Var229  Var230  label  \n",
       "0     NaN     NaN     -1  \n",
       "1    mj86     NaN     -1  \n",
       "2     NaN     NaN     -1  \n",
       "3     NaN     NaN     -1  \n",
       "4     NaN     NaN     -1  \n",
       "\n",
       "[5 rows x 231 columns]"
      ]
     },
     "execution_count": 2,
     "metadata": {},
     "output_type": "execute_result"
    }
   ],
   "source": [
    "# Загрузим данные  \n",
    "data = pd.read_csv('../Data/train_dataset.csv')\n",
    "data.head()"
   ]
  },
  {
   "cell_type": "markdown",
   "metadata": {},
   "source": [
    "# Обработка данных "
   ]
  },
  {
   "cell_type": "code",
   "execution_count": 4,
   "metadata": {},
   "outputs": [
    {
     "data": {
      "text/plain": [
       "array(['Var8', 'Var15', 'Var20', 'Var31', 'Var32', 'Var39', 'Var42',\n",
       "       'Var48', 'Var52', 'Var55', 'Var79', 'Var141', 'Var167', 'Var169',\n",
       "       'Var175', 'Var185', 'Var209', 'Var230'], dtype='<U6')"
      ]
     },
     "execution_count": 4,
     "metadata": {},
     "output_type": "execute_result"
    }
   ],
   "source": [
    "# Удалим все столбцы, состоящие только из NaN\n",
    "deleted = []\n",
    "for var in data.columns:\n",
    "    if data[var].isna().sum() == data.shape[0]:\n",
    "        data.drop(var, axis=1,inplace=True)\n",
    "        deleted.append(var)\n",
    "# В категориальных признаках заменим пропуски на новую категорию\n",
    "data.loc[:,'Var191':] = data.loc[:,'Var191':].fillna('missing_value')\n",
    "np.array(deleted)"
   ]
  },
  {
   "cell_type": "code",
   "execution_count": 6,
   "metadata": {},
   "outputs": [
    {
     "data": {
      "text/plain": [
       "False"
      ]
     },
     "execution_count": 6,
     "metadata": {},
     "output_type": "execute_result"
    }
   ],
   "source": [
    "# Проверим есть ли значение 0.0001 в данных, чтобы в дальнейшем заполнить им пропуски \n",
    "0.0001 in data.loc[:, 'Var1':'Var190'].values"
   ]
  },
  {
   "cell_type": "code",
   "execution_count": 7,
   "metadata": {},
   "outputs": [],
   "source": [
    "data.loc[:, 'Var1':'Var190'] = data.loc[:, 'Var1':'Var190'].fillna(0.0001)"
   ]
  },
  {
   "cell_type": "code",
   "execution_count": 10,
   "metadata": {},
   "outputs": [
    {
     "name": "stdout",
     "output_type": "stream",
     "text": [
      "Доля класса \"отток\":  0.073\n",
      "Доля класса \"не отток\":  0.927\n"
     ]
    }
   ],
   "source": [
    "# Выведем соотношение классов\n",
    "not_churn = data.label.value_counts()[-1]\n",
    "churn = data.label.value_counts()[1]\n",
    "\n",
    "print('Доля класса \"отток\": ', churn/data.shape[0])\n",
    "print('Доля класса \"не отток\": ', not_churn/data.shape[0])"
   ]
  },
  {
   "cell_type": "code",
   "execution_count": 28,
   "metadata": {},
   "outputs": [],
   "source": [
    "# Создадим датасеты\n",
    "cat_features = data.loc[:,'Var191':'Var229']\n",
    "numeric_features = data.loc[:, 'Var1':'Var190']\n",
    "y = data['label']"
   ]
  },
  {
   "cell_type": "code",
   "execution_count": 30,
   "metadata": {},
   "outputs": [
    {
     "data": {
      "text/html": [
       "<div>\n",
       "<style scoped>\n",
       "    .dataframe tbody tr th:only-of-type {\n",
       "        vertical-align: middle;\n",
       "    }\n",
       "\n",
       "    .dataframe tbody tr th {\n",
       "        vertical-align: top;\n",
       "    }\n",
       "\n",
       "    .dataframe thead th {\n",
       "        text-align: right;\n",
       "    }\n",
       "</style>\n",
       "<table border=\"1\" class=\"dataframe\">\n",
       "  <thead>\n",
       "    <tr style=\"text-align: right;\">\n",
       "      <th></th>\n",
       "      <th>Var1</th>\n",
       "      <th>Var2</th>\n",
       "      <th>Var3</th>\n",
       "      <th>Var4</th>\n",
       "      <th>Var5</th>\n",
       "      <th>Var6</th>\n",
       "      <th>Var7</th>\n",
       "      <th>Var9</th>\n",
       "      <th>Var10</th>\n",
       "      <th>Var11</th>\n",
       "      <th>...</th>\n",
       "      <th>Var220</th>\n",
       "      <th>Var221</th>\n",
       "      <th>Var222</th>\n",
       "      <th>Var223</th>\n",
       "      <th>Var224</th>\n",
       "      <th>Var225</th>\n",
       "      <th>Var226</th>\n",
       "      <th>Var227</th>\n",
       "      <th>Var228</th>\n",
       "      <th>Var229</th>\n",
       "    </tr>\n",
       "  </thead>\n",
       "  <tbody>\n",
       "    <tr>\n",
       "      <th>0</th>\n",
       "      <td>0.0001</td>\n",
       "      <td>0.0001</td>\n",
       "      <td>0.0001</td>\n",
       "      <td>0.0001</td>\n",
       "      <td>0.0001</td>\n",
       "      <td>819.0000</td>\n",
       "      <td>7.0000</td>\n",
       "      <td>0.0001</td>\n",
       "      <td>1.000000e-04</td>\n",
       "      <td>0.0001</td>\n",
       "      <td>...</td>\n",
       "      <td>311.0</td>\n",
       "      <td>2.0</td>\n",
       "      <td>3344.0</td>\n",
       "      <td>0.0</td>\n",
       "      <td>1.0</td>\n",
       "      <td>2.0</td>\n",
       "      <td>2.0</td>\n",
       "      <td>6.0</td>\n",
       "      <td>16.0</td>\n",
       "      <td>1.0</td>\n",
       "    </tr>\n",
       "    <tr>\n",
       "      <th>1</th>\n",
       "      <td>0.0001</td>\n",
       "      <td>0.0001</td>\n",
       "      <td>0.0001</td>\n",
       "      <td>0.0001</td>\n",
       "      <td>0.0001</td>\n",
       "      <td>2401.0000</td>\n",
       "      <td>21.0000</td>\n",
       "      <td>0.0001</td>\n",
       "      <td>1.000000e-04</td>\n",
       "      <td>0.0001</td>\n",
       "      <td>...</td>\n",
       "      <td>2075.0</td>\n",
       "      <td>4.0</td>\n",
       "      <td>3170.0</td>\n",
       "      <td>0.0</td>\n",
       "      <td>1.0</td>\n",
       "      <td>1.0</td>\n",
       "      <td>7.0</td>\n",
       "      <td>2.0</td>\n",
       "      <td>2.0</td>\n",
       "      <td>2.0</td>\n",
       "    </tr>\n",
       "    <tr>\n",
       "      <th>2</th>\n",
       "      <td>0.0001</td>\n",
       "      <td>0.0001</td>\n",
       "      <td>0.0001</td>\n",
       "      <td>0.0001</td>\n",
       "      <td>0.0001</td>\n",
       "      <td>343.0000</td>\n",
       "      <td>0.0000</td>\n",
       "      <td>0.0001</td>\n",
       "      <td>1.000000e-04</td>\n",
       "      <td>0.0001</td>\n",
       "      <td>...</td>\n",
       "      <td>2618.0</td>\n",
       "      <td>4.0</td>\n",
       "      <td>86.0</td>\n",
       "      <td>0.0</td>\n",
       "      <td>1.0</td>\n",
       "      <td>2.0</td>\n",
       "      <td>13.0</td>\n",
       "      <td>2.0</td>\n",
       "      <td>8.0</td>\n",
       "      <td>1.0</td>\n",
       "    </tr>\n",
       "    <tr>\n",
       "      <th>3</th>\n",
       "      <td>0.0001</td>\n",
       "      <td>0.0001</td>\n",
       "      <td>0.0001</td>\n",
       "      <td>0.0001</td>\n",
       "      <td>0.0001</td>\n",
       "      <td>826.0000</td>\n",
       "      <td>7.0000</td>\n",
       "      <td>0.0001</td>\n",
       "      <td>1.000000e-04</td>\n",
       "      <td>0.0001</td>\n",
       "      <td>...</td>\n",
       "      <td>2269.0</td>\n",
       "      <td>4.0</td>\n",
       "      <td>208.0</td>\n",
       "      <td>0.0</td>\n",
       "      <td>1.0</td>\n",
       "      <td>0.0</td>\n",
       "      <td>1.0</td>\n",
       "      <td>2.0</td>\n",
       "      <td>8.0</td>\n",
       "      <td>1.0</td>\n",
       "    </tr>\n",
       "    <tr>\n",
       "      <th>4</th>\n",
       "      <td>0.0001</td>\n",
       "      <td>0.0001</td>\n",
       "      <td>0.0001</td>\n",
       "      <td>0.0001</td>\n",
       "      <td>3960.0000</td>\n",
       "      <td>0.0001</td>\n",
       "      <td>0.0001</td>\n",
       "      <td>0.0001</td>\n",
       "      <td>1.641096e+06</td>\n",
       "      <td>0.0001</td>\n",
       "      <td>...</td>\n",
       "      <td>1002.0</td>\n",
       "      <td>4.0</td>\n",
       "      <td>1156.0</td>\n",
       "      <td>0.0</td>\n",
       "      <td>1.0</td>\n",
       "      <td>2.0</td>\n",
       "      <td>7.0</td>\n",
       "      <td>2.0</td>\n",
       "      <td>8.0</td>\n",
       "      <td>1.0</td>\n",
       "    </tr>\n",
       "  </tbody>\n",
       "</table>\n",
       "<p>5 rows × 212 columns</p>\n",
       "</div>"
      ],
      "text/plain": [
       "     Var1    Var2    Var3    Var4       Var5       Var6     Var7    Var9  \\\n",
       "0  0.0001  0.0001  0.0001  0.0001     0.0001   819.0000   7.0000  0.0001   \n",
       "1  0.0001  0.0001  0.0001  0.0001     0.0001  2401.0000  21.0000  0.0001   \n",
       "2  0.0001  0.0001  0.0001  0.0001     0.0001   343.0000   0.0000  0.0001   \n",
       "3  0.0001  0.0001  0.0001  0.0001     0.0001   826.0000   7.0000  0.0001   \n",
       "4  0.0001  0.0001  0.0001  0.0001  3960.0000     0.0001   0.0001  0.0001   \n",
       "\n",
       "          Var10   Var11  ...  Var220  Var221  Var222  Var223  Var224  Var225  \\\n",
       "0  1.000000e-04  0.0001  ...   311.0     2.0  3344.0     0.0     1.0     2.0   \n",
       "1  1.000000e-04  0.0001  ...  2075.0     4.0  3170.0     0.0     1.0     1.0   \n",
       "2  1.000000e-04  0.0001  ...  2618.0     4.0    86.0     0.0     1.0     2.0   \n",
       "3  1.000000e-04  0.0001  ...  2269.0     4.0   208.0     0.0     1.0     0.0   \n",
       "4  1.641096e+06  0.0001  ...  1002.0     4.0  1156.0     0.0     1.0     2.0   \n",
       "\n",
       "   Var226  Var227  Var228  Var229  \n",
       "0     2.0     6.0    16.0     1.0  \n",
       "1     7.0     2.0     2.0     2.0  \n",
       "2    13.0     2.0     8.0     1.0  \n",
       "3     1.0     2.0     8.0     1.0  \n",
       "4     7.0     2.0     8.0     1.0  \n",
       "\n",
       "[5 rows x 212 columns]"
      ]
     },
     "execution_count": 30,
     "metadata": {},
     "output_type": "execute_result"
    }
   ],
   "source": [
    "# Закодируем категориальные переменные\n",
    "OE_enc = OrdinalEncoder()\n",
    "OE_enc.fit(cat_features)\n",
    "oe_features = pd.DataFrame(OE_enc.transform(cat_features), columns = cat_features.columns)\n",
    "X_oe = pd.concat([numeric_features,oe_features], axis=1)\n",
    "X_oe.head()"
   ]
  },
  {
   "cell_type": "markdown",
   "metadata": {},
   "source": [
    "# baseline модели"
   ]
  },
  {
   "cell_type": "code",
   "execution_count": 29,
   "metadata": {},
   "outputs": [],
   "source": [
    "# Зададим параметры моделей\n",
    "# Основаная метрика - precision, отсальные метрики вспомогательные\n",
    "scorings = ['precision', 'recall','f1','roc_auc']\n",
    "# стратегия кросс-валиадции - stratified K-Fold с 5 фолдами была выбрана ранее\n",
    "cv = StratifiedKFold(n_splits=5)"
   ]
  },
  {
   "cell_type": "markdown",
   "metadata": {},
   "source": [
    "## Логистическая регрессия"
   ]
  },
  {
   "cell_type": "code",
   "execution_count": 40,
   "metadata": {},
   "outputs": [],
   "source": [
    "lr_model = LogisticRegression()\n",
    "scores_lr = cross_validate(lr_model, X_oe, y, cv=cv, scoring=scorings)"
   ]
  },
  {
   "cell_type": "code",
   "execution_count": 41,
   "metadata": {},
   "outputs": [
    {
     "name": "stdout",
     "output_type": "stream",
     "text": [
      "Средние значения метрик\n",
      "\n",
      "fit_time : 24.321565914154053\n",
      "score_time : 0.059439659118652344\n",
      "test_precision : 0.24543859649122807\n",
      "test_recall : 0.005479452054794521\n",
      "test_f1 : 0.01059247820776546\n",
      "test_roc_auc : 0.5288698260702517\n"
     ]
    }
   ],
   "source": [
    "print('Средние значения метрик\\n')\n",
    "for key in scores_lr.keys():\n",
    "    print(key, ':',scores_lr[key].mean())"
   ]
  },
  {
   "cell_type": "markdown",
   "metadata": {},
   "source": [
    "## Случайный лес"
   ]
  },
  {
   "cell_type": "code",
   "execution_count": 38,
   "metadata": {},
   "outputs": [],
   "source": [
    "rfc_model = RandomForestClassifier()\n",
    "scores_rfc = cross_validate(rfc_model, X_oe, y, cv=cv, scoring=scorings)"
   ]
  },
  {
   "cell_type": "code",
   "execution_count": 39,
   "metadata": {},
   "outputs": [
    {
     "name": "stdout",
     "output_type": "stream",
     "text": [
      "Средние значения метрик\n",
      "\n",
      "fit_time : 1.1875423908233642\n",
      "score_time : 0.1405796527862549\n",
      "test_precision : 0.3371428571428571\n",
      "test_recall : 0.00502283105022831\n",
      "test_f1 : 0.009889765178328984\n",
      "test_roc_auc : 0.6044357175813042\n"
     ]
    }
   ],
   "source": [
    "print('Средние значения метрик\\n')\n",
    "for key in scores_rfc.keys():\n",
    "    print(key, ':',scores_rfc[key].mean())"
   ]
  },
  {
   "cell_type": "markdown",
   "metadata": {},
   "source": [
    "## Градиентный бустинг"
   ]
  },
  {
   "cell_type": "code",
   "execution_count": 44,
   "metadata": {},
   "outputs": [],
   "source": [
    "gb_model = GradientBoostingClassifier()\n",
    "scores_gb = cross_validate(gb_model, X_oe, y, cv=cv, scoring=scorings)"
   ]
  },
  {
   "cell_type": "code",
   "execution_count": 45,
   "metadata": {},
   "outputs": [
    {
     "name": "stdout",
     "output_type": "stream",
     "text": [
      "Средние значения метрик\n",
      "\n",
      "fit_time : 17.514989614486694\n",
      "score_time : 0.1750720977783203\n",
      "test_precision : 0.5023529411764706\n",
      "test_recall : 0.01598173515981735\n",
      "test_f1 : 0.030892211904491727\n",
      "test_roc_auc : 0.7312983651293267\n"
     ]
    }
   ],
   "source": [
    "print('Средние значения метрик\\n')\n",
    "for key in scores_gb.keys():\n",
    "    print(key, ':',scores_gb[key].mean())"
   ]
  },
  {
   "cell_type": "markdown",
   "metadata": {},
   "source": [
    "Лучший результат получается при использовании градиентного бустнинга, так как данный классификатор с параметрами по умолчанию дает наилучший результат как по целевой метрике, так и по вспомогательным.\n",
    "\n",
    "При этом величина данных метрик показывает, что модели пока работают довольно плохо. Их нужно улучшать как путем работы с данными, так и подбором параметров модели, что будет сделано в дальнейшем."
   ]
  },
  {
   "cell_type": "code",
   "execution_count": null,
   "metadata": {},
   "outputs": [],
   "source": []
  }
 ],
 "metadata": {
  "kernelspec": {
   "display_name": "Python 3",
   "language": "python",
   "name": "python3"
  },
  "language_info": {
   "codemirror_mode": {
    "name": "ipython",
    "version": 3
   },
   "file_extension": ".py",
   "mimetype": "text/x-python",
   "name": "python",
   "nbconvert_exporter": "python",
   "pygments_lexer": "ipython3",
   "version": "3.7.4"
  },
  "toc": {
   "base_numbering": 1,
   "nav_menu": {},
   "number_sections": true,
   "sideBar": true,
   "skip_h1_title": false,
   "title_cell": "Table of Contents",
   "title_sidebar": "Contents",
   "toc_cell": false,
   "toc_position": {},
   "toc_section_display": true,
   "toc_window_display": false
  }
 },
 "nbformat": 4,
 "nbformat_minor": 1
}
