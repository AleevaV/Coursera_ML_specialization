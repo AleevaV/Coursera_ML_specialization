{
 "cells": [
  {
   "cell_type": "code",
   "execution_count": 30,
   "metadata": {},
   "outputs": [],
   "source": [
    "import pandas as pd\n",
    "import numpy as np\n",
    "import matplotlib.pyplot as plt\n",
    "import pickle\n",
    "from sklearn.metrics import precision_score"
   ]
  },
  {
   "cell_type": "code",
   "execution_count": 2,
   "metadata": {},
   "outputs": [
    {
     "data": {
      "text/html": [
       "<div>\n",
       "<style scoped>\n",
       "    .dataframe tbody tr th:only-of-type {\n",
       "        vertical-align: middle;\n",
       "    }\n",
       "\n",
       "    .dataframe tbody tr th {\n",
       "        vertical-align: top;\n",
       "    }\n",
       "\n",
       "    .dataframe thead th {\n",
       "        text-align: right;\n",
       "    }\n",
       "</style>\n",
       "<table border=\"1\" class=\"dataframe\">\n",
       "  <thead>\n",
       "    <tr style=\"text-align: right;\">\n",
       "      <th></th>\n",
       "      <th>not_churn</th>\n",
       "      <th>churn</th>\n",
       "      <th>label</th>\n",
       "    </tr>\n",
       "  </thead>\n",
       "  <tbody>\n",
       "    <tr>\n",
       "      <th>2750</th>\n",
       "      <td>0.040388</td>\n",
       "      <td>0.959612</td>\n",
       "      <td>1</td>\n",
       "    </tr>\n",
       "    <tr>\n",
       "      <th>6873</th>\n",
       "      <td>0.049972</td>\n",
       "      <td>0.950028</td>\n",
       "      <td>0</td>\n",
       "    </tr>\n",
       "    <tr>\n",
       "      <th>4555</th>\n",
       "      <td>0.053956</td>\n",
       "      <td>0.946044</td>\n",
       "      <td>1</td>\n",
       "    </tr>\n",
       "    <tr>\n",
       "      <th>9128</th>\n",
       "      <td>0.060325</td>\n",
       "      <td>0.939675</td>\n",
       "      <td>1</td>\n",
       "    </tr>\n",
       "    <tr>\n",
       "      <th>1499</th>\n",
       "      <td>0.063576</td>\n",
       "      <td>0.936424</td>\n",
       "      <td>0</td>\n",
       "    </tr>\n",
       "  </tbody>\n",
       "</table>\n",
       "</div>"
      ],
      "text/plain": [
       "      not_churn     churn  label\n",
       "2750   0.040388  0.959612      1\n",
       "6873   0.049972  0.950028      0\n",
       "4555   0.053956  0.946044      1\n",
       "9128   0.060325  0.939675      1\n",
       "1499   0.063576  0.936424      0"
      ]
     },
     "execution_count": 2,
     "metadata": {},
     "output_type": "execute_result"
    }
   ],
   "source": [
    "result = pd.read_csv('../Data/hold_out_result.csv').sort_values(by='churn', ascending=False)\n",
    "result.head()"
   ]
  },
  {
   "cell_type": "markdown",
   "metadata": {},
   "source": [
    "# Peer-graded Assignment: Оценка эффекта от внедрения полученного решения"
   ]
  },
  {
   "cell_type": "markdown",
   "metadata": {},
   "source": [
    "Постройте простую экономическую модель для оценки эффекта от внедрения полученного решения на практике.\n",
    "\n",
    "Например, введите следующие параметры:\n",
    "\n",
    "* сколько денег в среднем приносит один пользователь в месяц;\n",
    "* сколько денег в среднем вы будете вкладывать в удержание одного пользователя;\n",
    "* с какой вероятностью пользователь примет ваше предложение;\n",
    "* сколько пользователей (например, топ 1% или топ 25% согласно ранжированию по вашей модели) будет участвовать в кампании."
   ]
  },
  {
   "cell_type": "markdown",
   "metadata": {},
   "source": [
    "1. Введите еще несколько параметров и на их основе постройте простую экономическую модель: формулу по которой в зависимости от значения исходных параметров вы сможете рассчитать экономический эффект от проведения кампании (= сколько денег вы получили (или наоборот потеряли) от проведения кампании по удержанию) с использование вашей модели."
   ]
  },
  {
   "cell_type": "code",
   "execution_count": 3,
   "metadata": {},
   "outputs": [],
   "source": [
    "def ec_model(data_frame,perсent, rpc, ret_cost, p):\n",
    "    \n",
    "    '''\n",
    "    data_frame - таблица с результатами, \n",
    "                 где столбец churn - предсказанная вероятность оттока,\n",
    "                 столбец label - реальное значение (0-не отток, 1-отток)\n",
    "    perсent - процент пользователей, которые участвую в компании\n",
    "    rcp - средняя выручка, которую приносит один пользователь\n",
    "    ret_cost - сколько в среднем вкладывается в удержание 1 пользователя\n",
    "    p - вероятность, с которой пользователь примет предложение\n",
    "        \n",
    "    '''\n",
    "    num_clients = int(data_frame.shape[0]*perсent)\n",
    "    df = data_frame.iloc[:num_clients]\n",
    "    \n",
    "    true_positive = df.label.sum()\n",
    "    \n",
    "    costs = num_clients*ret_cost \n",
    "    revenue = rpc*p*true_positive\n",
    "    \n",
    "    economic_effect = revenue - costs\n",
    "    \n",
    "    return economic_effect\n",
    "    "
   ]
  },
  {
   "cell_type": "markdown",
   "metadata": {},
   "source": [
    "2. Исходя из введенных параметров проанализируйте, какой топ пользователей, склонных к оттоку согласно модели, оптимально выбрать для проведения кампании по удержанию для таким образом, чтобы экономический эффект был наибольшим?"
   ]
  },
  {
   "cell_type": "code",
   "execution_count": 4,
   "metadata": {},
   "outputs": [],
   "source": [
    "RPC = 100 # revenue per customer\n",
    "CPC = 15 # costs per customer\n",
    "p = 0.7 # probability\n",
    "user_perс = np.linspace(0.01,0.25,25)"
   ]
  },
  {
   "cell_type": "code",
   "execution_count": 5,
   "metadata": {},
   "outputs": [],
   "source": [
    "effect = []\n",
    "for ind, i in enumerate(user_perс):    \n",
    "    ec_effect = ec_model(data_frame = result,perсent = i, rpc = RPC, ret_cost = CPC, p = p)\n",
    "    effect.append([round(i, 2), ec_effect])\n",
    "effect = pd.DataFrame(effect, columns=['percent', 'profit/loss'])"
   ]
  },
  {
   "cell_type": "code",
   "execution_count": 38,
   "metadata": {},
   "outputs": [
    {
     "data": {
      "image/png": "[encoded data removed]",
      "text/plain": [
       "<Figure size 720x432 with 1 Axes>"
      ]
     },
     "metadata": {
      "needs_background": "light"
     },
     "output_type": "display_data"
    }
   ],
   "source": [
    "plt.figure(figsize=(10,6))\n",
    "plt.plot(effect.percent,effect['profit/loss'],label = 'profit/loss')\n",
    "horiz_line_data = np.array([0 for i in range(len(user_perс))])\n",
    "plt.plot(effect.percent, horiz_line_data, 'r--') \n",
    "plt.xlabel('percent of top churn predicted')\n",
    "plt.legend()\n",
    "plt.show()"
   ]
  },
  {
   "cell_type": "code",
   "execution_count": 20,
   "metadata": {
    "scrolled": false
   },
   "outputs": [
    {
     "data": {
      "text/html": [
       "<div>\n",
       "<style scoped>\n",
       "    .dataframe tbody tr th:only-of-type {\n",
       "        vertical-align: middle;\n",
       "    }\n",
       "\n",
       "    .dataframe tbody tr th {\n",
       "        vertical-align: top;\n",
       "    }\n",
       "\n",
       "    .dataframe thead th {\n",
       "        text-align: right;\n",
       "    }\n",
       "</style>\n",
       "<table border=\"1\" class=\"dataframe\">\n",
       "  <thead>\n",
       "    <tr style=\"text-align: right;\">\n",
       "      <th></th>\n",
       "      <th>percent</th>\n",
       "      <th>profit/loss</th>\n",
       "    </tr>\n",
       "  </thead>\n",
       "  <tbody>\n",
       "    <tr>\n",
       "      <th>5</th>\n",
       "      <td>0.06</td>\n",
       "      <td>3530.0</td>\n",
       "    </tr>\n",
       "  </tbody>\n",
       "</table>\n",
       "</div>"
      ],
      "text/plain": [
       "   percent  profit/loss\n",
       "5     0.06       3530.0"
      ]
     },
     "execution_count": 20,
     "metadata": {},
     "output_type": "execute_result"
    }
   ],
   "source": [
    "max_profit = effect['profit/loss'].max()\n",
    "effect[effect['profit/loss']==max_profit ]"
   ]
  },
  {
   "cell_type": "markdown",
   "metadata": {},
   "source": [
    "*При выбранных  параметрах оптимальным является выбор 6% пользователей, склонных к оттоку*"
   ]
  },
  {
   "cell_type": "markdown",
   "metadata": {},
   "source": [
    "3. Попробуйте усложнить экономическую модель. Добавьте еще несколько параметров и поиграйте с ними (например, измените стоимость удержания и вероятность, с которой пользователь принимает предложение), проанализируйте как меняется оптимальный размер топа?"
   ]
  },
  {
   "cell_type": "code",
   "execution_count": 21,
   "metadata": {},
   "outputs": [],
   "source": [
    "# Так как компания не только удерживает клиентов, но и привлекает новых, введм соответсвующие параметры\n",
    "\n",
    "def ec_model_v2(data_frame,top_perсent, rpc, ret_cost, p, cac, new_num, new_perc):\n",
    "    \n",
    "    '''\n",
    "    data_frame - таблица с результатами, \n",
    "                 где столбец churn - предсказанная вероятность оттока,\n",
    "                 столбец label - реальное значение (0-не отток, 1-отток)\n",
    "    perсent - процент пользователей, которые участвую в компании\n",
    "    rcp - средняя выручка, которую приносит один пользователь\n",
    "    ret_cost - сколько в среднем вкладывается в удержание 1 пользователя\n",
    "    p - вероятность, с которой пользователь примет предложение\n",
    "    cac - customer acquisition cost, стоимость привлечения новых клиентов\n",
    "    new_num - количество клиентов, которых планируется привлечь\n",
    "    new_perc - процент пользователей, которых смогли привлечь\n",
    "        \n",
    "    '''\n",
    "    num_clients = int(data_frame.shape[0]*top_perсent)\n",
    "    df = data_frame.iloc[:num_clients]\n",
    "    \n",
    "    true_positive = df.label.sum()\n",
    "    \n",
    "    costs = num_clients*ret_cost + new_num*cac\n",
    "    revenue = rpc*p*true_positive + new_num*new_perc*rpc\n",
    "    \n",
    "    economic_effect = revenue - costs\n",
    "    \n",
    "    return economic_effect"
   ]
  },
  {
   "cell_type": "code",
   "execution_count": 22,
   "metadata": {},
   "outputs": [],
   "source": [
    "RPC = 100 # revenue per customer\n",
    "CPC = 20 # увеличим стоимость удержания на 5 у.е.\n",
    "p = 0.6 # уменьшим вероятность того, что клиент примет предложение, на 10%\n",
    "CAC = 30\n",
    "num_of_potential = 1000\n",
    "conversion = 0.4\n",
    "user_perс = np.linspace(0.01,0.25,25)"
   ]
  },
  {
   "cell_type": "code",
   "execution_count": 23,
   "metadata": {},
   "outputs": [],
   "source": [
    "effect_v2 = []\n",
    "for ind, i in enumerate(user_perс):    \n",
    "    ec_effect = ec_model_v2(data_frame = result,\n",
    "                            top_perсent = i,\n",
    "                            rpc = RPC,\n",
    "                            ret_cost = CPC,\n",
    "                            p = p,\n",
    "                            cac = CAC, \n",
    "                            new_num = num_of_potential,\n",
    "                            new_perc = conversion)\n",
    "    effect_v2.append([round(i, 2), ec_effect])\n",
    "effect_v2= pd.DataFrame(effect_v2, columns=['percent', 'profit/loss'])"
   ]
  },
  {
   "cell_type": "code",
   "execution_count": 37,
   "metadata": {},
   "outputs": [
    {
     "data": {
      "image/png": "[encoded data removed]",
      "text/plain": [
       "<Figure size 720x432 with 1 Axes>"
      ]
     },
     "metadata": {
      "needs_background": "light"
     },
     "output_type": "display_data"
    }
   ],
   "source": [
    "plt.figure(figsize=(10,6))\n",
    "plt.plot(effect_v2.percent,effect_v2['profit/loss'],label = 'profit/loss')\n",
    "horiz_line_data = np.array([0 for i in range(len(user_perс))])\n",
    "plt.plot(effect_v2.percent, horiz_line_data, 'r--') \n",
    "plt.xlabel('percent of top churn predicted')\n",
    "plt.legend()\n",
    "plt.show()"
   ]
  },
  {
   "cell_type": "code",
   "execution_count": 26,
   "metadata": {},
   "outputs": [
    {
     "data": {
      "text/html": [
       "<div>\n",
       "<style scoped>\n",
       "    .dataframe tbody tr th:only-of-type {\n",
       "        vertical-align: middle;\n",
       "    }\n",
       "\n",
       "    .dataframe tbody tr th {\n",
       "        vertical-align: top;\n",
       "    }\n",
       "\n",
       "    .dataframe thead th {\n",
       "        text-align: right;\n",
       "    }\n",
       "</style>\n",
       "<table border=\"1\" class=\"dataframe\">\n",
       "  <thead>\n",
       "    <tr style=\"text-align: right;\">\n",
       "      <th></th>\n",
       "      <th>percent</th>\n",
       "      <th>profit/loss</th>\n",
       "    </tr>\n",
       "  </thead>\n",
       "  <tbody>\n",
       "    <tr>\n",
       "      <th>1</th>\n",
       "      <td>0.02</td>\n",
       "      <td>10620.0</td>\n",
       "    </tr>\n",
       "  </tbody>\n",
       "</table>\n",
       "</div>"
      ],
      "text/plain": [
       "   percent  profit/loss\n",
       "1     0.02      10620.0"
      ]
     },
     "execution_count": 26,
     "metadata": {},
     "output_type": "execute_result"
    }
   ],
   "source": [
    "max_profit_v2 = effect_v2['profit/loss'].max()\n",
    "effect_v2[effect_v2['profit/loss']==max_profit_v2]"
   ]
  },
  {
   "cell_type": "markdown",
   "metadata": {},
   "source": [
    "*При добавлении новых параметров, а также изменении старых (снижение вероятности согласия пользователя на предложение и увеличение затрат на удержание одного пользователя), оптимальным является проводить компании только на 2% из топа пользователей*"
   ]
  },
  {
   "cell_type": "markdown",
   "metadata": {},
   "source": [
    "4. Всегда ли применение модели экономически оправданно? Приведите пример набора значений параметров, при которых применение модели перестает быть оправданным."
   ]
  },
  {
   "cell_type": "code",
   "execution_count": 36,
   "metadata": {},
   "outputs": [
    {
     "data": {
      "image/png": "[encoded data removed]",
      "text/plain": [
       "<Figure size 720x432 with 1 Axes>"
      ]
     },
     "metadata": {
      "needs_background": "light"
     },
     "output_type": "display_data"
    }
   ],
   "source": [
    "RPC = 100 # revenue per customer\n",
    "CPC = 20 # costs per customer\n",
    "p = 0.5 # probability\n",
    "user_perс = np.linspace(0.01,0.25,25)\n",
    "\n",
    "\n",
    "\n",
    "effect_v3 = []\n",
    "for ind, i in enumerate(user_perс):    \n",
    "    ec_effect = ec_model(data_frame = result,perсent = i, rpc = RPC, ret_cost = CPC, p = p)\n",
    "    effect_v3.append([round(i, 2), ec_effect])\n",
    "effect_v3 = pd.DataFrame(effect_v3, columns=['percent', 'profit/loss'])\n",
    "\n",
    "\n",
    "plt.figure(figsize=(10,6))\n",
    "plt.plot(effect_v3.percent,effect_v3['profit/loss'],label = 'profit/loss')\n",
    "horiz_line_data = np.array([0 for i in range(len(user_perс))])\n",
    "plt.plot(effect_v3.percent, horiz_line_data, 'r--') \n",
    "plt.xlabel('percent of top churn predicted')\n",
    "plt.legend()\n",
    "plt.show()"
   ]
  },
  {
   "cell_type": "code",
   "execution_count": 28,
   "metadata": {},
   "outputs": [
    {
     "data": {
      "text/html": [
       "<div>\n",
       "<style scoped>\n",
       "    .dataframe tbody tr th:only-of-type {\n",
       "        vertical-align: middle;\n",
       "    }\n",
       "\n",
       "    .dataframe tbody tr th {\n",
       "        vertical-align: top;\n",
       "    }\n",
       "\n",
       "    .dataframe thead th {\n",
       "        text-align: right;\n",
       "    }\n",
       "</style>\n",
       "<table border=\"1\" class=\"dataframe\">\n",
       "  <thead>\n",
       "    <tr style=\"text-align: right;\">\n",
       "      <th></th>\n",
       "      <th>percent</th>\n",
       "      <th>profit/loss</th>\n",
       "    </tr>\n",
       "  </thead>\n",
       "  <tbody>\n",
       "    <tr>\n",
       "      <th>0</th>\n",
       "      <td>0.01</td>\n",
       "      <td>-50.0</td>\n",
       "    </tr>\n",
       "    <tr>\n",
       "      <th>1</th>\n",
       "      <td>0.02</td>\n",
       "      <td>-150.0</td>\n",
       "    </tr>\n",
       "    <tr>\n",
       "      <th>2</th>\n",
       "      <td>0.03</td>\n",
       "      <td>-900.0</td>\n",
       "    </tr>\n",
       "    <tr>\n",
       "      <th>3</th>\n",
       "      <td>0.04</td>\n",
       "      <td>-1500.0</td>\n",
       "    </tr>\n",
       "    <tr>\n",
       "      <th>4</th>\n",
       "      <td>0.05</td>\n",
       "      <td>-2300.0</td>\n",
       "    </tr>\n",
       "  </tbody>\n",
       "</table>\n",
       "</div>"
      ],
      "text/plain": [
       "   percent  profit/loss\n",
       "0     0.01        -50.0\n",
       "1     0.02       -150.0\n",
       "2     0.03       -900.0\n",
       "3     0.04      -1500.0\n",
       "4     0.05      -2300.0"
      ]
     },
     "execution_count": 28,
     "metadata": {},
     "output_type": "execute_result"
    }
   ],
   "source": [
    "effect_v3.head()"
   ]
  },
  {
   "cell_type": "markdown",
   "metadata": {},
   "source": [
    "*При средней выручке с клиента 100 у.е., стомости удержания 20 у.е. и шансах что пользвоатель согласится на предложение 50:50, применение модели является неоптимальным и не приносит прибыли*"
   ]
  },
  {
   "cell_type": "markdown",
   "metadata": {},
   "source": [
    "5. Оцените изменение экономического эффекта от проведения кампании по удержанию при увеличении качества модели на 1%? На 3%? При ответе на вопрос укажите, по какой метрике вы оцениваете качество."
   ]
  },
  {
   "cell_type": "code",
   "execution_count": 31,
   "metadata": {},
   "outputs": [],
   "source": [
    "result_acc = result.copy()"
   ]
  },
  {
   "cell_type": "code",
   "execution_count": 32,
   "metadata": {},
   "outputs": [],
   "source": [
    "result_acc['predicted'] = None\n",
    "result_acc.loc[result_acc.churn>0.5,'predicted'] = 1\n",
    "result_acc['predicted'] = result_acc['predicted'] .fillna(0)"
   ]
  },
  {
   "cell_type": "markdown",
   "metadata": {},
   "source": [
    "*Интуитивно понятно, что чем больша доля людей, попавшая в наш топ, будет предсказана правильно, тем больше денег мы сможем поулчить. Также понятно, что при разных топах будет разная точность. Чтобы это увидеть, посмотрим как меняется precision_score при различных процентах пользователей, попавших в топ.*"
   ]
  },
  {
   "cell_type": "code",
   "execution_count": 35,
   "metadata": {},
   "outputs": [
    {
     "data": {
      "image/png": "[encoded data removed]",
      "text/plain": [
       "<Figure size 720x432 with 1 Axes>"
      ]
     },
     "metadata": {
      "needs_background": "light"
     },
     "output_type": "display_data"
    }
   ],
   "source": [
    "RPC = 100 # revenue per customer\n",
    "CPC = 15 # costs per customer\n",
    "p = 0.7 # probability\n",
    "user_perс = np.linspace(0.01,0.25,25)\n",
    "\n",
    "\n",
    "\n",
    "effect_v4 = []\n",
    "for i in user_perс:    \n",
    "    ec_effect = ec_model(data_frame = result_acc,perсent = i, rpc = RPC, ret_cost = CPC, p = p)\n",
    "    ind = int(result_acc.shape[0]*i)\n",
    "    precision = precision_score(result_acc['label'][:ind], result_acc['predicted'][:ind])\n",
    "    \n",
    "    effect_v4.append([round(i, 2),precision, ec_effect])\n",
    "effect_v4 = pd.DataFrame(effect_v4, columns=['percent','precision', 'profit/loss'])\n",
    "\n",
    "plt.figure(figsize=(10,6))\n",
    "plt.plot(effect_v4.percent,effect_v4.precision, label = 'precision')\n",
    "plt.xlabel('percent of top churn predicted')\n",
    "plt.legend()\n",
    "plt.show()\n",
    "\n"
   ]
  },
  {
   "cell_type": "code",
   "execution_count": 39,
   "metadata": {},
   "outputs": [
    {
     "data": {
      "text/html": [
       "<div>\n",
       "<style scoped>\n",
       "    .dataframe tbody tr th:only-of-type {\n",
       "        vertical-align: middle;\n",
       "    }\n",
       "\n",
       "    .dataframe tbody tr th {\n",
       "        vertical-align: top;\n",
       "    }\n",
       "\n",
       "    .dataframe thead th {\n",
       "        text-align: right;\n",
       "    }\n",
       "</style>\n",
       "<table border=\"1\" class=\"dataframe\">\n",
       "  <thead>\n",
       "    <tr style=\"text-align: right;\">\n",
       "      <th></th>\n",
       "      <th>percent</th>\n",
       "      <th>precision</th>\n",
       "      <th>profit/loss</th>\n",
       "    </tr>\n",
       "  </thead>\n",
       "  <tbody>\n",
       "    <tr>\n",
       "      <th>5</th>\n",
       "      <td>0.06</td>\n",
       "      <td>0.298333</td>\n",
       "      <td>3530.0</td>\n",
       "    </tr>\n",
       "  </tbody>\n",
       "</table>\n",
       "</div>"
      ],
      "text/plain": [
       "   percent  precision  profit/loss\n",
       "5     0.06   0.298333       3530.0"
      ]
     },
     "execution_count": 39,
     "metadata": {},
     "output_type": "execute_result"
    }
   ],
   "source": [
    "effect_v4[effect_v4.percent==0.06]"
   ]
  },
  {
   "cell_type": "markdown",
   "metadata": {},
   "source": [
    "*Так как при заданном числе параметров эффективнее всего оказалось брать 6% из построенного топа клиентов, склонных к оттоку, посмотрим, как меняется экономический эффект при выбранном топе. Первоначальная точность равна 29.8% ,посмотрим как меняется экономичсеский ффект при росте точности на 1 и 3 процента соответсвенно*"
   ]
  },
  {
   "cell_type": "code",
   "execution_count": 40,
   "metadata": {},
   "outputs": [],
   "source": [
    "def ec_model_v3(num_clients, precision, rpc, ret_cost, p):\n",
    "    \n",
    "    '''\n",
    "    num_clients - число клиентов, попавших в топ\n",
    "    precision - точность модели\n",
    "    perсent - процент пользователей, которые участвую в компании\n",
    "    rcp - средняя выручка, которую приносит один пользователь\n",
    "    ret_cost - сколько в среднем вкладывается в удержание 1 пользователя\n",
    "    p - вероятность, с которой пользователь примет предложение\n",
    "        \n",
    "    '''\n",
    "\n",
    "    \n",
    "    costs = num_clients*ret_cost \n",
    "    revenue = rpc*p*precision*num_clients # в данном случае TP и precision равны (проверила на графиках до этого)\n",
    "    \n",
    "    economic_effect = revenue - costs\n",
    "    \n",
    "    return economic_effect\n",
    "    "
   ]
  },
  {
   "cell_type": "code",
   "execution_count": 43,
   "metadata": {},
   "outputs": [],
   "source": [
    "precisions = [0.29833, 0.3, 0.32]\n",
    "top_perc = 0.06\n",
    "num_clients = result.shape[0]*top_perc\n",
    "RPC = 100 # revenue per customer\n",
    "CPC = 15 # costs per customer\n",
    "p = 0.7 # probability\n",
    "\n",
    "effect_v5 = []\n",
    "for prec in precisions:    \n",
    "    ec_effect = ec_model_v3(num_clients = num_clients, \n",
    "                            precision = prec, \n",
    "                            rpc = RPC, \n",
    "                            ret_cost = CPC, \n",
    "                            p=p)\n",
    "    effect_v5.append([prec, ec_effect])\n",
    "effect_v5 = pd.DataFrame(effect_v5, columns=['precision', 'profit/loss'])"
   ]
  },
  {
   "cell_type": "code",
   "execution_count": 44,
   "metadata": {},
   "outputs": [
    {
     "data": {
      "text/html": [
       "<div>\n",
       "<style scoped>\n",
       "    .dataframe tbody tr th:only-of-type {\n",
       "        vertical-align: middle;\n",
       "    }\n",
       "\n",
       "    .dataframe tbody tr th {\n",
       "        vertical-align: top;\n",
       "    }\n",
       "\n",
       "    .dataframe thead th {\n",
       "        text-align: right;\n",
       "    }\n",
       "</style>\n",
       "<table border=\"1\" class=\"dataframe\">\n",
       "  <thead>\n",
       "    <tr style=\"text-align: right;\">\n",
       "      <th></th>\n",
       "      <th>precision</th>\n",
       "      <th>profit/loss</th>\n",
       "    </tr>\n",
       "  </thead>\n",
       "  <tbody>\n",
       "    <tr>\n",
       "      <th>0</th>\n",
       "      <td>0.29833</td>\n",
       "      <td>3529.86</td>\n",
       "    </tr>\n",
       "    <tr>\n",
       "      <th>1</th>\n",
       "      <td>0.30000</td>\n",
       "      <td>3600.00</td>\n",
       "    </tr>\n",
       "    <tr>\n",
       "      <th>2</th>\n",
       "      <td>0.32000</td>\n",
       "      <td>4440.00</td>\n",
       "    </tr>\n",
       "  </tbody>\n",
       "</table>\n",
       "</div>"
      ],
      "text/plain": [
       "   precision  profit/loss\n",
       "0    0.29833      3529.86\n",
       "1    0.30000      3600.00\n",
       "2    0.32000      4440.00"
      ]
     },
     "execution_count": 44,
     "metadata": {},
     "output_type": "execute_result"
    }
   ],
   "source": [
    "effect_v5"
   ]
  },
  {
   "cell_type": "markdown",
   "metadata": {},
   "source": [
    "*Видно, что при увеличении точности при тех же параметрах, что и в первом случчае, экономический эффект увеличивается*"
   ]
  },
  {
   "cell_type": "markdown",
   "metadata": {},
   "source": [
    "6. Как вы думаете, является ли экономически оправданным вложение средств в улучшение качества модели? На сколько нужно улучшить модель, чтобы это качественно сказалось на экономическом эффекте от удержания?"
   ]
  },
  {
   "cell_type": "markdown",
   "metadata": {},
   "source": [
    "*В данном случае нельзя однозначно ответить на этот вопрос, так как помимо всех параметров нужно учитывать стоимость разработки модели, а также ее доработку, в т.ч. и улучшение ее качества. Также нужно понимать, какой эффект является значимым для компании. Анализ из в п.5 показал, что увеличение качества моедли на № процента дает прирост в экономическом эффекте приблизительно на 900 у.е., однако значим ли данный прирост однозначно сказать нельзя.*"
   ]
  }
 ],
 "metadata": {
  "kernelspec": {
   "display_name": "Python 3",
   "language": "python",
   "name": "python3"
  },
  "language_info": {
   "codemirror_mode": {
    "name": "ipython",
    "version": 3
   },
   "file_extension": ".py",
   "mimetype": "text/x-python",
   "name": "python",
   "nbconvert_exporter": "python",
   "pygments_lexer": "ipython3",
   "version": "3.7.4"
  },
  "toc": {
   "base_numbering": 1,
   "nav_menu": {},
   "number_sections": true,
   "sideBar": true,
   "skip_h1_title": false,
   "title_cell": "Table of Contents",
   "title_sidebar": "Contents",
   "toc_cell": false,
   "toc_position": {},
   "toc_section_display": true,
   "toc_window_display": false
  }
 },
 "nbformat": 4,
 "nbformat_minor": 2
}
