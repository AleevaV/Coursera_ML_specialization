{
 "cells": [
  {
   "cell_type": "code",
   "execution_count": 65,
   "metadata": {},
   "outputs": [],
   "source": [
    "import statsmodels\n",
    "import scipy as sc\n",
    "import numpy as np\n",
    "import pandas as pd\n",
    "import statsmodels.formula.api as smf\n",
    "import statsmodels.stats.api as sms\n",
    "from statsmodels.graphics.regressionplots import plot_leverage_resid2\n",
    "import matplotlib.pyplot as plt"
   ]
  },
  {
   "cell_type": "markdown",
   "metadata": {},
   "source": [
    "Давайте проанализируем данные опроса 4361 женщин из Ботсваны.\n",
    "О каждой из них мы знаем:\n",
    "\n",
    "* сколько детей она родила (признак ceb)\n",
    "* возраст (age)\n",
    "* длительность получения образования (educ)\n",
    "* религиозная принадлежность (religion)\n",
    "* идеальное, по её мнению, количество детей в семье (idlnchld)\n",
    "* была ли она когда-нибудь замужем (evermarr)\n",
    "* возраст первого замужества (agefm)\n",
    "* длительность получения образования мужем (heduc)\n",
    "* знает ли она о методах контрацепции (knowmeth)\n",
    "* использует ли она методы контрацепции (usemeth)\n",
    "* живёт ли она в городе (urban)\n",
    "* есть ли у неё электричество, радио, телевизор и велосипед (electric, radio, tv, bicycle)\n",
    "\n",
    "Давайте научимся оценивать количество детей ceb по остальным признакам.\n",
    "\n",
    "Загрузите данные и внимательно изучите их. Сколько разных значений принимает признак religion?"
   ]
  },
  {
   "cell_type": "code",
   "execution_count": 86,
   "metadata": {},
   "outputs": [
    {
     "data": {
      "text/html": [
       "<div>\n",
       "<style scoped>\n",
       "    .dataframe tbody tr th:only-of-type {\n",
       "        vertical-align: middle;\n",
       "    }\n",
       "\n",
       "    .dataframe tbody tr th {\n",
       "        vertical-align: top;\n",
       "    }\n",
       "\n",
       "    .dataframe thead th {\n",
       "        text-align: right;\n",
       "    }\n",
       "</style>\n",
       "<table border=\"1\" class=\"dataframe\">\n",
       "  <thead>\n",
       "    <tr style=\"text-align: right;\">\n",
       "      <th></th>\n",
       "      <th>ceb</th>\n",
       "      <th>age</th>\n",
       "      <th>educ</th>\n",
       "      <th>idlnchld</th>\n",
       "      <th>knowmeth</th>\n",
       "      <th>usemeth</th>\n",
       "      <th>evermarr</th>\n",
       "      <th>agefm</th>\n",
       "      <th>heduc</th>\n",
       "      <th>urban</th>\n",
       "      <th>electric</th>\n",
       "      <th>radio</th>\n",
       "      <th>tv</th>\n",
       "      <th>bicycle</th>\n",
       "    </tr>\n",
       "  </thead>\n",
       "  <tbody>\n",
       "    <tr>\n",
       "      <th>count</th>\n",
       "      <td>4361.000000</td>\n",
       "      <td>4361.000000</td>\n",
       "      <td>4361.000000</td>\n",
       "      <td>4241.000000</td>\n",
       "      <td>4354.000000</td>\n",
       "      <td>4290.000000</td>\n",
       "      <td>4361.000000</td>\n",
       "      <td>2079.000000</td>\n",
       "      <td>1956.000000</td>\n",
       "      <td>4361.000000</td>\n",
       "      <td>4358.000000</td>\n",
       "      <td>4359.000000</td>\n",
       "      <td>4359.000000</td>\n",
       "      <td>4358.000000</td>\n",
       "    </tr>\n",
       "    <tr>\n",
       "      <th>mean</th>\n",
       "      <td>2.441642</td>\n",
       "      <td>27.405182</td>\n",
       "      <td>5.855996</td>\n",
       "      <td>4.615892</td>\n",
       "      <td>0.963252</td>\n",
       "      <td>0.577622</td>\n",
       "      <td>0.476726</td>\n",
       "      <td>20.686388</td>\n",
       "      <td>5.144683</td>\n",
       "      <td>0.516625</td>\n",
       "      <td>0.140202</td>\n",
       "      <td>0.701766</td>\n",
       "      <td>0.092911</td>\n",
       "      <td>0.275815</td>\n",
       "    </tr>\n",
       "    <tr>\n",
       "      <th>std</th>\n",
       "      <td>2.406861</td>\n",
       "      <td>8.685233</td>\n",
       "      <td>3.927075</td>\n",
       "      <td>2.219303</td>\n",
       "      <td>0.188164</td>\n",
       "      <td>0.493996</td>\n",
       "      <td>0.499515</td>\n",
       "      <td>5.002383</td>\n",
       "      <td>4.803028</td>\n",
       "      <td>0.499781</td>\n",
       "      <td>0.347236</td>\n",
       "      <td>0.457535</td>\n",
       "      <td>0.290341</td>\n",
       "      <td>0.446975</td>\n",
       "    </tr>\n",
       "    <tr>\n",
       "      <th>min</th>\n",
       "      <td>0.000000</td>\n",
       "      <td>15.000000</td>\n",
       "      <td>0.000000</td>\n",
       "      <td>0.000000</td>\n",
       "      <td>0.000000</td>\n",
       "      <td>0.000000</td>\n",
       "      <td>0.000000</td>\n",
       "      <td>10.000000</td>\n",
       "      <td>0.000000</td>\n",
       "      <td>0.000000</td>\n",
       "      <td>0.000000</td>\n",
       "      <td>0.000000</td>\n",
       "      <td>0.000000</td>\n",
       "      <td>0.000000</td>\n",
       "    </tr>\n",
       "    <tr>\n",
       "      <th>25%</th>\n",
       "      <td>1.000000</td>\n",
       "      <td>20.000000</td>\n",
       "      <td>3.000000</td>\n",
       "      <td>3.000000</td>\n",
       "      <td>1.000000</td>\n",
       "      <td>0.000000</td>\n",
       "      <td>0.000000</td>\n",
       "      <td>17.000000</td>\n",
       "      <td>0.000000</td>\n",
       "      <td>0.000000</td>\n",
       "      <td>0.000000</td>\n",
       "      <td>0.000000</td>\n",
       "      <td>0.000000</td>\n",
       "      <td>0.000000</td>\n",
       "    </tr>\n",
       "    <tr>\n",
       "      <th>50%</th>\n",
       "      <td>2.000000</td>\n",
       "      <td>26.000000</td>\n",
       "      <td>7.000000</td>\n",
       "      <td>4.000000</td>\n",
       "      <td>1.000000</td>\n",
       "      <td>1.000000</td>\n",
       "      <td>0.000000</td>\n",
       "      <td>20.000000</td>\n",
       "      <td>6.000000</td>\n",
       "      <td>1.000000</td>\n",
       "      <td>0.000000</td>\n",
       "      <td>1.000000</td>\n",
       "      <td>0.000000</td>\n",
       "      <td>0.000000</td>\n",
       "    </tr>\n",
       "    <tr>\n",
       "      <th>75%</th>\n",
       "      <td>4.000000</td>\n",
       "      <td>33.000000</td>\n",
       "      <td>8.000000</td>\n",
       "      <td>6.000000</td>\n",
       "      <td>1.000000</td>\n",
       "      <td>1.000000</td>\n",
       "      <td>1.000000</td>\n",
       "      <td>23.000000</td>\n",
       "      <td>8.000000</td>\n",
       "      <td>1.000000</td>\n",
       "      <td>0.000000</td>\n",
       "      <td>1.000000</td>\n",
       "      <td>0.000000</td>\n",
       "      <td>1.000000</td>\n",
       "    </tr>\n",
       "    <tr>\n",
       "      <th>max</th>\n",
       "      <td>13.000000</td>\n",
       "      <td>49.000000</td>\n",
       "      <td>20.000000</td>\n",
       "      <td>20.000000</td>\n",
       "      <td>1.000000</td>\n",
       "      <td>1.000000</td>\n",
       "      <td>1.000000</td>\n",
       "      <td>46.000000</td>\n",
       "      <td>20.000000</td>\n",
       "      <td>1.000000</td>\n",
       "      <td>1.000000</td>\n",
       "      <td>1.000000</td>\n",
       "      <td>1.000000</td>\n",
       "      <td>1.000000</td>\n",
       "    </tr>\n",
       "  </tbody>\n",
       "</table>\n",
       "</div>"
      ],
      "text/plain": [
       "               ceb          age         educ     idlnchld     knowmeth  \\\n",
       "count  4361.000000  4361.000000  4361.000000  4241.000000  4354.000000   \n",
       "mean      2.441642    27.405182     5.855996     4.615892     0.963252   \n",
       "std       2.406861     8.685233     3.927075     2.219303     0.188164   \n",
       "min       0.000000    15.000000     0.000000     0.000000     0.000000   \n",
       "25%       1.000000    20.000000     3.000000     3.000000     1.000000   \n",
       "50%       2.000000    26.000000     7.000000     4.000000     1.000000   \n",
       "75%       4.000000    33.000000     8.000000     6.000000     1.000000   \n",
       "max      13.000000    49.000000    20.000000    20.000000     1.000000   \n",
       "\n",
       "           usemeth     evermarr        agefm        heduc        urban  \\\n",
       "count  4290.000000  4361.000000  2079.000000  1956.000000  4361.000000   \n",
       "mean      0.577622     0.476726    20.686388     5.144683     0.516625   \n",
       "std       0.493996     0.499515     5.002383     4.803028     0.499781   \n",
       "min       0.000000     0.000000    10.000000     0.000000     0.000000   \n",
       "25%       0.000000     0.000000    17.000000     0.000000     0.000000   \n",
       "50%       1.000000     0.000000    20.000000     6.000000     1.000000   \n",
       "75%       1.000000     1.000000    23.000000     8.000000     1.000000   \n",
       "max       1.000000     1.000000    46.000000    20.000000     1.000000   \n",
       "\n",
       "          electric        radio           tv      bicycle  \n",
       "count  4358.000000  4359.000000  4359.000000  4358.000000  \n",
       "mean      0.140202     0.701766     0.092911     0.275815  \n",
       "std       0.347236     0.457535     0.290341     0.446975  \n",
       "min       0.000000     0.000000     0.000000     0.000000  \n",
       "25%       0.000000     0.000000     0.000000     0.000000  \n",
       "50%       0.000000     1.000000     0.000000     0.000000  \n",
       "75%       0.000000     1.000000     0.000000     1.000000  \n",
       "max       1.000000     1.000000     1.000000     1.000000  "
      ]
     },
     "execution_count": 86,
     "metadata": {},
     "output_type": "execute_result"
    }
   ],
   "source": [
    "women = pd.read_csv('botswana.tsv', sep='\\t')\n",
    "women.describe()"
   ]
  },
  {
   "cell_type": "code",
   "execution_count": 87,
   "metadata": {},
   "outputs": [
    {
     "data": {
      "text/plain": [
       "array(['catholic', 'protestant', 'spirit', 'other'], dtype=object)"
      ]
     },
     "execution_count": 87,
     "metadata": {},
     "output_type": "execute_result"
    }
   ],
   "source": [
    "women.religion.unique()"
   ]
  },
  {
   "cell_type": "markdown",
   "metadata": {},
   "source": [
    "Во многих признаках есть пропущенные значения. Сколько объектов из 4361 останется, если выбросить все, содержащие пропуски?"
   ]
  },
  {
   "cell_type": "code",
   "execution_count": 88,
   "metadata": {},
   "outputs": [
    {
     "data": {
      "text/plain": [
       "((4361, 15), (1834, 15))"
      ]
     },
     "execution_count": 88,
     "metadata": {},
     "output_type": "execute_result"
    }
   ],
   "source": [
    "women.shape, women.dropna().shape"
   ]
  },
  {
   "cell_type": "code",
   "execution_count": 89,
   "metadata": {},
   "outputs": [
    {
     "data": {
      "text/html": [
       "<div>\n",
       "<style scoped>\n",
       "    .dataframe tbody tr th:only-of-type {\n",
       "        vertical-align: middle;\n",
       "    }\n",
       "\n",
       "    .dataframe tbody tr th {\n",
       "        vertical-align: top;\n",
       "    }\n",
       "\n",
       "    .dataframe thead th {\n",
       "        text-align: right;\n",
       "    }\n",
       "</style>\n",
       "<table border=\"1\" class=\"dataframe\">\n",
       "  <thead>\n",
       "    <tr style=\"text-align: right;\">\n",
       "      <th></th>\n",
       "      <th>ceb</th>\n",
       "      <th>age</th>\n",
       "      <th>educ</th>\n",
       "      <th>religion</th>\n",
       "      <th>idlnchld</th>\n",
       "      <th>knowmeth</th>\n",
       "      <th>usemeth</th>\n",
       "      <th>evermarr</th>\n",
       "      <th>agefm</th>\n",
       "      <th>heduc</th>\n",
       "      <th>urban</th>\n",
       "      <th>electric</th>\n",
       "      <th>radio</th>\n",
       "      <th>tv</th>\n",
       "      <th>bicycle</th>\n",
       "    </tr>\n",
       "  </thead>\n",
       "  <tbody>\n",
       "    <tr>\n",
       "      <th>0</th>\n",
       "      <td>0</td>\n",
       "      <td>18</td>\n",
       "      <td>10</td>\n",
       "      <td>catholic</td>\n",
       "      <td>4.0</td>\n",
       "      <td>1.0</td>\n",
       "      <td>1.0</td>\n",
       "      <td>0</td>\n",
       "      <td>NaN</td>\n",
       "      <td>NaN</td>\n",
       "      <td>1</td>\n",
       "      <td>1.0</td>\n",
       "      <td>1.0</td>\n",
       "      <td>1.0</td>\n",
       "      <td>1.0</td>\n",
       "    </tr>\n",
       "    <tr>\n",
       "      <th>1</th>\n",
       "      <td>2</td>\n",
       "      <td>43</td>\n",
       "      <td>11</td>\n",
       "      <td>protestant</td>\n",
       "      <td>2.0</td>\n",
       "      <td>1.0</td>\n",
       "      <td>1.0</td>\n",
       "      <td>1</td>\n",
       "      <td>20.0</td>\n",
       "      <td>14.0</td>\n",
       "      <td>1</td>\n",
       "      <td>1.0</td>\n",
       "      <td>1.0</td>\n",
       "      <td>1.0</td>\n",
       "      <td>1.0</td>\n",
       "    </tr>\n",
       "    <tr>\n",
       "      <th>2</th>\n",
       "      <td>0</td>\n",
       "      <td>49</td>\n",
       "      <td>4</td>\n",
       "      <td>spirit</td>\n",
       "      <td>4.0</td>\n",
       "      <td>1.0</td>\n",
       "      <td>0.0</td>\n",
       "      <td>1</td>\n",
       "      <td>22.0</td>\n",
       "      <td>1.0</td>\n",
       "      <td>1</td>\n",
       "      <td>1.0</td>\n",
       "      <td>1.0</td>\n",
       "      <td>0.0</td>\n",
       "      <td>0.0</td>\n",
       "    </tr>\n",
       "    <tr>\n",
       "      <th>3</th>\n",
       "      <td>0</td>\n",
       "      <td>24</td>\n",
       "      <td>12</td>\n",
       "      <td>other</td>\n",
       "      <td>2.0</td>\n",
       "      <td>1.0</td>\n",
       "      <td>0.0</td>\n",
       "      <td>0</td>\n",
       "      <td>NaN</td>\n",
       "      <td>NaN</td>\n",
       "      <td>1</td>\n",
       "      <td>1.0</td>\n",
       "      <td>1.0</td>\n",
       "      <td>1.0</td>\n",
       "      <td>1.0</td>\n",
       "    </tr>\n",
       "    <tr>\n",
       "      <th>4</th>\n",
       "      <td>3</td>\n",
       "      <td>32</td>\n",
       "      <td>13</td>\n",
       "      <td>other</td>\n",
       "      <td>3.0</td>\n",
       "      <td>1.0</td>\n",
       "      <td>1.0</td>\n",
       "      <td>1</td>\n",
       "      <td>24.0</td>\n",
       "      <td>12.0</td>\n",
       "      <td>1</td>\n",
       "      <td>1.0</td>\n",
       "      <td>1.0</td>\n",
       "      <td>1.0</td>\n",
       "      <td>1.0</td>\n",
       "    </tr>\n",
       "    <tr>\n",
       "      <th>...</th>\n",
       "      <td>...</td>\n",
       "      <td>...</td>\n",
       "      <td>...</td>\n",
       "      <td>...</td>\n",
       "      <td>...</td>\n",
       "      <td>...</td>\n",
       "      <td>...</td>\n",
       "      <td>...</td>\n",
       "      <td>...</td>\n",
       "      <td>...</td>\n",
       "      <td>...</td>\n",
       "      <td>...</td>\n",
       "      <td>...</td>\n",
       "      <td>...</td>\n",
       "      <td>...</td>\n",
       "    </tr>\n",
       "    <tr>\n",
       "      <th>4356</th>\n",
       "      <td>0</td>\n",
       "      <td>16</td>\n",
       "      <td>7</td>\n",
       "      <td>protestant</td>\n",
       "      <td>2.0</td>\n",
       "      <td>1.0</td>\n",
       "      <td>0.0</td>\n",
       "      <td>0</td>\n",
       "      <td>NaN</td>\n",
       "      <td>NaN</td>\n",
       "      <td>0</td>\n",
       "      <td>0.0</td>\n",
       "      <td>1.0</td>\n",
       "      <td>0.0</td>\n",
       "      <td>0.0</td>\n",
       "    </tr>\n",
       "    <tr>\n",
       "      <th>4357</th>\n",
       "      <td>2</td>\n",
       "      <td>28</td>\n",
       "      <td>7</td>\n",
       "      <td>protestant</td>\n",
       "      <td>4.0</td>\n",
       "      <td>1.0</td>\n",
       "      <td>1.0</td>\n",
       "      <td>0</td>\n",
       "      <td>NaN</td>\n",
       "      <td>NaN</td>\n",
       "      <td>0</td>\n",
       "      <td>0.0</td>\n",
       "      <td>1.0</td>\n",
       "      <td>0.0</td>\n",
       "      <td>0.0</td>\n",
       "    </tr>\n",
       "    <tr>\n",
       "      <th>4358</th>\n",
       "      <td>4</td>\n",
       "      <td>24</td>\n",
       "      <td>5</td>\n",
       "      <td>protestant</td>\n",
       "      <td>4.0</td>\n",
       "      <td>1.0</td>\n",
       "      <td>1.0</td>\n",
       "      <td>0</td>\n",
       "      <td>NaN</td>\n",
       "      <td>NaN</td>\n",
       "      <td>0</td>\n",
       "      <td>0.0</td>\n",
       "      <td>1.0</td>\n",
       "      <td>0.0</td>\n",
       "      <td>0.0</td>\n",
       "    </tr>\n",
       "    <tr>\n",
       "      <th>4359</th>\n",
       "      <td>1</td>\n",
       "      <td>26</td>\n",
       "      <td>0</td>\n",
       "      <td>spirit</td>\n",
       "      <td>5.0</td>\n",
       "      <td>1.0</td>\n",
       "      <td>0.0</td>\n",
       "      <td>1</td>\n",
       "      <td>22.0</td>\n",
       "      <td>7.0</td>\n",
       "      <td>0</td>\n",
       "      <td>0.0</td>\n",
       "      <td>1.0</td>\n",
       "      <td>0.0</td>\n",
       "      <td>0.0</td>\n",
       "    </tr>\n",
       "    <tr>\n",
       "      <th>4360</th>\n",
       "      <td>6</td>\n",
       "      <td>36</td>\n",
       "      <td>3</td>\n",
       "      <td>protestant</td>\n",
       "      <td>8.0</td>\n",
       "      <td>1.0</td>\n",
       "      <td>1.0</td>\n",
       "      <td>1</td>\n",
       "      <td>21.0</td>\n",
       "      <td>0.0</td>\n",
       "      <td>0</td>\n",
       "      <td>0.0</td>\n",
       "      <td>1.0</td>\n",
       "      <td>0.0</td>\n",
       "      <td>0.0</td>\n",
       "    </tr>\n",
       "  </tbody>\n",
       "</table>\n",
       "<p>4361 rows × 15 columns</p>\n",
       "</div>"
      ],
      "text/plain": [
       "      ceb  age  educ    religion  idlnchld  knowmeth  usemeth  evermarr  \\\n",
       "0       0   18    10    catholic       4.0       1.0      1.0         0   \n",
       "1       2   43    11  protestant       2.0       1.0      1.0         1   \n",
       "2       0   49     4      spirit       4.0       1.0      0.0         1   \n",
       "3       0   24    12       other       2.0       1.0      0.0         0   \n",
       "4       3   32    13       other       3.0       1.0      1.0         1   \n",
       "...   ...  ...   ...         ...       ...       ...      ...       ...   \n",
       "4356    0   16     7  protestant       2.0       1.0      0.0         0   \n",
       "4357    2   28     7  protestant       4.0       1.0      1.0         0   \n",
       "4358    4   24     5  protestant       4.0       1.0      1.0         0   \n",
       "4359    1   26     0      spirit       5.0       1.0      0.0         1   \n",
       "4360    6   36     3  protestant       8.0       1.0      1.0         1   \n",
       "\n",
       "      agefm  heduc  urban  electric  radio   tv  bicycle  \n",
       "0       NaN    NaN      1       1.0    1.0  1.0      1.0  \n",
       "1      20.0   14.0      1       1.0    1.0  1.0      1.0  \n",
       "2      22.0    1.0      1       1.0    1.0  0.0      0.0  \n",
       "3       NaN    NaN      1       1.0    1.0  1.0      1.0  \n",
       "4      24.0   12.0      1       1.0    1.0  1.0      1.0  \n",
       "...     ...    ...    ...       ...    ...  ...      ...  \n",
       "4356    NaN    NaN      0       0.0    1.0  0.0      0.0  \n",
       "4357    NaN    NaN      0       0.0    1.0  0.0      0.0  \n",
       "4358    NaN    NaN      0       0.0    1.0  0.0      0.0  \n",
       "4359   22.0    7.0      0       0.0    1.0  0.0      0.0  \n",
       "4360   21.0    0.0      0       0.0    1.0  0.0      0.0  \n",
       "\n",
       "[4361 rows x 15 columns]"
      ]
     },
     "execution_count": 89,
     "metadata": {},
     "output_type": "execute_result"
    }
   ],
   "source": [
    "women"
   ]
  },
  {
   "cell_type": "markdown",
   "metadata": {},
   "source": [
    "1. Создайте признак nevermarr, равный единице там, где в agefm пропуски.\n",
    "2. Удалите признак evermarr — в сумме с nevermarr он даёт константу, значит, в нашей матрице X будет мультиколлинеарность.\n",
    "3. Замените NaN в признаке agefm на c_agefm=0\n",
    "4. У объектов, где nevermarr = 1, замените NaN в признаке heduc на c_heduc_1=-1c (ноль использовать нельзя, так как он уже встречается у некоторых объектов выборки).\n",
    "\n",
    "Сколько осталось пропущенных значений в признаке heduc?"
   ]
  },
  {
   "cell_type": "code",
   "execution_count": 90,
   "metadata": {},
   "outputs": [],
   "source": [
    "women['nevermarr'] = None\n",
    "women.loc[women.agefm.isna(),'nevermarr'] = 1\n",
    "women['nevermarr'] = women['nevermarr'].fillna(0)\n",
    "women = women.drop('evermarr',axis=1)\n",
    "women['agefm'] = women['agefm'].fillna(0)\n",
    "women.loc[women['nevermarr']==1, 'heduc'] = -1"
   ]
  },
  {
   "cell_type": "code",
   "execution_count": 91,
   "metadata": {},
   "outputs": [
    {
     "data": {
      "text/plain": [
       "123"
      ]
     },
     "execution_count": 91,
     "metadata": {},
     "output_type": "execute_result"
    }
   ],
   "source": [
    "women.heduc.isna().sum()"
   ]
  },
  {
   "cell_type": "markdown",
   "metadata": {},
   "source": [
    "Избавимся от оставшихся пропусков.\n",
    "\n",
    "Для признаков idlnchld, heduc и usemeth проведите операцию, аналогичную предыдущей: создайте индикаторы пропусков по этим признакам (idlnchld_noans, heduc_noans, usemeth_noans), замените пропуски на нехарактерные значения (c_idlnchld=-1, c_heduc_2=-2 (значение -1 мы уже использовали), c_usemeth=-1).\n",
    "\n",
    "Остались только пропуски в признаках knowmeth, electric, radio, tv и bicycle. Их очень мало, так что удалите объекты, на которых их значения пропущены.\n",
    "\n",
    "Какого размера теперь наша матрица данных? Умножьте количество строк на количество всех столбцов (включая отклик ceb)."
   ]
  },
  {
   "cell_type": "code",
   "execution_count": 92,
   "metadata": {},
   "outputs": [],
   "source": [
    "women['idlnchld_noans'] = np.where(women['idlnchld'].isna(), 1, 0)\n",
    "women['heduc_noans'] = np.where(women['heduc'].isna(), 1, 0)\n",
    "women['usemeth_noans'] = np.where(women['usemeth'].isna(), 1, 0)"
   ]
  },
  {
   "cell_type": "code",
   "execution_count": 93,
   "metadata": {},
   "outputs": [],
   "source": [
    "women.loc[women['idlnchld_noans']==1,'idlnchld'] = -1\n",
    "women.loc[women['heduc_noans']==1,'heduc'] = -2 \n",
    "women.loc[women['usemeth_noans']==1,'usemeth'] = -1"
   ]
  },
  {
   "cell_type": "code",
   "execution_count": 94,
   "metadata": {},
   "outputs": [],
   "source": [
    "women = women.dropna(subset = ['knowmeth','electric','radio','tv','bicycle'])"
   ]
  },
  {
   "cell_type": "code",
   "execution_count": 95,
   "metadata": {},
   "outputs": [
    {
     "data": {
      "text/plain": [
       "ceb               0\n",
       "age               0\n",
       "educ              0\n",
       "religion          0\n",
       "idlnchld          0\n",
       "knowmeth          0\n",
       "usemeth           0\n",
       "agefm             0\n",
       "heduc             0\n",
       "urban             0\n",
       "electric          0\n",
       "radio             0\n",
       "tv                0\n",
       "bicycle           0\n",
       "nevermarr         0\n",
       "idlnchld_noans    0\n",
       "heduc_noans       0\n",
       "usemeth_noans     0\n",
       "dtype: int64"
      ]
     },
     "execution_count": 95,
     "metadata": {},
     "output_type": "execute_result"
    }
   ],
   "source": [
    "women.isna().sum()"
   ]
  },
  {
   "cell_type": "code",
   "execution_count": 97,
   "metadata": {},
   "outputs": [
    {
     "data": {
      "text/plain": [
       "78264"
      ]
     },
     "execution_count": 97,
     "metadata": {},
     "output_type": "execute_result"
    }
   ],
   "source": [
    "women.shape[0]*women.shape[1]"
   ]
  },
  {
   "cell_type": "markdown",
   "metadata": {},
   "source": [
    "Постройте регрессию количества детей ceb на все имеющиеся признаки методом smf.ols, как в разобранном до этого примере. Какой получился коэффициент детерминации R^2? Округлите до трёх знаков после десятичной точки."
   ]
  },
  {
   "cell_type": "code",
   "execution_count": 100,
   "metadata": {},
   "outputs": [
    {
     "data": {
      "text/plain": [
       "'ceb + age + educ + religion + idlnchld + knowmeth + usemeth + agefm + heduc + urban + electric + radio + tv + bicycle + nevermarr + idlnchld_noans + heduc_noans + usemeth_noans'"
      ]
     },
     "execution_count": 100,
     "metadata": {},
     "output_type": "execute_result"
    }
   ],
   "source": [
    "' + '.join(list(women.columns))"
   ]
  },
  {
   "cell_type": "code",
   "execution_count": 101,
   "metadata": {},
   "outputs": [
    {
     "name": "stdout",
     "output_type": "stream",
     "text": [
      "                            OLS Regression Results                            \n",
      "==============================================================================\n",
      "Dep. Variable:                    ceb   R-squared:                       0.644\n",
      "Model:                            OLS   Adj. R-squared:                  0.643\n",
      "Method:                 Least Squares   F-statistic:                     412.5\n",
      "Date:                Sat, 08 Feb 2020   Prob (F-statistic):               0.00\n",
      "Time:                        18:59:52   Log-Likelihood:                -7732.1\n",
      "No. Observations:                4348   AIC:                         1.550e+04\n",
      "Df Residuals:                    4328   BIC:                         1.563e+04\n",
      "Df Model:                          19                                         \n",
      "Covariance Type:            nonrobust                                         \n",
      "==========================================================================================\n",
      "                             coef    std err          t      P>|t|      [0.025      0.975]\n",
      "------------------------------------------------------------------------------------------\n",
      "Intercept                 -1.0263      0.212     -4.835      0.000      -1.443      -0.610\n",
      "religion[T.other]         -0.0830      0.083     -1.001      0.317      -0.245       0.080\n",
      "religion[T.protestant]    -0.0149      0.082     -0.181      0.857      -0.176       0.146\n",
      "religion[T.spirit]        -0.0191      0.077     -0.248      0.804      -0.171       0.132\n",
      "age                        0.1703      0.003     51.891      0.000       0.164       0.177\n",
      "educ                      -0.0724      0.007     -9.843      0.000      -0.087      -0.058\n",
      "idlnchld                   0.0760      0.011      6.923      0.000       0.054       0.098\n",
      "knowmeth                   0.5564      0.121      4.580      0.000       0.318       0.795\n",
      "usemeth                    0.6473      0.048     13.424      0.000       0.553       0.742\n",
      "agefm                     -0.0604      0.007     -9.213      0.000      -0.073      -0.048\n",
      "heduc                     -0.0551      0.008     -6.838      0.000      -0.071      -0.039\n",
      "urban                     -0.2137      0.047     -4.527      0.000      -0.306      -0.121\n",
      "electric                  -0.2685      0.077     -3.479      0.001      -0.420      -0.117\n",
      "radio                     -0.0235      0.051     -0.461      0.645      -0.123       0.076\n",
      "tv                        -0.1451      0.093     -1.566      0.118      -0.327       0.037\n",
      "bicycle                    0.2139      0.050      4.260      0.000       0.115       0.312\n",
      "nevermarr                 -2.2393      0.148    -15.143      0.000      -2.529      -1.949\n",
      "idlnchld_noans             0.6539      0.153      4.286      0.000       0.355       0.953\n",
      "heduc_noans               -0.8724      0.145     -6.026      0.000      -1.156      -0.589\n",
      "usemeth_noans              0.7652      0.196      3.910      0.000       0.382       1.149\n",
      "==============================================================================\n",
      "Omnibus:                      224.411   Durbin-Watson:                   1.887\n",
      "Prob(Omnibus):                  0.000   Jarque-Bera (JB):              859.014\n",
      "Skew:                           0.003   Prob(JB):                    2.93e-187\n",
      "Kurtosis:                       5.178   Cond. No.                         361.\n",
      "==============================================================================\n",
      "\n",
      "Warnings:\n",
      "[1] Standard Errors assume that the covariance matrix of the errors is correctly specified.\n"
     ]
    }
   ],
   "source": [
    "m1 = smf.ols('ceb ~ age + educ + religion + idlnchld + knowmeth + usemeth +'\\\n",
    "             'agefm + heduc + urban + electric + radio + tv + bicycle + nevermarr +'\\\n",
    "             'idlnchld_noans + heduc_noans + usemeth_noans', \n",
    "             data = women)\n",
    "fitted = m1.fit()\n",
    "print(fitted.summary())"
   ]
  },
  {
   "cell_type": "markdown",
   "metadata": {},
   "source": [
    "Проверьте критерием Бройша-Пагана гомоскедастичность ошибки в построенной модели. Выполняется ли она?\n",
    "\n",
    "Если ошибка гетероскедастична, перенастройте модель, сделав поправку Уайта типа HC1."
   ]
  },
  {
   "cell_type": "code",
   "execution_count": 102,
   "metadata": {},
   "outputs": [
    {
     "name": "stdout",
     "output_type": "stream",
     "text": [
      "Breusch-Pagan test: p=0.000000\n"
     ]
    }
   ],
   "source": [
    "print('Breusch-Pagan test: p=%f' % sms.het_breuschpagan(fitted.resid, fitted.model.exog)[1])"
   ]
  },
  {
   "cell_type": "code",
   "execution_count": 109,
   "metadata": {},
   "outputs": [
    {
     "name": "stdout",
     "output_type": "stream",
     "text": [
      "                            OLS Regression Results                            \n",
      "==============================================================================\n",
      "Dep. Variable:                    ceb   R-squared:                       0.644\n",
      "Model:                            OLS   Adj. R-squared:                  0.643\n",
      "Method:                 Least Squares   F-statistic:                     345.0\n",
      "Date:                Sat, 08 Feb 2020   Prob (F-statistic):               0.00\n",
      "Time:                        19:07:50   Log-Likelihood:                -7732.1\n",
      "No. Observations:                4348   AIC:                         1.550e+04\n",
      "Df Residuals:                    4328   BIC:                         1.563e+04\n",
      "Df Model:                          19                                         \n",
      "Covariance Type:                  HC1                                         \n",
      "==========================================================================================\n",
      "                             coef    std err          z      P>|z|      [0.025      0.975]\n",
      "------------------------------------------------------------------------------------------\n",
      "Intercept                 -1.0263      0.266     -3.863      0.000      -1.547      -0.506\n",
      "religion[T.other]         -0.0830      0.078     -1.067      0.286      -0.235       0.069\n",
      "religion[T.protestant]    -0.0149      0.078     -0.192      0.848      -0.167       0.137\n",
      "religion[T.spirit]        -0.0191      0.071     -0.268      0.789      -0.159       0.121\n",
      "age                        0.1703      0.004     38.627      0.000       0.162       0.179\n",
      "educ                      -0.0724      0.007     -9.924      0.000      -0.087      -0.058\n",
      "idlnchld                   0.0760      0.015      5.236      0.000       0.048       0.104\n",
      "knowmeth                   0.5564      0.174      3.190      0.001       0.215       0.898\n",
      "usemeth                    0.6473      0.052     12.478      0.000       0.546       0.749\n",
      "agefm                     -0.0604      0.010     -6.174      0.000      -0.080      -0.041\n",
      "heduc                     -0.0551      0.009     -6.126      0.000      -0.073      -0.037\n",
      "urban                     -0.2137      0.046     -4.667      0.000      -0.303      -0.124\n",
      "electric                  -0.2685      0.072     -3.732      0.000      -0.410      -0.128\n",
      "radio                     -0.0235      0.053     -0.446      0.656      -0.127       0.080\n",
      "tv                        -0.1451      0.082     -1.766      0.077      -0.306       0.016\n",
      "bicycle                    0.2139      0.048      4.412      0.000       0.119       0.309\n",
      "nevermarr                 -2.2393      0.202    -11.082      0.000      -2.635      -1.843\n",
      "idlnchld_noans             0.6539      0.216      3.029      0.002       0.231       1.077\n",
      "heduc_noans               -0.8724      0.191     -4.556      0.000      -1.248      -0.497\n",
      "usemeth_noans              0.7652      0.213      3.590      0.000       0.347       1.183\n",
      "==============================================================================\n",
      "Omnibus:                      224.411   Durbin-Watson:                   1.887\n",
      "Prob(Omnibus):                  0.000   Jarque-Bera (JB):              859.014\n",
      "Skew:                           0.003   Prob(JB):                    2.93e-187\n",
      "Kurtosis:                       5.178   Cond. No.                         361.\n",
      "==============================================================================\n",
      "\n",
      "Warnings:\n",
      "[1] Standard Errors are heteroscedasticity robust (HC1)\n"
     ]
    }
   ],
   "source": [
    "m2 = smf.ols('ceb ~ age + educ + religion + idlnchld + knowmeth + usemeth +'\\\n",
    "             'agefm + heduc + urban + electric + radio + tv + bicycle + nevermarr +'\\\n",
    "             'idlnchld_noans + heduc_noans + usemeth_noans', data=women)\n",
    "fitted2 = m2.fit(cov_type='HC1')\n",
    "print(fitted2.summary())"
   ]
  },
  {
   "cell_type": "markdown",
   "metadata": {},
   "source": [
    "Удалите из модели незначимые признаки religion, radio и tv. Проверьте гомоскедастичность ошибки, при необходимости сделайте поправку Уайта.\n",
    "\n",
    "Не произошло ли значимого ухудшения модели после удаления этой группы признаков? Проверьте с помощью критерия Фишера. Чему равен его достигаемый уровень значимости? Округлите до четырёх цифр после десятичной точки.\n",
    "\n",
    "Если достигаемый уровень значимости получился маленький, верните все удалённые признаки; если он достаточно велик, оставьте модель без религии, тв и радио."
   ]
  },
  {
   "cell_type": "code",
   "execution_count": 110,
   "metadata": {},
   "outputs": [
    {
     "name": "stdout",
     "output_type": "stream",
     "text": [
      "                            OLS Regression Results                            \n",
      "==============================================================================\n",
      "Dep. Variable:                    ceb   R-squared:                       0.644\n",
      "Model:                            OLS   Adj. R-squared:                  0.643\n",
      "Method:                 Least Squares   F-statistic:                     559.5\n",
      "Date:                Sat, 08 Feb 2020   Prob (F-statistic):               0.00\n",
      "Time:                        19:07:57   Log-Likelihood:                -7734.5\n",
      "No. Observations:                4348   AIC:                         1.550e+04\n",
      "Df Residuals:                    4333   BIC:                         1.559e+04\n",
      "Df Model:                          14                                         \n",
      "Covariance Type:            nonrobust                                         \n",
      "==================================================================================\n",
      "                     coef    std err          t      P>|t|      [0.025      0.975]\n",
      "----------------------------------------------------------------------------------\n",
      "Intercept         -1.0698      0.198     -5.393      0.000      -1.459      -0.681\n",
      "age                0.1702      0.003     52.271      0.000       0.164       0.177\n",
      "educ              -0.0729      0.007    -10.285      0.000      -0.087      -0.059\n",
      "idlnchld           0.0770      0.011      7.042      0.000       0.056       0.098\n",
      "knowmeth           0.5610      0.121      4.628      0.000       0.323       0.799\n",
      "usemeth            0.6516      0.048     13.537      0.000       0.557       0.746\n",
      "agefm             -0.0606      0.007     -9.240      0.000      -0.073      -0.048\n",
      "heduc             -0.0573      0.008     -7.186      0.000      -0.073      -0.042\n",
      "urban             -0.2190      0.047     -4.682      0.000      -0.311      -0.127\n",
      "electric          -0.3207      0.070     -4.584      0.000      -0.458      -0.184\n",
      "bicycle            0.2046      0.049      4.154      0.000       0.108       0.301\n",
      "nevermarr         -2.2501      0.148    -15.231      0.000      -2.540      -1.961\n",
      "idlnchld_noans     0.6565      0.152      4.310      0.000       0.358       0.955\n",
      "heduc_noans       -0.8853      0.145     -6.122      0.000      -1.169      -0.602\n",
      "usemeth_noans      0.7732      0.196      3.955      0.000       0.390       1.156\n",
      "==============================================================================\n",
      "Omnibus:                      224.096   Durbin-Watson:                   1.886\n",
      "Prob(Omnibus):                  0.000   Jarque-Bera (JB):              856.760\n",
      "Skew:                           0.004   Prob(JB):                    9.06e-187\n",
      "Kurtosis:                       5.175   Cond. No.                         345.\n",
      "==============================================================================\n",
      "\n",
      "Warnings:\n",
      "[1] Standard Errors assume that the covariance matrix of the errors is correctly specified.\n",
      "Breusch-Pagan test: p=0.000000\n"
     ]
    }
   ],
   "source": [
    "m3 = smf.ols('ceb ~ age + educ + idlnchld + knowmeth + usemeth +'\\\n",
    "             'agefm + heduc + urban + electric + bicycle + nevermarr +'\\\n",
    "             'idlnchld_noans + heduc_noans + usemeth_noans', data=women)\n",
    "fitted3 = m3.fit()\n",
    "print(fitted3.summary())\n",
    "print('Breusch-Pagan test: p=%f' % sms.het_breuschpagan(fitted3.resid, fitted3.model.exog)[1])"
   ]
  },
  {
   "cell_type": "code",
   "execution_count": 111,
   "metadata": {},
   "outputs": [
    {
     "name": "stdout",
     "output_type": "stream",
     "text": [
      "                            OLS Regression Results                            \n",
      "==============================================================================\n",
      "Dep. Variable:                    ceb   R-squared:                       0.644\n",
      "Model:                            OLS   Adj. R-squared:                  0.643\n",
      "Method:                 Least Squares   F-statistic:                     463.4\n",
      "Date:                Sat, 08 Feb 2020   Prob (F-statistic):               0.00\n",
      "Time:                        19:08:03   Log-Likelihood:                -7734.5\n",
      "No. Observations:                4348   AIC:                         1.550e+04\n",
      "Df Residuals:                    4333   BIC:                         1.559e+04\n",
      "Df Model:                          14                                         \n",
      "Covariance Type:                  HC1                                         \n",
      "==================================================================================\n",
      "                     coef    std err          z      P>|z|      [0.025      0.975]\n",
      "----------------------------------------------------------------------------------\n",
      "Intercept         -1.0698      0.258     -4.152      0.000      -1.575      -0.565\n",
      "age                0.1702      0.004     38.746      0.000       0.162       0.179\n",
      "educ              -0.0729      0.007    -10.311      0.000      -0.087      -0.059\n",
      "idlnchld           0.0770      0.014      5.323      0.000       0.049       0.105\n",
      "knowmeth           0.5610      0.174      3.224      0.001       0.220       0.902\n",
      "usemeth            0.6516      0.052     12.571      0.000       0.550       0.753\n",
      "agefm             -0.0606      0.010     -6.192      0.000      -0.080      -0.041\n",
      "heduc             -0.0573      0.009     -6.440      0.000      -0.075      -0.040\n",
      "urban             -0.2190      0.045     -4.814      0.000      -0.308      -0.130\n",
      "electric          -0.3207      0.063     -5.076      0.000      -0.445      -0.197\n",
      "bicycle            0.2046      0.048      4.279      0.000       0.111       0.298\n",
      "nevermarr         -2.2501      0.202    -11.158      0.000      -2.645      -1.855\n",
      "idlnchld_noans     0.6565      0.216      3.043      0.002       0.234       1.079\n",
      "heduc_noans       -0.8853      0.191     -4.638      0.000      -1.259      -0.511\n",
      "usemeth_noans      0.7732      0.212      3.639      0.000       0.357       1.190\n",
      "==============================================================================\n",
      "Omnibus:                      224.096   Durbin-Watson:                   1.886\n",
      "Prob(Omnibus):                  0.000   Jarque-Bera (JB):              856.760\n",
      "Skew:                           0.004   Prob(JB):                    9.06e-187\n",
      "Kurtosis:                       5.175   Cond. No.                         345.\n",
      "==============================================================================\n",
      "\n",
      "Warnings:\n",
      "[1] Standard Errors are heteroscedasticity robust (HC1)\n"
     ]
    }
   ],
   "source": [
    "fitted3 = m3.fit(cov_type='HC1')\n",
    "print(fitted3.summary())"
   ]
  },
  {
   "cell_type": "code",
   "execution_count": 117,
   "metadata": {},
   "outputs": [
    {
     "name": "stdout",
     "output_type": "stream",
     "text": [
      "F = 0.9192357784629898, p = 0.4672305547275616, k1 = 5.0\n"
     ]
    }
   ],
   "source": [
    "F_stat = m2.fit().compare_f_test(m3.fit())\n",
    "print('F = {}, p = {}, k1 = {}'. format(F_stat[0],F_stat[1],F_stat[2]))"
   ]
  },
  {
   "cell_type": "markdown",
   "metadata": {},
   "source": [
    "Признак usemeth_noans значим по критерию Стьюдента, то есть, при его удалении модель значимо ухудшится. Но вообще-то отдельно его удалять нельзя: из-за того, что мы перекодировали пропуски в usemeth произвольно выбранным значением c_usemeth=-1, удалять usemeth_noans и usemeth можно только вместе.\n",
    "\n",
    "Удалите из текущей модели usemeth_noans и usemeth. Проверьте критерием Фишера гипотезу о том, что качество модели не ухудшилось. Введите номер первой значащей цифры в достигаемом уровне значимости.\n",
    "\n",
    "Если достигаемый уровень значимости получился маленький, верните удалённые признаки; если он достаточно велик, оставьте модель без usemeth и usemeth_noans."
   ]
  },
  {
   "cell_type": "code",
   "execution_count": 125,
   "metadata": {},
   "outputs": [
    {
     "name": "stdout",
     "output_type": "stream",
     "text": [
      "                            OLS Regression Results                            \n",
      "==============================================================================\n",
      "Dep. Variable:                    ceb   R-squared:                       0.629\n",
      "Model:                            OLS   Adj. R-squared:                  0.628\n",
      "Method:                 Least Squares   F-statistic:                     396.4\n",
      "Date:                Sat, 08 Feb 2020   Prob (F-statistic):               0.00\n",
      "Time:                        19:21:21   Log-Likelihood:                -7825.7\n",
      "No. Observations:                4348   AIC:                         1.568e+04\n",
      "Df Residuals:                    4335   BIC:                         1.576e+04\n",
      "Df Model:                          12                                         \n",
      "Covariance Type:                  HC1                                         \n",
      "==================================================================================\n",
      "                     coef    std err          z      P>|z|      [0.025      0.975]\n",
      "----------------------------------------------------------------------------------\n",
      "Intercept         -1.1931      0.262     -4.562      0.000      -1.706      -0.681\n",
      "age                0.1776      0.004     41.592      0.000       0.169       0.186\n",
      "educ              -0.0560      0.007     -7.788      0.000      -0.070      -0.042\n",
      "idlnchld           0.0705      0.015      4.748      0.000       0.041       0.100\n",
      "knowmeth           0.8739      0.174      5.029      0.000       0.533       1.214\n",
      "agefm             -0.0649      0.010     -6.489      0.000      -0.085      -0.045\n",
      "heduc             -0.0521      0.009     -5.658      0.000      -0.070      -0.034\n",
      "urban             -0.1866      0.046     -4.019      0.000      -0.278      -0.096\n",
      "electric          -0.3218      0.065     -4.953      0.000      -0.449      -0.194\n",
      "bicycle            0.1979      0.048      4.083      0.000       0.103       0.293\n",
      "nevermarr         -2.3625      0.205    -11.498      0.000      -2.765      -1.960\n",
      "idlnchld_noans     0.5266      0.225      2.343      0.019       0.086       0.967\n",
      "heduc_noans       -0.7947      0.195     -4.070      0.000      -1.177      -0.412\n",
      "==============================================================================\n",
      "Omnibus:                      250.641   Durbin-Watson:                   1.910\n",
      "Prob(Omnibus):                  0.000   Jarque-Bera (JB):              936.515\n",
      "Skew:                          -0.158   Prob(JB):                    4.35e-204\n",
      "Kurtosis:                       5.251   Cond. No.                         345.\n",
      "==============================================================================\n",
      "\n",
      "Warnings:\n",
      "[1] Standard Errors are heteroscedasticity robust (HC1)\n",
      "F = 92.8905823010962, p = 3.1552009480426394e-40, k1 = 2.0\n"
     ]
    }
   ],
   "source": [
    "m4 = smf.ols('ceb ~ age + educ + idlnchld + knowmeth +'\\\n",
    "             'agefm + heduc + urban + electric + bicycle + nevermarr +'\\\n",
    "             'idlnchld_noans + heduc_noans', data=women)\n",
    "fitted4 = m4.fit(cov_type='HC1')\n",
    "print(fitted4.summary())\n",
    "\n",
    "F_stat = m3.fit().compare_f_test(m4.fit())\n",
    "print('F = {}, p = {}, k1 = {}'. format(F_stat[0],F_stat[1],F_stat[2]))"
   ]
  },
  {
   "cell_type": "markdown",
   "metadata": {},
   "source": [
    "Посмотрите на доверительные интервалы для коэффициентов итоговой модели (не забудьте использовать поправку Уайта, если есть гетероскедастичность ошибки) и выберите правильные выводы."
   ]
  },
  {
   "cell_type": "code",
   "execution_count": 126,
   "metadata": {},
   "outputs": [
    {
     "name": "stdout",
     "output_type": "stream",
     "text": [
      "                            OLS Regression Results                            \n",
      "==============================================================================\n",
      "Dep. Variable:                    ceb   R-squared:                       0.629\n",
      "Model:                            OLS   Adj. R-squared:                  0.628\n",
      "Method:                 Least Squares   F-statistic:                     396.4\n",
      "Date:                Sat, 08 Feb 2020   Prob (F-statistic):               0.00\n",
      "Time:                        19:21:22   Log-Likelihood:                -7825.7\n",
      "No. Observations:                4348   AIC:                         1.568e+04\n",
      "Df Residuals:                    4335   BIC:                         1.576e+04\n",
      "Df Model:                          12                                         \n",
      "Covariance Type:                  HC1                                         \n",
      "==================================================================================\n",
      "                     coef    std err          z      P>|z|      [0.025      0.975]\n",
      "----------------------------------------------------------------------------------\n",
      "Intercept         -1.1931      0.262     -4.562      0.000      -1.706      -0.681\n",
      "age                0.1776      0.004     41.592      0.000       0.169       0.186\n",
      "educ              -0.0560      0.007     -7.788      0.000      -0.070      -0.042\n",
      "idlnchld           0.0705      0.015      4.748      0.000       0.041       0.100\n",
      "knowmeth           0.8739      0.174      5.029      0.000       0.533       1.214\n",
      "agefm             -0.0649      0.010     -6.489      0.000      -0.085      -0.045\n",
      "heduc             -0.0521      0.009     -5.658      0.000      -0.070      -0.034\n",
      "urban             -0.1866      0.046     -4.019      0.000      -0.278      -0.096\n",
      "electric          -0.3218      0.065     -4.953      0.000      -0.449      -0.194\n",
      "bicycle            0.1979      0.048      4.083      0.000       0.103       0.293\n",
      "nevermarr         -2.3625      0.205    -11.498      0.000      -2.765      -1.960\n",
      "idlnchld_noans     0.5266      0.225      2.343      0.019       0.086       0.967\n",
      "heduc_noans       -0.7947      0.195     -4.070      0.000      -1.177      -0.412\n",
      "==============================================================================\n",
      "Omnibus:                      250.641   Durbin-Watson:                   1.910\n",
      "Prob(Omnibus):                  0.000   Jarque-Bera (JB):              936.515\n",
      "Skew:                          -0.158   Prob(JB):                    4.35e-204\n",
      "Kurtosis:                       5.251   Cond. No.                         345.\n",
      "==============================================================================\n",
      "\n",
      "Warnings:\n",
      "[1] Standard Errors are heteroscedasticity robust (HC1)\n"
     ]
    }
   ],
   "source": [
    "print(fitted4.summary())"
   ]
  },
  {
   "cell_type": "code",
   "execution_count": null,
   "metadata": {},
   "outputs": [],
   "source": []
  },
  {
   "cell_type": "code",
   "execution_count": null,
   "metadata": {},
   "outputs": [],
   "source": []
  }
 ],
 "metadata": {
  "kernelspec": {
   "display_name": "Python 3",
   "language": "python",
   "name": "python3"
  },
  "language_info": {
   "codemirror_mode": {
    "name": "ipython",
    "version": 3
   },
   "file_extension": ".py",
   "mimetype": "text/x-python",
   "name": "python",
   "nbconvert_exporter": "python",
   "pygments_lexer": "ipython3",
   "version": "3.7.4"
  },
  "toc": {
   "base_numbering": 1,
   "nav_menu": {},
   "number_sections": true,
   "sideBar": true,
   "skip_h1_title": false,
   "title_cell": "Table of Contents",
   "title_sidebar": "Contents",
   "toc_cell": false,
   "toc_position": {},
   "toc_section_display": true,
   "toc_window_display": false
  }
 },
 "nbformat": 4,
 "nbformat_minor": 2
}
