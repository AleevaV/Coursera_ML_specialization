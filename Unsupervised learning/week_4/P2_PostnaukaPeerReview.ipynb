{
 "cells": [
  {
   "cell_type": "markdown",
   "metadata": {},
   "source": [
    "# Тематическая модель [Постнауки](http://postnauka.ru)\n",
    "## Peer Review (optional)"
   ]
  },
  {
   "cell_type": "markdown",
   "metadata": {},
   "source": [
    "В этом задании мы применим аппарат тематического моделирования к коллекции текстовых записей видеолекций, скачанных с сайта Постнаука. Мы будем визуализировать модель и создавать прототип тематического навигатора по коллекции. В коллекции 1728 документов, размер словаря - 38467 слов. Слова лемматизированы, то есть приведены к начальной форме, с помощью программы [mystem](https://tech.yandex.ru/mystem/), коллекция сохранена в [формате vowpal wabbit](http://docs.bigartm.org/en/latest/formats.html). В каждой строке до первой черты записана информация о документе (ссылка на страницу с лекцией), после первой черты следует описание документа. Используются две модальности - текстовая (\"text\") и модальность авторов (\"author\"); у каждого документа один автор."
   ]
  },
  {
   "cell_type": "markdown",
   "metadata": {},
   "source": [
    "Для выполнения задания понадобится библиотека [BigARTM](http://docs.bigartm.org). В демонстрации показан пример использования библиотеки версии 0.7.4, на сайте предлагается скачивать версию 0.8.0. В новой версии изменены принципы работы со словарями: они вынесены в отдельный класс (пример в [Release Notes](http://docs.bigartm.org/en/stable/release_notes/python.html)). Строить модель и извлекать ее параметры нужно так же, как показано в демонстрации. Вы можете использовать [предыдущий релиз](http://bigartm.readthedocs.io/en/v0.7.6/download.html) или [новый релиз](http://docs.bigartm.org/en/latest/download.html) на ваше усмотрение.\n",
    "\n",
    "Спецификации всех функций вы можете смотреть на странице [Python API](http://bigartm.readthedocs.io/en/stable/python_interface.html)."
   ]
  },
  {
   "cell_type": "code",
   "execution_count": 1,
   "metadata": {},
   "outputs": [],
   "source": [
    "import artm"
   ]
  },
  {
   "cell_type": "code",
   "execution_count": 2,
   "metadata": {},
   "outputs": [],
   "source": [
    "from matplotlib import pyplot as plt\n",
    "import seaborn\n",
    "%matplotlib inline\n",
    "seaborn.set_style(\"whitegrid\", {'axes.grid' : False})"
   ]
  },
  {
   "cell_type": "code",
   "execution_count": 3,
   "metadata": {},
   "outputs": [],
   "source": [
    "import numpy as np\n",
    "import pandas as pd"
   ]
  },
  {
   "cell_type": "markdown",
   "metadata": {},
   "source": [
    "##### Считывание данных"
   ]
  },
  {
   "cell_type": "markdown",
   "metadata": {},
   "source": [
    "Создайте объект класса artm.BatchVectorizer, который будет ссылаться на директорию с пакетами данных (батчами). Чтобы библиотека могла преобразовать текстовый файл в батчи, создайте пустую директорию и укажите ее название в параметре target_folder. Размер батча для небольших коллекций (как наша) не важен, вы можете указать любой."
   ]
  },
  {
   "cell_type": "code",
   "execution_count": 4,
   "metadata": {},
   "outputs": [],
   "source": [
    "# Ваш код\n",
    "batch_vectorizer = artm.BatchVectorizer(data_path='lectures.txt', data_format='vowpal_wabbit',\n",
    "                                        target_folder='my_collection_batches', batch_size=100)"
   ]
  },
  {
   "cell_type": "markdown",
   "metadata": {},
   "source": [
    "##### Инициализация модели"
   ]
  },
  {
   "cell_type": "markdown",
   "metadata": {},
   "source": [
    "Создайте объект класса artm.Model с 30 темами, именами тем, указанными ниже и единичными весами обеих модальностей. Количество тем выбрано не очень большим, чтобы вам было удобнее работать с темами. На этой коллекции можно строить и большее число тем, тогда они будут более узко специализированы."
   ]
  },
  {
   "cell_type": "code",
   "execution_count": 5,
   "metadata": {},
   "outputs": [],
   "source": [
    "T = 30   # количество тем\n",
    "topic_names=[\"sbj\"+str(i) for i in range(T-1)]+[\"bcg\"]\n",
    "# Ваш код\n",
    "model = artm.ARTM(num_topics=30, topic_names=topic_names, class_ids={'text':1, 'author':1},cache_theta = True)"
   ]
  },
  {
   "cell_type": "markdown",
   "metadata": {},
   "source": [
    "Мы будем строить 29 предметных тем и одну фоновую. \n",
    "\n",
    "Соберите словарь с помощью метода gather_dictionary и инициализируйте модель, указав random_seed=1. Обязательно укажите свое название словаря, оно понадобится при добавлении регуляризаторов."
   ]
  },
  {
   "cell_type": "code",
   "execution_count": 6,
   "metadata": {},
   "outputs": [],
   "source": [
    "# Ваш код\n",
    "np.random.seed(1)\n",
    "dictionary = artm.Dictionary('dictionary')\n",
    "dictionary.gather(batch_vectorizer.data_path)\n",
    "model.initialize('dictionary')"
   ]
  },
  {
   "cell_type": "markdown",
   "metadata": {},
   "source": [
    "##### Добавление score"
   ]
  },
  {
   "cell_type": "markdown",
   "metadata": {},
   "source": [
    "Создайте два измерителя качества artm.TopTokensScore - по одному для каждой модальности; количество токенов 15. Названия для score придумайте самостоятельно."
   ]
  },
  {
   "cell_type": "code",
   "execution_count": 7,
   "metadata": {},
   "outputs": [],
   "source": [
    "# Ваш код\n",
    "model.scores.add(artm.TopTokensScore(name='score_mod_1', class_id='text', num_tokens=15))\n",
    "model.scores.add(artm.TopTokensScore(name='score_mod_2', class_id='author', num_tokens=15))"
   ]
  },
  {
   "cell_type": "markdown",
   "metadata": {},
   "source": [
    "##### Построение модели"
   ]
  },
  {
   "cell_type": "markdown",
   "metadata": {},
   "source": [
    "Мы будем строить модель в два этапа: сначала добавим сглаживающий регуляризатор фоновой темы и настроим параметры модели, затем - добавим разреживающий регуляризатор предметрых тем и выполним еще несколько итераций. Так мы сможем получить наиболее чистые от фоновых слов предметные темы. Сглаживающий и разреживающий регуляризаторы задаются одним и тем же классом artm.SmoothSparsePhiRegularizer: если коэффициент tau положительный, то регуляризатор будет сглаживающий, если отрицательный - разреживающий.\n",
    "\n",
    "Если вы хотите подробнее разобраться, как выполняется регуляризация тематической модели в BigARTM, вы можете прочитать [статью](https://s3-eu-west-1.amazonaws.com/artm/voron-potap14artm-rus.pdf), раздел 4."
   ]
  },
  {
   "cell_type": "markdown",
   "metadata": {},
   "source": [
    "Добавьте сглаживающий регуляризатор с коэффициентом tau = 1e5, указав название своего словаря в dictionary, модальность текста в class_ids и тему \"bcg\" в topic_names."
   ]
  },
  {
   "cell_type": "code",
   "execution_count": 8,
   "metadata": {},
   "outputs": [],
   "source": [
    "# Ваш код\n",
    "model.regularizers.add(artm.SmoothSparsePhiRegularizer(name='SparsePhi', \n",
    "                                                            tau=1e5, \n",
    "                                                            dictionary=\"dictionary\",\n",
    "                                                           class_ids='text',\n",
    "                                                           topic_names='bcg'))"
   ]
  },
  {
   "cell_type": "markdown",
   "metadata": {},
   "source": [
    "Выполните 30 итераций по коллекции (num_collection_passes), количество внутренних итераций установите равным 1. Используйте метод fit_offline модели."
   ]
  },
  {
   "cell_type": "code",
   "execution_count": 9,
   "metadata": {},
   "outputs": [],
   "source": [
    "# Ваш код\n",
    "model.num_document_passes=1\n",
    "model.fit_offline(batch_vectorizer=batch_vectorizer, num_collection_passes=30)"
   ]
  },
  {
   "cell_type": "markdown",
   "metadata": {},
   "source": [
    "Добавьте разреживающий регуляризатор с коэффициентом tau=-1e5, указав название своего словаря, модальность текста в class_ids и все темы \"sbjX\" в topic_names."
   ]
  },
  {
   "cell_type": "code",
   "execution_count": 10,
   "metadata": {},
   "outputs": [],
   "source": [
    "# Ваш код\n",
    "model.regularizers.add(artm.SmoothSparsePhiRegularizer(tau=-1e5, \n",
    "                                                       dictionary='dictionary', \n",
    "                                                       class_ids='text',\n",
    "                                                       topic_names=topic_names[:-1]))\n"
   ]
  },
  {
   "cell_type": "markdown",
   "metadata": {},
   "source": [
    "Выполните еще 15 проходов по коллекции."
   ]
  },
  {
   "cell_type": "code",
   "execution_count": 11,
   "metadata": {},
   "outputs": [],
   "source": [
    "# Ваш код\n",
    "model.fit_offline(batch_vectorizer=batch_vectorizer, num_collection_passes=15)"
   ]
  },
  {
   "cell_type": "markdown",
   "metadata": {},
   "source": [
    "##### Интерпретация тем"
   ]
  },
  {
   "cell_type": "markdown",
   "metadata": {},
   "source": [
    "Используя созданные score, выведите топы слов и топы авторов в темах. Удобнее всего выводить топ слов каждой темы с новой строки, указывая название темы в начале строки, и аналогично с авторами."
   ]
  },
  {
   "cell_type": "code",
   "execution_count": 12,
   "metadata": {},
   "outputs": [
    {
     "name": "stdout",
     "output_type": "stream",
     "text": [
      "sbj0:  его власть александр писать историк великий имя римский знаменитый король церковь реформа средневековый над мысль\n",
      "sbj1:  там раз планета земля интересный находиться температура тело открывать маленький обнаруживать образовываться вокруг вода атмосфера\n",
      "sbj2:  система чтобы между создавать сложный общий направление простой движение ответ способность трудность переход сложно искусственный\n",
      "sbj3:  говорить сторона понятие связанный всегда отвечать представление лицо предмет отличаться концепция опыт меняться восприятие рассматривать\n",
      "sbj4:  должный вид появляться каждый вещь любой иной качество мой нельзя особый этап оценка никто очередь\n",
      "sbj5:  можно при получать структура материал использовать сделать достаточно свойство элемент огромный пора применение устройство сей\n",
      "sbj6:  книга научный написать выходить тема автор фильм массовый абсолютно документ герой брать обращать молодой театр\n",
      "sbj7:  сам социальный кто после общество принимать считать степень род социология собственно читать третий практика смерть\n",
      "sbj8:  какой наука новый рассказывать процесс область доктор высокий различный каков связь условие развиваться создание использоваться\n",
      "sbj9:  теория частица взаимодействие поле пространство состояние квантовый физика состоять эксперимент атом три описывать магнитный эффект\n",
      "sbj10:  год первый конечно россия война потом конец событие начинаться российский мировой робот особенно среди рука\n",
      "sbj11:  человек случай ребенок приводить помогать большинство рано подобный картина кровь взрослый полностью существо мать чувствовать\n",
      "sbj12:  мозг изменение механизм среда эволюция быстро нейрон растение ткань сигнал возраст изменяться формирование стадия орган\n",
      "sbj13:  существовать часть город кандидат место основной жить государство период древний изучение территория народ прежде культурный\n",
      "sbj14:  звезда галактика масса вещество свет черный энергия волна скорость вселенная размер примерно объект дыра излучение\n",
      "sbj15:  какой-то все чем просто информация что-то хотеть данные хороший пытаться внимание увидеть анализ думать компьютер\n",
      "sbj16:  они очень потому большой еще тоже довольно группа изучать хотя менее практически иногда смотреть тысяча\n",
      "sbj17:  политический право страна философия советский революция идея закон политика философский германия немецкий философ французский интерес\n",
      "sbj18:  например слово знать понимать текст значение вообще речь получаться взять посмотреть словарь скажем категория равный\n",
      "sbj19:  свой становиться жизнь ситуация действие ничто казаться собственный рамка школа вести понятно феномен общественный свобода\n",
      "sbj20:  вопрос важный современный технология сегодня оставаться сеть понимание проект важно сфера смочь городской будущее требовать\n",
      "sbj21:  или проблема либо память заболевание женщина соответственно семья выделять бывать пациент лечение медицина операция врач\n",
      "sbj22:  некоторый смысл форма число знание правило объект подход описание определение построить перевод дисциплина компонент следовать\n",
      "sbj23:  задача модель функция решать сообщество схема параметр придумывать специалист матрица алгоритм эмоция математика вычислительный шаг\n",
      "sbj24:  век история культура мир исторический начало традиция эпоха литература христианский бог миф восток царь владимир\n",
      "sbj25:  язык русский называться особенность программа устраивать отдельный граница перед английский относиться позиция филологический лингвист носитель\n",
      "sbj26:  развитие определенный решение роль уровень поведение проводить играть предлагать экономический психология мышление однако влиять действовать\n",
      "sbj27:  клетка организм ген днк белок молекула биологический животное болезнь генетический живой геном молекулярный бактерия последовательность\n",
      "sbj28:  для являться метод работа количество точка принцип возможность ученый основа заниматься также образование университет обладать\n",
      "bcg:  быть что это который этот как мочь такой тот один весь другой если так она\n"
     ]
    }
   ],
   "source": [
    "# Ваш код\n",
    "for topic_name in model.topic_names:\n",
    "    print topic_name + ': ',\n",
    "    tokens = model.score_tracker[\"score_mod_1\"].last_tokens\n",
    "    for word in tokens[topic_name]:    \n",
    "        print word, \n",
    "    print"
   ]
  },
  {
   "cell_type": "markdown",
   "metadata": {},
   "source": [
    "В последней теме \"bcg\" должны находиться общеупотребительные слова.\n",
    "\n",
    "Важный шаг в работе с тематической моделью, когда речь идет о визуализации или создании тематического навигатора, это именование тем. Понять, о чем каждая тема, можно по списку ее топовых слов. Например, тему\n",
    "    \n",
    "    частица взаимодействие физика кварк симметрия элементарный нейтрино стандартный материя протон бозон заряд масса ускоритель слабый\n",
    "    \n",
    "можно назвать \"Физика элементарных частиц\". \n",
    "\n",
    "Дайте названия 29 предметным темам. Если вы не знаете, как назвать тему, назовите ее первым встретившимся в ней существительным, хотя при таком подходе навигатор будет менее информативным. Из названий тем составьте список из 29 строк и запишите го в переменную sbj_topic_labels. В переменной topic_labels будут храниться названия всех тем, включая фоновую."
   ]
  },
  {
   "cell_type": "code",
   "execution_count": 13,
   "metadata": {},
   "outputs": [],
   "source": [
    "# запишите названия тем в список\n",
    "sbj_topic_labels = ['История России','Космос','Система','Концепция','Оценка','Материалы','Книги','Террор',\n",
    "                   'Химия','Физика','Военная история','Семья','Организм','История','Вселенная','Информация','Расы',\n",
    "                   'Философия','Русский язык','История Франции','Город','Медицина','Социология','Интеллект',\n",
    "                    'Мифология','Лингвистика','Экономика','Биология','Образование']   \n",
    "topic_labels = sbj_topic_labels + [\"Фоновая тема\"]"
   ]
  },
  {
   "cell_type": "markdown",
   "metadata": {},
   "source": [
    "##### Анализ тем"
   ]
  },
  {
   "cell_type": "markdown",
   "metadata": {},
   "source": [
    "Далее мы будем работать с распределениями тем в документах (матрица $\\Theta$) и авторов в темах (одна из двух матриц $\\Phi$, соответствующая модальности авторов). \n",
    "Создайте переменные, содержащие две этих матрицы, с помощью методов get_phi и get_theta модели. Назовите переменные theta и phi_a. Выведите формы обеих матриц, чтобы понять, по каким осям стоят темы."
   ]
  },
  {
   "cell_type": "code",
   "execution_count": 14,
   "metadata": {},
   "outputs": [
    {
     "name": "stdout",
     "output_type": "stream",
     "text": [
      "(30, 1728)\n",
      "(539, 30)\n"
     ]
    }
   ],
   "source": [
    "model.theta_columns_naming = \"title\" # включает именование столбцов Theta их названиями-ссылками, а не внутренними id \n",
    "# Ваш код\n",
    "# model.cache_theta = True\n",
    "theta = model.get_theta()\n",
    "print( theta.shape)\n",
    "phi_a = model.get_phi(class_ids='author')\n",
    "print( phi_a.shape)"
   ]
  },
  {
   "cell_type": "markdown",
   "metadata": {},
   "source": [
    "Визуализируем фрагмент матрицы $\\Theta$ - первые 100 документов (это наиболее простой способ визуально оценить, как темы распределяются в документах). С помощью метода seaborn.heatmap выведите фрагмент theta как изображение. Рекомендация: создайте фигуру pyplot размера (20, 10)."
   ]
  },
  {
   "cell_type": "code",
   "execution_count": 15,
   "metadata": {},
   "outputs": [
    {
     "data": {
      "image/png": "[encoded data removed]",
      "text/plain": [
       "<Figure size 1440x720 with 2 Axes>"
      ]
     },
     "metadata": {
      "needs_background": "light"
     },
     "output_type": "display_data"
    }
   ],
   "source": [
    "# Ваш код\n",
    "plt.figure(figsize=(20,10))\n",
    "seaborn.heatmap(theta.iloc[:,:100],cmap='hot')\n",
    "plt.show()"
   ]
  },
  {
   "cell_type": "markdown",
   "metadata": {},
   "source": [
    "Вы должны увидеть, что фоновая тема имеет большую вероятность в почти каждом документе, и это логично. Кроме того, есть еще одна тема, которая чаще других встречается в документах. Судя по всему, это тема содержит много слов по науку в целом, а каждый документ (видео) в нашей коллекции связан с наукой. Можно (необязательно) дать этой теме название \"Наука\".\n",
    "\n",
    "Помимо этих двух тем, фоновой и общенаучной, каждый документ характеризуется малым числом других тем."
   ]
  },
  {
   "cell_type": "markdown",
   "metadata": {},
   "source": [
    "Оценим $p(t)$ - долю каждой темы во всей коллекции. По формуле полной вероятности вычислять эти величины нужно как\n",
    "$p(t) = \\sum_d p(t|d) p(d)$. Согласно вероятностной модели, $p(d)$ пропорционально длине документа d. Поступим проще: будем полагать, что все документы равновероятны. Тогда оценить $p(t)$ можно, просуммировав $p(t|d)$ по всем документам, а затем разделив полученный вектор на его сумму. \n",
    "\n",
    "Создайте переменную-датафрейм с T строками, индексированными названиями тем, и 1 столбцом, содержащим оценки $p(t)$. Выведите датафрейм на печать."
   ]
  },
  {
   "cell_type": "code",
   "execution_count": 16,
   "metadata": {},
   "outputs": [
    {
     "data": {
      "text/html": [
       "<div>\n",
       "<style scoped>\n",
       "    .dataframe tbody tr th:only-of-type {\n",
       "        vertical-align: middle;\n",
       "    }\n",
       "\n",
       "    .dataframe tbody tr th {\n",
       "        vertical-align: top;\n",
       "    }\n",
       "\n",
       "    .dataframe thead th {\n",
       "        text-align: right;\n",
       "    }\n",
       "</style>\n",
       "<table border=\"1\" class=\"dataframe\">\n",
       "  <thead>\n",
       "    <tr style=\"text-align: right;\">\n",
       "      <th></th>\n",
       "      <th>index</th>\n",
       "      <th>p(t)</th>\n",
       "    </tr>\n",
       "  </thead>\n",
       "  <tbody>\n",
       "    <tr>\n",
       "      <th>0</th>\n",
       "      <td>Фоновая тема</td>\n",
       "      <td>0.250363</td>\n",
       "    </tr>\n",
       "    <tr>\n",
       "      <th>1</th>\n",
       "      <td>Химия</td>\n",
       "      <td>0.055317</td>\n",
       "    </tr>\n",
       "    <tr>\n",
       "      <th>2</th>\n",
       "      <td>Физика</td>\n",
       "      <td>0.036892</td>\n",
       "    </tr>\n",
       "    <tr>\n",
       "      <th>3</th>\n",
       "      <td>Мифология</td>\n",
       "      <td>0.036405</td>\n",
       "    </tr>\n",
       "    <tr>\n",
       "      <th>4</th>\n",
       "      <td>История</td>\n",
       "      <td>0.036284</td>\n",
       "    </tr>\n",
       "    <tr>\n",
       "      <th>5</th>\n",
       "      <td>Философия</td>\n",
       "      <td>0.034401</td>\n",
       "    </tr>\n",
       "    <tr>\n",
       "      <th>6</th>\n",
       "      <td>Расы</td>\n",
       "      <td>0.034335</td>\n",
       "    </tr>\n",
       "    <tr>\n",
       "      <th>7</th>\n",
       "      <td>Вселенная</td>\n",
       "      <td>0.032815</td>\n",
       "    </tr>\n",
       "    <tr>\n",
       "      <th>8</th>\n",
       "      <td>Биология</td>\n",
       "      <td>0.030222</td>\n",
       "    </tr>\n",
       "    <tr>\n",
       "      <th>9</th>\n",
       "      <td>Образование</td>\n",
       "      <td>0.028905</td>\n",
       "    </tr>\n",
       "    <tr>\n",
       "      <th>10</th>\n",
       "      <td>Космос</td>\n",
       "      <td>0.028680</td>\n",
       "    </tr>\n",
       "    <tr>\n",
       "      <th>11</th>\n",
       "      <td>Материалы</td>\n",
       "      <td>0.028495</td>\n",
       "    </tr>\n",
       "    <tr>\n",
       "      <th>12</th>\n",
       "      <td>История России</td>\n",
       "      <td>0.027503</td>\n",
       "    </tr>\n",
       "    <tr>\n",
       "      <th>13</th>\n",
       "      <td>Экономика</td>\n",
       "      <td>0.024522</td>\n",
       "    </tr>\n",
       "    <tr>\n",
       "      <th>14</th>\n",
       "      <td>Информация</td>\n",
       "      <td>0.024469</td>\n",
       "    </tr>\n",
       "    <tr>\n",
       "      <th>15</th>\n",
       "      <td>Военная история</td>\n",
       "      <td>0.024144</td>\n",
       "    </tr>\n",
       "    <tr>\n",
       "      <th>16</th>\n",
       "      <td>Террор</td>\n",
       "      <td>0.023257</td>\n",
       "    </tr>\n",
       "    <tr>\n",
       "      <th>17</th>\n",
       "      <td>Русский язык</td>\n",
       "      <td>0.022116</td>\n",
       "    </tr>\n",
       "    <tr>\n",
       "      <th>18</th>\n",
       "      <td>История Франции</td>\n",
       "      <td>0.022022</td>\n",
       "    </tr>\n",
       "    <tr>\n",
       "      <th>19</th>\n",
       "      <td>Организм</td>\n",
       "      <td>0.022000</td>\n",
       "    </tr>\n",
       "    <tr>\n",
       "      <th>20</th>\n",
       "      <td>Медицина</td>\n",
       "      <td>0.021482</td>\n",
       "    </tr>\n",
       "    <tr>\n",
       "      <th>21</th>\n",
       "      <td>Концепция</td>\n",
       "      <td>0.020576</td>\n",
       "    </tr>\n",
       "    <tr>\n",
       "      <th>22</th>\n",
       "      <td>Лингвистика</td>\n",
       "      <td>0.020525</td>\n",
       "    </tr>\n",
       "    <tr>\n",
       "      <th>23</th>\n",
       "      <td>Оценка</td>\n",
       "      <td>0.019438</td>\n",
       "    </tr>\n",
       "    <tr>\n",
       "      <th>24</th>\n",
       "      <td>Система</td>\n",
       "      <td>0.018597</td>\n",
       "    </tr>\n",
       "    <tr>\n",
       "      <th>25</th>\n",
       "      <td>Город</td>\n",
       "      <td>0.017747</td>\n",
       "    </tr>\n",
       "    <tr>\n",
       "      <th>26</th>\n",
       "      <td>Семья</td>\n",
       "      <td>0.017136</td>\n",
       "    </tr>\n",
       "    <tr>\n",
       "      <th>27</th>\n",
       "      <td>Социология</td>\n",
       "      <td>0.014180</td>\n",
       "    </tr>\n",
       "    <tr>\n",
       "      <th>28</th>\n",
       "      <td>Книги</td>\n",
       "      <td>0.014128</td>\n",
       "    </tr>\n",
       "    <tr>\n",
       "      <th>29</th>\n",
       "      <td>Интеллект</td>\n",
       "      <td>0.013044</td>\n",
       "    </tr>\n",
       "  </tbody>\n",
       "</table>\n",
       "</div>"
      ],
      "text/plain": [
       "              index      p(t)\n",
       "0      Фоновая тема  0.250363\n",
       "1             Химия  0.055317\n",
       "2            Физика  0.036892\n",
       "3         Мифология  0.036405\n",
       "4           История  0.036284\n",
       "5         Философия  0.034401\n",
       "6              Расы  0.034335\n",
       "7         Вселенная  0.032815\n",
       "8          Биология  0.030222\n",
       "9       Образование  0.028905\n",
       "10           Космос  0.028680\n",
       "11        Материалы  0.028495\n",
       "12   История России  0.027503\n",
       "13        Экономика  0.024522\n",
       "14       Информация  0.024469\n",
       "15  Военная история  0.024144\n",
       "16           Террор  0.023257\n",
       "17     Русский язык  0.022116\n",
       "18  История Франции  0.022022\n",
       "19         Организм  0.022000\n",
       "20         Медицина  0.021482\n",
       "21        Концепция  0.020576\n",
       "22      Лингвистика  0.020525\n",
       "23           Оценка  0.019438\n",
       "24          Система  0.018597\n",
       "25            Город  0.017747\n",
       "26            Семья  0.017136\n",
       "27       Социология  0.014180\n",
       "28            Книги  0.014128\n",
       "29        Интеллект  0.013044"
      ]
     },
     "execution_count": 16,
     "metadata": {},
     "output_type": "execute_result"
    }
   ],
   "source": [
    "# Ваш код\n",
    "probs = [theta.iloc[i].sum() for i in range(theta.shape[0])]\n",
    "normed = np.array(probs)/sum(probs)\n",
    "prob_theme = pd.DataFrame(data=normed, index=topic_labels, columns=['p(t)'])\n",
    "prob_theme = prob_theme.sort_values(by = 'p(t)',ascending=False).reset_index()\n",
    "prob_theme"
   ]
  },
  {
   "cell_type": "markdown",
   "metadata": {},
   "source": [
    "Найдите 5 самых распространенных и 3 наименее освещенных темы в коллекции (наибольшие и наименьшие $p(t)$ соответственно), не считая фоновую и общенаучную. Укажите названия, которые вы дали этим темам."
   ]
  },
  {
   "cell_type": "code",
   "execution_count": 17,
   "metadata": {},
   "outputs": [
    {
     "name": "stdout",
     "output_type": "stream",
     "text": [
      "Ваш ответ:\n",
      "5 тем с max p(t):\n"
     ]
    },
    {
     "data": {
      "text/html": [
       "<div>\n",
       "<style scoped>\n",
       "    .dataframe tbody tr th:only-of-type {\n",
       "        vertical-align: middle;\n",
       "    }\n",
       "\n",
       "    .dataframe tbody tr th {\n",
       "        vertical-align: top;\n",
       "    }\n",
       "\n",
       "    .dataframe thead th {\n",
       "        text-align: right;\n",
       "    }\n",
       "</style>\n",
       "<table border=\"1\" class=\"dataframe\">\n",
       "  <thead>\n",
       "    <tr style=\"text-align: right;\">\n",
       "      <th></th>\n",
       "      <th>index</th>\n",
       "      <th>p(t)</th>\n",
       "    </tr>\n",
       "  </thead>\n",
       "  <tbody>\n",
       "    <tr>\n",
       "      <th>0</th>\n",
       "      <td>Фоновая тема</td>\n",
       "      <td>0.250363</td>\n",
       "    </tr>\n",
       "    <tr>\n",
       "      <th>1</th>\n",
       "      <td>Химия</td>\n",
       "      <td>0.055317</td>\n",
       "    </tr>\n",
       "    <tr>\n",
       "      <th>2</th>\n",
       "      <td>Физика</td>\n",
       "      <td>0.036892</td>\n",
       "    </tr>\n",
       "    <tr>\n",
       "      <th>3</th>\n",
       "      <td>Мифология</td>\n",
       "      <td>0.036405</td>\n",
       "    </tr>\n",
       "    <tr>\n",
       "      <th>4</th>\n",
       "      <td>История</td>\n",
       "      <td>0.036284</td>\n",
       "    </tr>\n",
       "  </tbody>\n",
       "</table>\n",
       "</div>"
      ],
      "text/plain": [
       "          index      p(t)\n",
       "0  Фоновая тема  0.250363\n",
       "1         Химия  0.055317\n",
       "2        Физика  0.036892\n",
       "3     Мифология  0.036405\n",
       "4       История  0.036284"
      ]
     },
     "execution_count": 17,
     "metadata": {},
     "output_type": "execute_result"
    }
   ],
   "source": [
    "print('Ваш ответ:')\n",
    "print('5 тем с max p(t):')\n",
    "prob_theme.head()"
   ]
  },
  {
   "cell_type": "code",
   "execution_count": 18,
   "metadata": {},
   "outputs": [
    {
     "name": "stdout",
     "output_type": "stream",
     "text": [
      "3 темы с min p(t):\n"
     ]
    },
    {
     "data": {
      "text/html": [
       "<div>\n",
       "<style scoped>\n",
       "    .dataframe tbody tr th:only-of-type {\n",
       "        vertical-align: middle;\n",
       "    }\n",
       "\n",
       "    .dataframe tbody tr th {\n",
       "        vertical-align: top;\n",
       "    }\n",
       "\n",
       "    .dataframe thead th {\n",
       "        text-align: right;\n",
       "    }\n",
       "</style>\n",
       "<table border=\"1\" class=\"dataframe\">\n",
       "  <thead>\n",
       "    <tr style=\"text-align: right;\">\n",
       "      <th></th>\n",
       "      <th>index</th>\n",
       "      <th>p(t)</th>\n",
       "    </tr>\n",
       "  </thead>\n",
       "  <tbody>\n",
       "    <tr>\n",
       "      <th>27</th>\n",
       "      <td>Социология</td>\n",
       "      <td>0.014180</td>\n",
       "    </tr>\n",
       "    <tr>\n",
       "      <th>28</th>\n",
       "      <td>Книги</td>\n",
       "      <td>0.014128</td>\n",
       "    </tr>\n",
       "    <tr>\n",
       "      <th>29</th>\n",
       "      <td>Интеллект</td>\n",
       "      <td>0.013044</td>\n",
       "    </tr>\n",
       "  </tbody>\n",
       "</table>\n",
       "</div>"
      ],
      "text/plain": [
       "         index      p(t)\n",
       "27  Социология  0.014180\n",
       "28       Книги  0.014128\n",
       "29   Интеллект  0.013044"
      ]
     },
     "execution_count": 18,
     "metadata": {},
     "output_type": "execute_result"
    }
   ],
   "source": [
    "print('3 темы с min p(t):')\n",
    "prob_theme.tail(3)"
   ]
  },
  {
   "cell_type": "markdown",
   "metadata": {},
   "source": [
    "Визуализируйте матрицу $\\Phi$ модальности авторов в виде изображения. Рекомендация: установите yticklabels=False в heatmap."
   ]
  },
  {
   "cell_type": "code",
   "execution_count": 19,
   "metadata": {},
   "outputs": [
    {
     "data": {
      "image/png": "[encoded data removed]",
      "text/plain": [
       "<Figure size 1440x720 with 2 Axes>"
      ]
     },
     "metadata": {
      "needs_background": "light"
     },
     "output_type": "display_data"
    }
   ],
   "source": [
    "# Ваш код\n",
    "plt.figure(figsize=(20,10))\n",
    "seaborn.heatmap(phi_a,yticklabels=False,cmap='hot')\n",
    "plt.show()"
   ]
  },
  {
   "cell_type": "markdown",
   "metadata": {},
   "source": [
    "Каждой теме соответствует не очень большое число авторов - матрица достаточно разреженная. Кроме того, некоторые темы имеют доминирующего автора $a$, имеющего большую вероятность $p(a|t)$ - этот автор записал больше всего лекций по теме. "
   ]
  },
  {
   "cell_type": "markdown",
   "metadata": {},
   "source": [
    "Будем считать, что автор $a$ значим в теме, если $p(a|t) > 0.01$. Для каждого автора посчитайте, в скольких темах он значим. Найдите авторов-рекордсменов, которые значимы (а значит, читали лекции) в >= 3 темах."
   ]
  },
  {
   "cell_type": "code",
   "execution_count": 20,
   "metadata": {},
   "outputs": [],
   "source": [
    "authors = []\n",
    "for i in range(phi_a.shape[0]):\n",
    "    c = 0\n",
    "    for j in range(phi_a.shape[1]):\n",
    "        if phi_a.iloc[i,j] > 0.01:\n",
    "            c += 1\n",
    "    if c >= 3:\n",
    "        authors.append(phi_a.iloc[i].name)"
   ]
  },
  {
   "cell_type": "code",
   "execution_count": 21,
   "metadata": {},
   "outputs": [
    {
     "name": "stdout",
     "output_type": "stream",
     "text": [
      "Ваш ответ:\n",
      "авторы, значимые в не менее чем 3 темах:\n",
      "[Виктор_Вахштайн,Виталий_Куренной,Михаил_Маяцкий,Михаил_Гельфанд,Елена_Брызгалина,Михаил_Киселев,Владимир_Муронец]\n"
     ]
    }
   ],
   "source": [
    "print 'Ваш ответ:'\n",
    "print 'авторы, значимые в не менее чем 3 темах:'\n",
    "print u'[%s]' % u','.join(unicode(x) for x in authors)"
   ]
  },
  {
   "cell_type": "markdown",
   "metadata": {},
   "source": [
    "Большинство авторов значимы в 1 теме, что логично."
   ]
  },
  {
   "cell_type": "markdown",
   "metadata": {},
   "source": [
    "##### Построение тематической карты авторов"
   ]
  },
  {
   "cell_type": "markdown",
   "metadata": {},
   "source": [
    "По сути, в матрице $\\Phi$, соответствующей модальности авторов, записаны тематические кластеры авторов. Для любого автора мы можем составить его тематический круг - авторов, разбирающихся в той же теме, что и данный. Интересующиеся слушатели могут попробовать выполнить эту процедуру для ученых, читающих лекции на Постнауке, которых они знают (например, на Постнауке есть лекции с К. В. Воронцовым - лектором текущего модуля :)\n",
    "\n",
    "Составим карту близости авторов по тематике их исследований. Для этого применим метод понижения размерности MDS к тематическим профилям авторов.\n",
    "\n",
    "Чтобы получить тематический профиль автора, распределение $p(t|a)$, нужно воспользоваться формулой Байеса: \n",
    "$p(t|a) = \\frac {p(a|t) p(t)} {\\sum_t' p(a|t') p(t')}$. Все необходимые для этого величины у вас есть и записаны в переменных phi и pt. \n",
    "\n",
    "Передайте матрицу тематических профилей авторов, записанных по строкам, в метод MDS с n_components=2. Используйте косинусную метрику (она хорошо подходит для поиска расстояний между векторами, имеющими фиксированную сумму компонент)."
   ]
  },
  {
   "cell_type": "code",
   "execution_count": 22,
   "metadata": {},
   "outputs": [],
   "source": [
    "from sklearn.manifold import MDS\n",
    "from sklearn.metrics import pairwise_distances"
   ]
  },
  {
   "cell_type": "code",
   "execution_count": 23,
   "metadata": {},
   "outputs": [
    {
     "name": "stderr",
     "output_type": "stream",
     "text": [
      "c:\\python27\\lib\\site-packages\\sklearn\\manifold\\mds.py:421: UserWarning: The MDS API has changed. ``fit`` now constructs an dissimilarity matrix from data. To use a custom dissimilarity matrix, set ``dissimilarity='precomputed'``.\n",
      "  warnings.warn(\"The MDS API has changed. ``fit`` now constructs an\"\n"
     ]
    }
   ],
   "source": [
    "# Ваш код\n",
    "author_profiles = np.zeros((phi_a.shape))\n",
    "for i, row in enumerate(phi_a.values):\n",
    "    author_profiles[i] = row * probs / sum(row * probs)\n",
    "    \n",
    "mds = MDS(n_components=2)\n",
    "\n",
    "distances = pairwise_distances(author_profiles, metric = \"cosine\")\n",
    "\n",
    "transformed_dist = mds.fit_transform(distances)"
   ]
  },
  {
   "cell_type": "markdown",
   "metadata": {},
   "source": [
    "Визуализируйте найденные двумерные представления с помощью функции scatter. "
   ]
  },
  {
   "cell_type": "code",
   "execution_count": 24,
   "metadata": {},
   "outputs": [
    {
     "data": {
      "image/png": "[encoded data removed]",
      "text/plain": [
       "<Figure size 1080x576 with 1 Axes>"
      ]
     },
     "metadata": {
      "needs_background": "light"
     },
     "output_type": "display_data"
    }
   ],
   "source": [
    "# Ваш код\n",
    "plt.figure(figsize=(15,8))\n",
    "plt.scatter(transformed_dist[:,0], transformed_dist[:,1], c='purple')\n",
    "plt.show()"
   ]
  },
  {
   "cell_type": "markdown",
   "metadata": {},
   "source": [
    "Должно получиться, что некоторые грппы авторов формируют сгустки, которые можно считать тематическими группами авторов.\n",
    "\n",
    "Раскрасим точки следующим образом: для каждого автора выберем наиболее вероятную для него тему ($\\max_t p(t|a)$), и каждой теме сопоставим цвет. Кроме того, добавим на карту имена и фамилии авторов, это можно сделать в цикле по всем точкам с помощью функции plt.annotate, указывая метку точки первым аргументом и ее координаты в аргументе xy. Рекомендуется сделать размер изображения большим, тогда маркеры точек тоже придется увеличить (s=100 в plt.scatter). Изобразите карту авторов и сохраните в pdf-файл с помощью функции plt.savefig. \n",
    "\n",
    "Метки авторов будут пересекаться. Будет очень хорошо, если вы найдете способ, как этого можно избежать."
   ]
  },
  {
   "cell_type": "code",
   "execution_count": 25,
   "metadata": {},
   "outputs": [
    {
     "data": {
      "image/png": "[encoded data removed]",
      "text/plain": [
       "<Figure size 1440x1296 with 1 Axes>"
      ]
     },
     "metadata": {
      "needs_background": "light"
     },
     "output_type": "display_data"
    }
   ],
   "source": [
    "import matplotlib.cm as cm\n",
    "colors = cm.rainbow(np.linspace(0, 1, T)) # цвета для тем\n",
    "# Ваш код\n",
    "max_prob = [np.argmax(author) for author in author_profiles]\n",
    "plt.figure(figsize=(20,18))\n",
    "plt.scatter(transformed_dist[:,0], transformed_dist[:,1], s=50, c=colors[max_prob])\n",
    "\n",
    "for i, author in enumerate(phi_a.index):\n",
    "        plt.annotate(author, transformed_dist[i])\n",
    "plt.savefig('authors_map.pdf', dpi=200, format='pdf')\n",
    "plt.axis('off')\n",
    "plt.show()"
   ]
  },
  {
   "cell_type": "markdown",
   "metadata": {},
   "source": [
    "##### Создание простого тематического навигатора по Постнауке"
   ]
  },
  {
   "cell_type": "markdown",
   "metadata": {},
   "source": [
    "Наш тематический навигатор будет для каждой темы показывать ее список слов, а также список релевантных теме документов. \n",
    "\n",
    "Нам понадобятся распределения $p(d|t)$. По формуле Байеса $p(d|t) = \\frac{p(t|d)p(d)}{\\sum_{d'}p(t|d')p(d')}$, но поскольку мы считаем документы равновероятными, достаточно разделить каждую строку $\\Theta$ на ее сумму, чтобы оценить распределение. \n",
    "\n",
    "Отсортируйте матрицу $p(d|t)$ по убыванию $p(d|t)$ в каждой теме (то есть построчно). Нам понадобятся индексы наиболее вероятных документов в каждой теме, поэтому используйте функцию argmax."
   ]
  },
  {
   "cell_type": "code",
   "execution_count": 26,
   "metadata": {},
   "outputs": [
    {
     "data": {
      "text/plain": [
       "array([[ 585,  625,  469, ...,  800, 1225,  707],\n",
       "       [  47,  970,  207, ...,  451,  452,  469],\n",
       "       [1175, 1675,  365, ..., 1381,  533, 1397],\n",
       "       ...,\n",
       "       [ 404,  731,  643, ...,  612,  284,    0],\n",
       "       [1276, 1320, 1321, ...,  226,  445,  223],\n",
       "       [ 516,  462, 1652, ...,  203, 1331,  394]], dtype=int64)"
      ]
     },
     "execution_count": 26,
     "metadata": {},
     "output_type": "execute_result"
    }
   ],
   "source": [
    "# Ваш код\n",
    "p_d_t = theta.values / np.array([np.sum(theme) for theme in theta.values])[:, np.newaxis]\n",
    "p_d_t_sorted = p_d_t.argsort(axis=1)[:,::-1]\n",
    "p_d_t_sorted"
   ]
  },
  {
   "cell_type": "markdown",
   "metadata": {},
   "source": [
    "Создавать навигатор мы будем прямо в jupiter notebook: это возможно благодаря тому факту, что при печати ссылки она автоматически превращается в гиперссылку."
   ]
  },
  {
   "cell_type": "code",
   "execution_count": 27,
   "metadata": {},
   "outputs": [
    {
     "name": "stdout",
     "output_type": "stream",
     "text": [
      "http://yandex.ru\n"
     ]
    }
   ],
   "source": [
    "print \"http://yandex.ru\"   # получится кликабельная ссылка"
   ]
  },
  {
   "cell_type": "markdown",
   "metadata": {},
   "source": [
    "Кроме того, подключив модуль [ipython.core.display](https://ipython.org/ipython-doc/2/api/generated/IPython.core.display.html), можно использовать html-разметку в выводе. Например:"
   ]
  },
  {
   "cell_type": "code",
   "execution_count": 28,
   "metadata": {},
   "outputs": [
    {
     "data": {
      "text/html": [
       "<h1>Заголовок</h1>"
      ],
      "text/plain": [
       "<IPython.core.display.HTML object>"
      ]
     },
     "metadata": {},
     "output_type": "display_data"
    },
    {
     "data": {
      "text/html": [
       "<ul><li>Пункт 1</li><li>Пункт 2</li></ul>"
      ],
      "text/plain": [
       "<IPython.core.display.HTML object>"
      ]
     },
     "metadata": {},
     "output_type": "display_data"
    },
    {
     "data": {
      "text/html": [
       "<font color=\"green\">Зеленый!</font>"
      ],
      "text/plain": [
       "<IPython.core.display.HTML object>"
      ]
     },
     "metadata": {},
     "output_type": "display_data"
    },
    {
     "data": {
      "text/html": [
       "<a href=\"http://yandex.ru\">Еще один вариант вывода ссылки</a>"
      ],
      "text/plain": [
       "<IPython.core.display.HTML object>"
      ]
     },
     "metadata": {},
     "output_type": "display_data"
    }
   ],
   "source": [
    "from IPython.core.display import display, HTML\n",
    "display(HTML(u\"<h1>Заголовок</h1>\"))   # также <h2>, <h3>\n",
    "display(HTML(u\"<ul><li>Пункт 1</li><li>Пункт 2</li></ul>\"))\n",
    "display(HTML(u'<font color=\"green\">Зеленый!</font>'))\n",
    "display(HTML(u'<a href=\"http://yandex.ru\">Еще один вариант вывода ссылки</a>'))"
   ]
  },
  {
   "cell_type": "markdown",
   "metadata": {},
   "source": [
    "В цикле для каждой темы выведите ее заголовок, в следующей строке - топ-10 слов темы, затем в виде списка ссылки на 10 наиболее релевантных (по $p(d|t)$) теме документов. Используйте html-разметку. Творчество приветствуется :)"
   ]
  },
  {
   "cell_type": "code",
   "execution_count": 29,
   "metadata": {},
   "outputs": [
    {
     "data": {
      "text/html": [
       "PGgzPtCY0YHRgtC+0YDQuNGPINCg0L7RgdGB0LjQuDwvaDM+\n"
      ],
      "text/plain": [
       "<IPython.core.display.HTML object>"
      ]
     },
     "metadata": {},
     "output_type": "display_data"
    },
    {
     "name": "stdout",
     "output_type": "stream",
     "text": [
      "его власть александр писать историк великий имя римский знаменитый король \n",
      "http://postnauka.ru/video/3348\n",
      "http://postnauka.ru/video/3406\n",
      "http://postnauka.ru/video/5464\n",
      "http://postnauka.ru/video/24030\n",
      "http://postnauka.ru/video/9968\n",
      "http://postnauka.ru/video/24039\n",
      "http://postnauka.ru/video/14292\n",
      "http://postnauka.ru/video/31677\n",
      "http://postnauka.ru/video/28942\n",
      "http://postnauka.ru/video/23900\n"
     ]
    },
    {
     "data": {
      "text/html": [
       "PGgzPtCa0L7RgdC80L7RgTwvaDM+\n"
      ],
      "text/plain": [
       "<IPython.core.display.HTML object>"
      ]
     },
     "metadata": {},
     "output_type": "display_data"
    },
    {
     "name": "stdout",
     "output_type": "stream",
     "text": [
      "там раз планета земля интересный находиться температура тело открывать маленький \n",
      "http://postnauka.ru/video/24245\n",
      "http://postnauka.ru/video/15049\n",
      "http://postnauka.ru/video/9835\n",
      "http://postnauka.ru/video/32889\n",
      "http://postnauka.ru/video/13098\n",
      "http://postnauka.ru/video/26206\n",
      "http://postnauka.ru/video/25312\n",
      "http://postnauka.ru/video/31695\n",
      "http://postnauka.ru/video/49437\n",
      "http://postnauka.ru/video/49261\n"
     ]
    },
    {
     "data": {
      "text/html": [
       "PGgzPtCh0LjRgdGC0LXQvNCwPC9oMz4=\n"
      ],
      "text/plain": [
       "<IPython.core.display.HTML object>"
      ]
     },
     "metadata": {},
     "output_type": "display_data"
    },
    {
     "name": "stdout",
     "output_type": "stream",
     "text": [
      "система чтобы между создавать сложный общий направление простой движение ответ \n",
      "http://postnauka.ru/video/3602\n",
      "http://postnauka.ru/video/51382\n",
      "http://postnauka.ru/video/57648\n",
      "http://postnauka.ru/video/56618\n",
      "http://postnauka.ru/video/41348\n",
      "http://postnauka.ru/video/47457\n",
      "http://postnauka.ru/video/25097\n",
      "http://postnauka.ru/video/28557\n",
      "http://postnauka.ru/video/37982\n",
      "http://postnauka.ru/video/34426\n"
     ]
    },
    {
     "data": {
      "text/html": [
       "PGgzPtCa0L7QvdGG0LXQv9GG0LjRjzwvaDM+\n"
      ],
      "text/plain": [
       "<IPython.core.display.HTML object>"
      ]
     },
     "metadata": {},
     "output_type": "display_data"
    },
    {
     "name": "stdout",
     "output_type": "stream",
     "text": [
      "говорить сторона понятие связанный всегда отвечать представление лицо предмет отличаться \n",
      "http://postnauka.ru/video/12524\n",
      "http://postnauka.ru/video/7169\n",
      "http://postnauka.ru/video/5891\n",
      "http://postnauka.ru/video/17397\n",
      "http://postnauka.ru/video/37990\n",
      "http://postnauka.ru/video/17041\n",
      "http://postnauka.ru/video/11626\n",
      "http://postnauka.ru/video/7747\n",
      "http://postnauka.ru/video/52418\n",
      "http://postnauka.ru/video/47812\n"
     ]
    },
    {
     "data": {
      "text/html": [
       "PGgzPtCe0YbQtdC90LrQsDwvaDM+\n"
      ],
      "text/plain": [
       "<IPython.core.display.HTML object>"
      ]
     },
     "metadata": {},
     "output_type": "display_data"
    },
    {
     "name": "stdout",
     "output_type": "stream",
     "text": [
      "должный вид появляться каждый вещь любой иной качество мой нельзя \n",
      "http://postnauka.ru/video/17913\n",
      "http://postnauka.ru/video/38009\n",
      "http://postnauka.ru/video/49262\n",
      "http://postnauka.ru/video/45717\n",
      "http://postnauka.ru/video/5906\n",
      "http://postnauka.ru/video/32632\n",
      "http://postnauka.ru/video/41345\n",
      "http://postnauka.ru/video/22570\n",
      "http://postnauka.ru/video/12574\n",
      "http://postnauka.ru/video/41100\n"
     ]
    },
    {
     "data": {
      "text/html": [
       "PGgzPtCc0LDRgtC10YDQuNCw0LvRizwvaDM+\n"
      ],
      "text/plain": [
       "<IPython.core.display.HTML object>"
      ]
     },
     "metadata": {},
     "output_type": "display_data"
    },
    {
     "name": "stdout",
     "output_type": "stream",
     "text": [
      "можно при получать структура материал использовать сделать достаточно свойство элемент \n",
      "http://postnauka.ru/video/41686\n",
      "http://postnauka.ru/video/31182\n",
      "http://postnauka.ru/video/13544\n",
      "http://postnauka.ru/video/36490\n",
      "http://postnauka.ru/video/36657\n",
      "http://postnauka.ru/video/46379\n",
      "http://postnauka.ru/video/31682\n",
      "http://postnauka.ru/video/21285\n",
      "http://postnauka.ru/video/52256\n",
      "http://postnauka.ru/video/6608\n"
     ]
    },
    {
     "data": {
      "text/html": [
       "PGgzPtCa0L3QuNCz0Lg8L2gzPg==\n"
      ],
      "text/plain": [
       "<IPython.core.display.HTML object>"
      ]
     },
     "metadata": {},
     "output_type": "display_data"
    },
    {
     "name": "stdout",
     "output_type": "stream",
     "text": [
      "книга научный написать выходить тема автор фильм массовый абсолютно документ \n",
      "http://postnauka.ru/video/39723\n",
      "http://postnauka.ru/video/10759\n",
      "http://postnauka.ru/video/47202\n",
      "http://postnauka.ru/video/47208\n",
      "http://postnauka.ru/video/13541\n",
      "http://postnauka.ru/video/47204\n",
      "http://postnauka.ru/video/57127\n",
      "http://postnauka.ru/video/38510\n",
      "http://postnauka.ru/video/52416\n",
      "http://postnauka.ru/video/19330\n"
     ]
    },
    {
     "data": {
      "text/html": [
       "PGgzPtCi0LXRgNGA0L7RgDwvaDM+\n"
      ],
      "text/plain": [
       "<IPython.core.display.HTML object>"
      ]
     },
     "metadata": {},
     "output_type": "display_data"
    },
    {
     "name": "stdout",
     "output_type": "stream",
     "text": [
      "сам социальный кто после общество принимать считать степень род социология \n",
      "http://postnauka.ru/video/48335\n",
      "http://postnauka.ru/video/3509\n",
      "http://postnauka.ru/video/17491\n",
      "http://postnauka.ru/video/20720\n",
      "http://postnauka.ru/video/6380\n",
      "http://postnauka.ru/video/17490\n",
      "http://postnauka.ru/video/50656\n",
      "http://postnauka.ru/video/20878\n",
      "http://postnauka.ru/video/15989\n",
      "http://postnauka.ru/video/51331\n"
     ]
    },
    {
     "data": {
      "text/html": [
       "PGgzPtCl0LjQvNC40Y88L2gzPg==\n"
      ],
      "text/plain": [
       "<IPython.core.display.HTML object>"
      ]
     },
     "metadata": {},
     "output_type": "display_data"
    },
    {
     "name": "stdout",
     "output_type": "stream",
     "text": [
      "какой наука новый рассказывать процесс область доктор высокий различный каков \n",
      "http://postnauka.ru/video/19069\n",
      "http://postnauka.ru/video/13700\n",
      "http://postnauka.ru/video/8632\n",
      "http://postnauka.ru/video/7771\n",
      "http://postnauka.ru/video/12373\n",
      "http://postnauka.ru/video/9144\n",
      "http://postnauka.ru/video/13151\n",
      "http://postnauka.ru/video/12172\n",
      "http://postnauka.ru/video/12259\n",
      "http://postnauka.ru/video/11646\n"
     ]
    },
    {
     "data": {
      "text/html": [
       "PGgzPtCk0LjQt9C40LrQsDwvaDM+\n"
      ],
      "text/plain": [
       "<IPython.core.display.HTML object>"
      ]
     },
     "metadata": {},
     "output_type": "display_data"
    },
    {
     "name": "stdout",
     "output_type": "stream",
     "text": [
      "теория частица взаимодействие поле пространство состояние квантовый физика состоять эксперимент \n",
      "http://postnauka.ru/video/13043\n",
      "http://postnauka.ru/video/22760\n",
      "http://postnauka.ru/video/18873\n",
      "http://postnauka.ru/video/43677\n",
      "http://postnauka.ru/video/14283\n",
      "http://postnauka.ru/video/2945\n",
      "http://postnauka.ru/video/18870\n",
      "http://postnauka.ru/video/24434\n",
      "http://postnauka.ru/video/7311\n",
      "http://postnauka.ru/video/47826\n"
     ]
    },
    {
     "data": {
      "text/html": [
       "PGgzPtCS0L7QtdC90L3QsNGPINC40YHRgtC+0YDQuNGPPC9oMz4=\n"
      ],
      "text/plain": [
       "<IPython.core.display.HTML object>"
      ]
     },
     "metadata": {},
     "output_type": "display_data"
    },
    {
     "name": "stdout",
     "output_type": "stream",
     "text": [
      "год первый конечно россия война потом конец событие начинаться российский \n",
      "http://postnauka.ru/video/35041\n",
      "http://postnauka.ru/video/29992\n",
      "http://postnauka.ru/video/26667\n",
      "http://postnauka.ru/video/32637\n",
      "http://postnauka.ru/video/46939\n",
      "http://postnauka.ru/video/41671\n",
      "http://postnauka.ru/video/42809\n",
      "http://postnauka.ru/video/25283\n",
      "http://postnauka.ru/video/30261\n",
      "http://postnauka.ru/video/34424\n"
     ]
    },
    {
     "data": {
      "text/html": [
       "PGgzPtCh0LXQvNGM0Y88L2gzPg==\n"
      ],
      "text/plain": [
       "<IPython.core.display.HTML object>"
      ]
     },
     "metadata": {},
     "output_type": "display_data"
    },
    {
     "name": "stdout",
     "output_type": "stream",
     "text": [
      "человек случай ребенок приводить помогать большинство рано подобный картина кровь \n",
      "http://postnauka.ru/video/22892\n",
      "http://postnauka.ru/video/22883\n",
      "http://postnauka.ru/video/11361\n",
      "http://postnauka.ru/video/60527\n",
      "http://postnauka.ru/video/57657\n",
      "http://postnauka.ru/video/30678\n",
      "http://postnauka.ru/video/29103\n",
      "http://postnauka.ru/video/30606\n",
      "http://postnauka.ru/video/25895\n",
      "http://postnauka.ru/video/59638\n"
     ]
    },
    {
     "data": {
      "text/html": [
       "PGgzPtCe0YDQs9Cw0L3QuNC30Lw8L2gzPg==\n"
      ],
      "text/plain": [
       "<IPython.core.display.HTML object>"
      ]
     },
     "metadata": {},
     "output_type": "display_data"
    },
    {
     "name": "stdout",
     "output_type": "stream",
     "text": [
      "мозг изменение механизм среда эволюция быстро нейрон растение ткань сигнал \n",
      "http://postnauka.ru/video/16821\n",
      "http://postnauka.ru/video/17416\n",
      "http://postnauka.ru/video/36350\n",
      "http://postnauka.ru/video/23172\n",
      "http://postnauka.ru/video/13746\n",
      "http://postnauka.ru/video/8630\n",
      "http://postnauka.ru/video/42221\n",
      "http://postnauka.ru/video/59617\n",
      "http://postnauka.ru/video/33763\n",
      "http://postnauka.ru/video/7361\n"
     ]
    },
    {
     "data": {
      "text/html": [
       "PGgzPtCY0YHRgtC+0YDQuNGPPC9oMz4=\n"
      ],
      "text/plain": [
       "<IPython.core.display.HTML object>"
      ]
     },
     "metadata": {},
     "output_type": "display_data"
    },
    {
     "name": "stdout",
     "output_type": "stream",
     "text": [
      "существовать часть город кандидат место основной жить государство период древний \n",
      "http://postnauka.ru/video/59201\n",
      "http://postnauka.ru/video/53171\n",
      "http://postnauka.ru/video/31705\n",
      "http://postnauka.ru/video/2527\n",
      "http://postnauka.ru/video/2957\n",
      "http://postnauka.ru/video/7755\n",
      "http://postnauka.ru/video/13156\n",
      "http://postnauka.ru/video/11642\n",
      "http://postnauka.ru/video/6377\n",
      "http://postnauka.ru/video/45458\n"
     ]
    },
    {
     "data": {
      "text/html": [
       "PGgzPtCS0YHQtdC70LXQvdC90LDRjzwvaDM+\n"
      ],
      "text/plain": [
       "<IPython.core.display.HTML object>"
      ]
     },
     "metadata": {},
     "output_type": "display_data"
    },
    {
     "name": "stdout",
     "output_type": "stream",
     "text": [
      "звезда галактика масса вещество свет черный энергия волна скорость вселенная \n",
      "http://postnauka.ru/video/6673\n",
      "http://postnauka.ru/video/58574\n",
      "http://postnauka.ru/video/31193\n",
      "http://postnauka.ru/video/17780\n",
      "http://postnauka.ru/video/30015\n",
      "http://postnauka.ru/video/31663\n",
      "http://postnauka.ru/video/2971\n",
      "http://postnauka.ru/video/57338\n",
      "http://postnauka.ru/video/29998\n",
      "http://postnauka.ru/video/48109\n"
     ]
    },
    {
     "data": {
      "text/html": [
       "PGgzPtCY0L3RhNC+0YDQvNCw0YbQuNGPPC9oMz4=\n"
      ],
      "text/plain": [
       "<IPython.core.display.HTML object>"
      ]
     },
     "metadata": {},
     "output_type": "display_data"
    },
    {
     "name": "stdout",
     "output_type": "stream",
     "text": [
      "какой-то все чем просто информация что-то хотеть данные хороший пытаться \n",
      "http://postnauka.ru/video/7283\n",
      "http://postnauka.ru/video/24182\n",
      "http://postnauka.ru/video/5181\n",
      "http://postnauka.ru/video/53949\n",
      "http://postnauka.ru/video/10384\n",
      "http://postnauka.ru/video/23763\n",
      "http://postnauka.ru/video/17421\n",
      "http://postnauka.ru/video/9560\n",
      "http://postnauka.ru/video/19577\n",
      "http://postnauka.ru/video/50349\n"
     ]
    },
    {
     "data": {
      "text/html": [
       "PGgzPtCg0LDRgdGLPC9oMz4=\n"
      ],
      "text/plain": [
       "<IPython.core.display.HTML object>"
      ]
     },
     "metadata": {},
     "output_type": "display_data"
    },
    {
     "name": "stdout",
     "output_type": "stream",
     "text": [
      "они очень потому большой еще тоже довольно группа изучать хотя \n",
      "http://postnauka.ru/video/32898\n",
      "http://postnauka.ru/video/31707\n",
      "http://postnauka.ru/video/42707\n",
      "http://postnauka.ru/video/42735\n",
      "http://postnauka.ru/video/40880\n",
      "http://postnauka.ru/video/31675\n",
      "http://postnauka.ru/video/37732\n",
      "http://postnauka.ru/video/35150\n",
      "http://postnauka.ru/video/36253\n",
      "http://postnauka.ru/video/14293\n"
     ]
    },
    {
     "data": {
      "text/html": [
       "PGgzPtCk0LjQu9C+0YHQvtGE0LjRjzwvaDM+\n"
      ],
      "text/plain": [
       "<IPython.core.display.HTML object>"
      ]
     },
     "metadata": {},
     "output_type": "display_data"
    },
    {
     "name": "stdout",
     "output_type": "stream",
     "text": [
      "политический право страна философия советский революция идея закон политика философский \n",
      "http://postnauka.ru/video/36581\n",
      "http://postnauka.ru/video/12371\n",
      "http://postnauka.ru/video/19574\n",
      "http://postnauka.ru/video/31688\n",
      "http://postnauka.ru/video/12738\n",
      "http://postnauka.ru/video/42423\n",
      "http://postnauka.ru/video/3418\n",
      "http://postnauka.ru/video/13159\n",
      "http://postnauka.ru/video/22087\n",
      "http://postnauka.ru/video/5198\n"
     ]
    },
    {
     "data": {
      "text/html": [
       "PGgzPtCg0YPRgdGB0LrQuNC5INGP0LfRi9C6PC9oMz4=\n"
      ],
      "text/plain": [
       "<IPython.core.display.HTML object>"
      ]
     },
     "metadata": {},
     "output_type": "display_data"
    },
    {
     "name": "stdout",
     "output_type": "stream",
     "text": [
      "например слово знать понимать текст значение вообще речь получаться взять \n",
      "http://postnauka.ru/video/36272\n",
      "http://postnauka.ru/video/56616\n",
      "http://postnauka.ru/video/48960\n",
      "http://postnauka.ru/video/50793\n",
      "http://postnauka.ru/video/1898\n",
      "http://postnauka.ru/video/57524\n",
      "http://postnauka.ru/video/46559\n",
      "http://postnauka.ru/video/51499\n",
      "http://postnauka.ru/video/56829\n",
      "http://postnauka.ru/video/47548\n"
     ]
    },
    {
     "data": {
      "text/html": [
       "PGgzPtCY0YHRgtC+0YDQuNGPINCk0YDQsNC90YbQuNC4PC9oMz4=\n"
      ],
      "text/plain": [
       "<IPython.core.display.HTML object>"
      ]
     },
     "metadata": {},
     "output_type": "display_data"
    },
    {
     "name": "stdout",
     "output_type": "stream",
     "text": [
      "свой становиться жизнь ситуация действие ничто казаться собственный рамка школа \n",
      "http://postnauka.ru/video/9997\n",
      "http://postnauka.ru/video/12083\n",
      "http://postnauka.ru/video/11634\n",
      "http://postnauka.ru/video/55533\n",
      "http://postnauka.ru/video/54742\n",
      "http://postnauka.ru/video/30265\n",
      "http://postnauka.ru/video/25292\n",
      "http://postnauka.ru/video/48624\n",
      "http://postnauka.ru/video/22079\n",
      "http://postnauka.ru/video/51203\n"
     ]
    },
    {
     "data": {
      "text/html": [
       "PGgzPtCT0L7RgNC+0LQ8L2gzPg==\n"
      ],
      "text/plain": [
       "<IPython.core.display.HTML object>"
      ]
     },
     "metadata": {},
     "output_type": "display_data"
    },
    {
     "name": "stdout",
     "output_type": "stream",
     "text": [
      "вопрос важный современный технология сегодня оставаться сеть понимание проект важно \n",
      "http://postnauka.ru/video/12515\n",
      "http://postnauka.ru/video/13742\n",
      "http://postnauka.ru/video/7068\n",
      "http://postnauka.ru/video/17604\n",
      "http://postnauka.ru/video/47301\n",
      "http://postnauka.ru/video/29812\n",
      "http://postnauka.ru/video/3422\n",
      "http://postnauka.ru/video/8313\n",
      "http://postnauka.ru/video/7541\n",
      "http://postnauka.ru/video/30026\n"
     ]
    },
    {
     "data": {
      "text/html": [
       "PGgzPtCc0LXQtNC40YbQuNC90LA8L2gzPg==\n"
      ],
      "text/plain": [
       "<IPython.core.display.HTML object>"
      ]
     },
     "metadata": {},
     "output_type": "display_data"
    },
    {
     "name": "stdout",
     "output_type": "stream",
     "text": [
      "или проблема либо память заболевание женщина соответственно семья выделять бывать \n",
      "http://postnauka.ru/video/54325\n",
      "http://postnauka.ru/video/2541\n",
      "http://postnauka.ru/video/51384\n",
      "http://postnauka.ru/video/8953\n",
      "http://postnauka.ru/video/9994\n",
      "http://postnauka.ru/video/44263\n",
      "http://postnauka.ru/video/5179\n",
      "http://postnauka.ru/video/55539\n",
      "http://postnauka.ru/video/12974\n",
      "http://postnauka.ru/video/54916\n"
     ]
    },
    {
     "data": {
      "text/html": [
       "PGgzPtCh0L7RhtC40L7Qu9C+0LPQuNGPPC9oMz4=\n"
      ],
      "text/plain": [
       "<IPython.core.display.HTML object>"
      ]
     },
     "metadata": {},
     "output_type": "display_data"
    },
    {
     "name": "stdout",
     "output_type": "stream",
     "text": [
      "некоторый смысл форма число знание правило объект подход описание определение \n",
      "http://postnauka.ru/video/32901\n",
      "http://postnauka.ru/video/11246\n",
      "http://postnauka.ru/video/55303\n",
      "http://postnauka.ru/video/49258\n",
      "http://postnauka.ru/video/3645\n",
      "http://postnauka.ru/video/37984\n",
      "http://postnauka.ru/video/11640\n",
      "http://postnauka.ru/video/53575\n",
      "http://postnauka.ru/video/32669\n",
      "http://postnauka.ru/video/48493\n"
     ]
    },
    {
     "data": {
      "text/html": [
       "PGgzPtCY0L3RgtC10LvQu9C10LrRgjwvaDM+\n"
      ],
      "text/plain": [
       "<IPython.core.display.HTML object>"
      ]
     },
     "metadata": {},
     "output_type": "display_data"
    },
    {
     "name": "stdout",
     "output_type": "stream",
     "text": [
      "задача модель функция решать сообщество схема параметр придумывать специалист матрица \n",
      "http://postnauka.ru/video/52738\n",
      "http://postnauka.ru/video/42416\n",
      "http://postnauka.ru/video/34964\n",
      "http://postnauka.ru/video/2531\n",
      "http://postnauka.ru/video/2947\n",
      "http://postnauka.ru/video/31671\n",
      "http://postnauka.ru/video/15341\n",
      "http://postnauka.ru/video/37976\n",
      "http://postnauka.ru/video/3651\n",
      "http://postnauka.ru/video/9865\n"
     ]
    },
    {
     "data": {
      "text/html": [
       "PGgzPtCc0LjRhNC+0LvQvtCz0LjRjzwvaDM+\n"
      ],
      "text/plain": [
       "<IPython.core.display.HTML object>"
      ]
     },
     "metadata": {},
     "output_type": "display_data"
    },
    {
     "name": "stdout",
     "output_type": "stream",
     "text": [
      "век история культура мир исторический начало традиция эпоха литература христианский \n",
      "http://postnauka.ru/video/3387\n",
      "http://postnauka.ru/video/9429\n",
      "http://postnauka.ru/video/11034\n",
      "http://postnauka.ru/video/12527\n",
      "http://postnauka.ru/video/10751\n",
      "http://postnauka.ru/video/10779\n",
      "http://postnauka.ru/video/5876\n",
      "http://postnauka.ru/video/2524\n",
      "http://postnauka.ru/video/10477\n",
      "http://postnauka.ru/video/49203\n"
     ]
    },
    {
     "data": {
      "text/html": [
       "PGgzPtCb0LjQvdCz0LLQuNGB0YLQuNC60LA8L2gzPg==\n"
      ],
      "text/plain": [
       "<IPython.core.display.HTML object>"
      ]
     },
     "metadata": {},
     "output_type": "display_data"
    },
    {
     "name": "stdout",
     "output_type": "stream",
     "text": [
      "язык русский называться особенность программа устраивать отдельный граница перед английский \n",
      "http://postnauka.ru/video/10773\n",
      "http://postnauka.ru/video/8964\n",
      "http://postnauka.ru/video/13041\n",
      "http://postnauka.ru/video/48114\n",
      "http://postnauka.ru/video/6609\n",
      "http://postnauka.ru/video/51171\n",
      "http://postnauka.ru/video/15343\n",
      "http://postnauka.ru/video/40001\n",
      "http://postnauka.ru/video/14284\n",
      "http://postnauka.ru/video/57879\n"
     ]
    },
    {
     "data": {
      "text/html": [
       "PGgzPtCt0LrQvtC90L7QvNC40LrQsDwvaDM+\n"
      ],
      "text/plain": [
       "<IPython.core.display.HTML object>"
      ]
     },
     "metadata": {},
     "output_type": "display_data"
    },
    {
     "name": "stdout",
     "output_type": "stream",
     "text": [
      "развитие определенный решение роль уровень поведение проводить играть предлагать экономический \n",
      "http://postnauka.ru/video/3605\n",
      "http://postnauka.ru/video/10380\n",
      "http://postnauka.ru/video/7781\n",
      "http://postnauka.ru/video/31684\n",
      "http://postnauka.ru/video/13152\n",
      "http://postnauka.ru/video/3627\n",
      "http://postnauka.ru/video/28278\n",
      "http://postnauka.ru/video/5882\n",
      "http://postnauka.ru/video/9389\n",
      "http://postnauka.ru/video/5465\n"
     ]
    },
    {
     "data": {
      "text/html": [
       "PGgzPtCR0LjQvtC70L7Qs9C40Y88L2gzPg==\n"
      ],
      "text/plain": [
       "<IPython.core.display.HTML object>"
      ]
     },
     "metadata": {},
     "output_type": "display_data"
    },
    {
     "name": "stdout",
     "output_type": "stream",
     "text": [
      "клетка организм ген днк белок молекула биологический животное болезнь генетический \n",
      "http://postnauka.ru/video/5915\n",
      "http://postnauka.ru/video/19436\n",
      "http://postnauka.ru/video/10754\n",
      "http://postnauka.ru/video/9854\n",
      "http://postnauka.ru/video/5390\n",
      "http://postnauka.ru/video/17051\n",
      "http://postnauka.ru/video/35051\n",
      "http://postnauka.ru/video/10475\n",
      "http://postnauka.ru/video/37537\n",
      "http://postnauka.ru/video/22764\n"
     ]
    },
    {
     "data": {
      "text/html": [
       "PGgzPtCe0LHRgNCw0LfQvtCy0LDQvdC40LU8L2gzPg==\n"
      ],
      "text/plain": [
       "<IPython.core.display.HTML object>"
      ]
     },
     "metadata": {},
     "output_type": "display_data"
    },
    {
     "name": "stdout",
     "output_type": "stream",
     "text": [
      "для являться метод работа количество точка принцип возможность ученый основа \n",
      "http://postnauka.ru/video/2973\n",
      "http://postnauka.ru/video/31198\n",
      "http://postnauka.ru/video/31200\n",
      "http://postnauka.ru/video/51380\n",
      "http://postnauka.ru/video/55756\n",
      "http://postnauka.ru/video/10473\n",
      "http://postnauka.ru/video/40889\n",
      "http://postnauka.ru/video/49445\n",
      "http://postnauka.ru/video/36221\n",
      "http://postnauka.ru/video/25119\n"
     ]
    },
    {
     "data": {
      "text/html": [
       "PGgzPtCk0L7QvdC+0LLQsNGPINGC0LXQvNCwPC9oMz4=\n"
      ],
      "text/plain": [
       "<IPython.core.display.HTML object>"
      ]
     },
     "metadata": {},
     "output_type": "display_data"
    },
    {
     "name": "stdout",
     "output_type": "stream",
     "text": [
      "быть что это который этот как мочь такой тот один \n",
      "http://postnauka.ru/video/5602\n",
      "http://postnauka.ru/video/54313\n",
      "http://postnauka.ru/video/51184\n",
      "http://postnauka.ru/video/57336\n",
      "http://postnauka.ru/video/56827\n",
      "http://postnauka.ru/video/49441\n",
      "http://postnauka.ru/video/14282\n",
      "http://postnauka.ru/video/41354\n",
      "http://postnauka.ru/video/21305\n",
      "http://postnauka.ru/video/42436\n"
     ]
    }
   ],
   "source": [
    "# Ваш код\n",
    "for i, theme in enumerate(topic_labels):\n",
    "    display(HTML(\"<h3>%s</h3>\" % theme))\n",
    "    for j in range(10):\n",
    "        print(tokens[model.topic_names[i]][j]),\n",
    "    print('')\n",
    "    for z in range(10):\n",
    "        print(theta.columns[p_d_t_sorted[i,z]])"
   ]
  },
  {
   "cell_type": "markdown",
   "metadata": {},
   "source": [
    "##### Заключение"
   ]
  },
  {
   "cell_type": "markdown",
   "metadata": {},
   "source": [
    "В этом Peer Review мы познакомились с базовыми возможностями библиотеки BigARTM и с методами визуализации тематических моделей. Визуализация тематических моделей - это широкая и активно развивающаяся область научных исследований. Мы рассмотрели только самые простые приемы. Желающие могут попробовать применить [Serendip](http://vep.cs.wisc.edu/serendip/#serendipHero), разработанный в  University of Wisconsin-Madison, к построенной модели. Эта библиотека позволяет максимально полно охарактеризовать темы и написана для языка python. \n",
    "\n",
    "Сделав задание, вы можете выбрать в навигаторе наиболее интересную для вас тему и посмотреть видеолекции :) На Постнауке очень много интересных материалов. "
   ]
  }
 ],
 "metadata": {
  "kernelspec": {
   "display_name": "Python 2",
   "language": "python",
   "name": "python2"
  },
  "language_info": {
   "codemirror_mode": {
    "name": "ipython",
    "version": 2
   },
   "file_extension": ".py",
   "mimetype": "text/x-python",
   "name": "python",
   "nbconvert_exporter": "python",
   "pygments_lexer": "ipython2",
   "version": "2.7.16"
  },
  "toc": {
   "base_numbering": 1,
   "nav_menu": {},
   "number_sections": true,
   "sideBar": true,
   "skip_h1_title": false,
   "title_cell": "Table of Contents",
   "title_sidebar": "Contents",
   "toc_cell": false,
   "toc_position": {},
   "toc_section_display": true,
   "toc_window_display": false
  }
 },
 "nbformat": 4,
 "nbformat_minor": 1
}
